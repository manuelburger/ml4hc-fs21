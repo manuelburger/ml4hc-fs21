{
 "cells": [
  {
   "cell_type": "markdown",
   "metadata": {},
   "source": [
    "### Imports"
   ]
  },
  {
   "cell_type": "code",
   "execution_count": 1,
   "metadata": {
    "collapsed": false,
    "jupyter": {
     "outputs_hidden": false
    },
    "pycharm": {
     "name": "#%%\n"
    }
   },
   "outputs": [],
   "source": [
    "# General\n",
    "from collections import Counter\n",
    "from tempfile import mkdtemp\n",
    "from shutil import rmtree\n",
    "from tqdm.notebook import tqdm\n",
    "\n",
    "import numpy as np\n",
    "import pandas as pd\n",
    "import seaborn as sns\n",
    "import matplotlib.pyplot as plt\n",
    "\n",
    "# Sklearn\n",
    "from sklearn.feature_extraction.text import (\n",
    "    CountVectorizer, TfidfVectorizer)\n",
    "from sklearn.preprocessing import StandardScaler\n",
    "from sklearn.feature_selection import (\n",
    "    SelectKBest, VarianceThreshold, f_classif)\n",
    "from sklearn.linear_model import LogisticRegression\n",
    "from sklearn.pipeline import Pipeline\n",
    "from sklearn.model_selection import GridSearchCV\n",
    "from sklearn.metrics import f1_score, balanced_accuracy_score, make_scorer\n",
    "\n",
    "# Custom\n",
    "from data_io import read_data\n",
    "from utils import label_map, normalize"
   ]
  },
  {
   "cell_type": "code",
   "execution_count": 2,
   "metadata": {
    "collapsed": false,
    "jupyter": {
     "outputs_hidden": false
    },
    "pycharm": {
     "name": "#%%\n"
    }
   },
   "outputs": [],
   "source": [
    "%load_ext autoreload\n",
    "%autoreload 2"
   ]
  },
  {
   "cell_type": "markdown",
   "metadata": {
    "pycharm": {
     "name": "#%% md\n"
    }
   },
   "source": [
    "## Load data"
   ]
  },
  {
   "cell_type": "code",
   "execution_count": 3,
   "metadata": {
    "collapsed": false,
    "jupyter": {
     "outputs_hidden": false
    },
    "pycharm": {
     "name": "#%%\n"
    }
   },
   "outputs": [],
   "source": [
    "texts_train, labels_train = read_data(mode='train')\n",
    "y_train_full = np.asarray([label_map[label] for label in labels_train])"
   ]
  },
  {
   "cell_type": "code",
   "execution_count": 4,
   "metadata": {
    "collapsed": false,
    "jupyter": {
     "outputs_hidden": false
    },
    "pycharm": {
     "name": "#%%\n"
    }
   },
   "outputs": [],
   "source": [
    "texts_val, labels_val = read_data(mode='val')\n",
    "y_val_full = np.asarray([label_map[label] for label in labels_val])"
   ]
  },
  {
   "cell_type": "code",
   "execution_count": 5,
   "metadata": {
    "collapsed": false,
    "jupyter": {
     "outputs_hidden": false
    },
    "pycharm": {
     "name": "#%%\n"
    }
   },
   "outputs": [],
   "source": [
    "texts_test, labels_test = read_data(mode='test')\n",
    "y_test_full = np.asarray([label_map[label] for label in labels_test])"
   ]
  },
  {
   "cell_type": "markdown",
   "metadata": {},
   "source": [
    "#### Class distribution"
   ]
  },
  {
   "cell_type": "code",
   "execution_count": 6,
   "metadata": {
    "collapsed": false,
    "jupyter": {
     "outputs_hidden": false
    },
    "pycharm": {
     "name": "#%%\n"
    }
   },
   "outputs": [
    {
     "data": {
      "text/plain": [
       "<AxesSubplot:ylabel='count'>"
      ]
     },
     "execution_count": 6,
     "metadata": {},
     "output_type": "execute_result"
    },
    {
     "data": {
      "image/png": "[encoded data removed]",
      "text/plain": [
       "<Figure size 432x288 with 1 Axes>"
      ]
     },
     "metadata": {
      "needs_background": "light"
     },
     "output_type": "display_data"
    }
   ],
   "source": [
    "sns.countplot(x=labels_train)"
   ]
  },
  {
   "cell_type": "markdown",
   "metadata": {},
   "source": [
    "## Preprocessing\n",
    "- Clean end-of-line characters\n",
    "- Lowercase\n",
    "- Tokenize\n",
    "- Stopwords removal\n",
    "- Digit replacement"
   ]
  },
  {
   "cell_type": "code",
   "execution_count": 7,
   "metadata": {
    "collapsed": false,
    "jupyter": {
     "outputs_hidden": false
    },
    "pycharm": {
     "name": "#%%\n"
    }
   },
   "outputs": [
    {
     "data": {
      "application/vnd.jupyter.widget-view+json": {
       "model_id": "7c10edff4636483fb46bebade69162e4",
       "version_major": 2,
       "version_minor": 0
      },
      "text/plain": [
       "  0%|          | 0/2211861 [00:00<?, ?it/s]"
      ]
     },
     "metadata": {},
     "output_type": "display_data"
    },
    {
     "data": {
      "application/vnd.jupyter.widget-view+json": {
       "model_id": "ce74cfc5d50845eea97d0fd5d3d6f903",
       "version_major": 2,
       "version_minor": 0
      },
      "text/plain": [
       "  0%|          | 0/28932 [00:00<?, ?it/s]"
      ]
     },
     "metadata": {},
     "output_type": "display_data"
    },
    {
     "data": {
      "application/vnd.jupyter.widget-view+json": {
       "model_id": "99d00bcbe8564d7496440715a9874bdf",
       "version_major": 2,
       "version_minor": 0
      },
      "text/plain": [
       "  0%|          | 0/29493 [00:00<?, ?it/s]"
      ]
     },
     "metadata": {},
     "output_type": "display_data"
    }
   ],
   "source": [
    "normalized_text_train = [normalize(doc, return_string=True) for doc in tqdm(texts_train)]\n",
    "normalized_text_val = [normalize(doc, return_string=True) for doc in tqdm(texts_val)]\n",
    "normalized_text_test = [normalize(doc, return_string=True) for doc in tqdm(texts_test)]"
   ]
  },
  {
   "cell_type": "markdown",
   "metadata": {},
   "source": [
    "## Pipeline\n",
    "Setup an `sklearn` pipeline for hyperparameter search on the tf-idf cut-offs and the logistic regression regularization."
   ]
  },
  {
   "cell_type": "code",
   "execution_count": 8,
   "metadata": {},
   "outputs": [],
   "source": [
    "# TF-IDF\n",
    "tfidf_vectorizer = TfidfVectorizer(\n",
    "    lowercase=False,\n",
    "    # tokenizer = id, # tokenizer=lambda doc: doc,\n",
    "    # max_features=1000,\n",
    "    # ngram_range=(1,2)\n",
    ")"
   ]
  },
  {
   "cell_type": "code",
   "execution_count": 9,
   "metadata": {},
   "outputs": [],
   "source": [
    "# Logistic Regression\n",
    "lr = LogisticRegression(\n",
    "    max_iter=512,\n",
    "    verbose=0,\n",
    "    class_weight = \"balanced\",\n",
    "    random_state = 42,\n",
    "    multi_class = \"multinomial\",\n",
    "    solver = \"saga\" # handles multinomial and l1\n",
    ")"
   ]
  },
  {
   "cell_type": "code",
   "execution_count": 11,
   "metadata": {},
   "outputs": [],
   "source": [
    "pipeline_steps = [\n",
    "    (\"tfidf\", tfidf_vectorizer), # extract tf-idf features\n",
    "    (\"scaler\", StandardScaler(with_mean=False)), # standardize, no normalization, tf-idf already outputs normalized values\n",
    "#     (\"var_thresh\",  VarianceThreshold(threshold=1e-9)) # not used in final version\n",
    "#     (\"kbest\", SelectKBest(f_classif, k=32000)) # not used in final version\n",
    "    (\"clf\", lr)\n",
    "]\n",
    "\n",
    "# Major parameters for grid search\n",
    "# pipeline_params = dict(\n",
    "#     tfidf__max_df = [0.7, 0.8, 0.9, 0.95],\n",
    "#     tfidf__min_df = [1e-5, 1e-4, 1e-2],\n",
    "    \n",
    "#     clf__C = [0.00001, 0.0001, 0.001, 0.01],\n",
    "#     clf__penalty = [\"l2\"] # \"l1\"\n",
    "# )\n",
    "\n",
    "# Best configuration:\n",
    "pipeline_params = dict(\n",
    "    tfidf__max_df = [0.7],\n",
    "    tfidf__min_df = [0.0001],\n",
    "    \n",
    "    clf__C = [0.01],\n",
    "    clf__penalty = [\"l2\"] # \"l1\"\n",
    ")\n",
    "\n",
    "# build pipeline, use caching to improve performance of the grid search (requires a lot of memory)\n",
    "cachedir = mkdtemp()\n",
    "pipeline = Pipeline(pipeline_steps, memory=cachedir)"
   ]
  },
  {
   "cell_type": "markdown",
   "metadata": {},
   "source": [
    "### Grid Search\n",
    "Search hyperparameter space, choose best model based on 5-fold CV F1-micro scores and refit on all data"
   ]
  },
  {
   "cell_type": "code",
   "execution_count": 12,
   "metadata": {},
   "outputs": [],
   "source": [
    "# combine training and validation set as we estimate scores using 5-fold stratified CV\n",
    "texts_train_combined = np.concatenate((normalized_text_train, normalized_text_val))\n",
    "labels_combined = np.concatenate((y_train_full, y_val_full))"
   ]
  },
  {
   "cell_type": "code",
   "execution_count": 13,
   "metadata": {},
   "outputs": [],
   "source": [
    "# sample subset of data for testing and initial exploration\n",
    "# sample = np.random.choice(len(texts_train_combined), size=1000, replace=False)\n",
    "# texts_train_combined = texts_train_combined[sample]\n",
    "# labels_combined = labels_combined[sample]"
   ]
  },
  {
   "cell_type": "code",
   "execution_count": 14,
   "metadata": {},
   "outputs": [
    {
     "name": "stdout",
     "output_type": "stream",
     "text": [
      "Train: 2211861, Val: 28932, Combined: 2240793\n"
     ]
    }
   ],
   "source": [
    "print(f\"Train: {len(normalized_text_train)}, Val: {len(normalized_text_val)}, Combined: {len(texts_train_combined)}\")"
   ]
  },
  {
   "cell_type": "code",
   "execution_count": 15,
   "metadata": {},
   "outputs": [],
   "source": [
    "scoring_function = make_scorer(f1_score, average=\"micro\")"
   ]
  },
  {
   "cell_type": "code",
   "execution_count": 16,
   "metadata": {},
   "outputs": [
    {
     "name": "stdout",
     "output_type": "stream",
     "text": [
      "Fitting 5 folds for each of 1 candidates, totalling 5 fits\n"
     ]
    },
    {
     "name": "stderr",
     "output_type": "stream",
     "text": [
      "/home/burgerm/anaconda3/envs/ml/lib/python3.8/site-packages/sklearn/pipeline.py:303: UserWarning: Persisting input arguments took 18.17s to run.\n",
      "If this happens often in your code, it can cause performance problems \n",
      "(results will be correct in all cases). \n",
      "The reason for this is probably some large input arguments for a wrapped\n",
      " function (e.g. large strings).\n",
      "THIS IS A JOBLIB ISSUE. If you can, kindly provide the joblib's team with an\n",
      " example so that they can fix the problem.\n",
      "  X, fitted_transformer = fit_transform_one_cached(\n"
     ]
    },
    {
     "data": {
      "text/plain": [
       "GridSearchCV(cv=5,\n",
       "             estimator=Pipeline(memory='/tmp/tmpdcfywk79',\n",
       "                                steps=[('tfidf',\n",
       "                                        TfidfVectorizer(lowercase=False)),\n",
       "                                       ('scaler',\n",
       "                                        StandardScaler(with_mean=False)),\n",
       "                                       ('clf',\n",
       "                                        LogisticRegression(class_weight='balanced',\n",
       "                                                           max_iter=512,\n",
       "                                                           multi_class='multinomial',\n",
       "                                                           random_state=42,\n",
       "                                                           solver='saga'))]),\n",
       "             n_jobs=28,\n",
       "             param_grid={'clf__C': [0.01], 'clf__penalty': ['l2'],\n",
       "                         'tfidf__max_df': [0.7], 'tfidf__min_df': [0.0001]},\n",
       "             return_train_score=True,\n",
       "             scoring=make_scorer(f1_score, average=micro), verbose=2)"
      ]
     },
     "execution_count": 16,
     "metadata": {},
     "output_type": "execute_result"
    }
   ],
   "source": [
    "pipeline_grid = GridSearchCV(\n",
    "    estimator = pipeline,\n",
    "    param_grid = pipeline_params,\n",
    "    cv = 5, # does a stratified 5-fold by default\n",
    "    n_jobs = 28,\n",
    "    refit = True, # refit best configuration on all data\n",
    "    scoring=scoring_function,\n",
    "    return_train_score = True,\n",
    "    verbose = 2\n",
    ")\n",
    "\n",
    "pipeline_grid.fit(texts_train_combined, labels_combined)"
   ]
  },
  {
   "cell_type": "code",
   "execution_count": 17,
   "metadata": {},
   "outputs": [
    {
     "name": "stdout",
     "output_type": "stream",
     "text": [
      "Best CV: 0.7681 +/- 0.0004,         Best Training: 0.7774\n"
     ]
    }
   ],
   "source": [
    "print(f\"Best CV: {pipeline_grid.best_score_:.4f} +/- {pipeline_grid.cv_results_['std_test_score'][pipeline_grid.best_index_]:.4f}, \\\n",
    "        Best Training: {pipeline_grid.cv_results_['mean_train_score'][pipeline_grid.best_index_]:.4f}\")"
   ]
  },
  {
   "cell_type": "code",
   "execution_count": 18,
   "metadata": {},
   "outputs": [
    {
     "name": "stdout",
     "output_type": "stream",
     "text": [
      "Best Params {'clf__C': 0.01, 'clf__penalty': 'l2', 'tfidf__max_df': 0.7, 'tfidf__min_df': 0.0001}\n"
     ]
    }
   ],
   "source": [
    "print(\"Best Params\", pipeline_grid.best_params_)"
   ]
  },
  {
   "cell_type": "markdown",
   "metadata": {
    "pycharm": {
     "name": "#%% md\n"
    }
   },
   "source": [
    "### Evaluation\n",
    "Report F1 (micro) score on the test data"
   ]
  },
  {
   "cell_type": "code",
   "execution_count": 19,
   "metadata": {
    "collapsed": false,
    "jupyter": {
     "outputs_hidden": false
    },
    "pycharm": {
     "name": "#%%\n"
    }
   },
   "outputs": [],
   "source": [
    "y_pred_test = pipeline_grid.predict(normalized_text_test)"
   ]
  },
  {
   "cell_type": "code",
   "execution_count": 21,
   "metadata": {},
   "outputs": [
    {
     "name": "stdout",
     "output_type": "stream",
     "text": [
      "F1 Score on Test: 0.7706 (micro), 0.7742 (weighted)\n"
     ]
    }
   ],
   "source": [
    "score_micro = f1_score(y_test_full, y_pred_test, average=\"micro\")\n",
    "score_w = f1_score(y_test_full, y_pred_test, average=\"weighted\")\n",
    "print(f\"F1 Score on Test: {score_micro:.4f} (micro), {score_w:.4f} (weighted)\")"
   ]
  },
  {
   "cell_type": "markdown",
   "metadata": {},
   "source": [
    "#### Store Predictions"
   ]
  },
  {
   "cell_type": "code",
   "execution_count": 22,
   "metadata": {},
   "outputs": [],
   "source": [
    "y_pred_train = pipeline_grid.predict(normalized_text_train)\n",
    "y_pred_val = pipeline_grid.predict(normalized_text_val)\n",
    "y_pred_test = pipeline_grid.predict(normalized_text_test)"
   ]
  },
  {
   "cell_type": "code",
   "execution_count": 23,
   "metadata": {},
   "outputs": [],
   "source": [
    "np.save(\"./predictions/train_tfidf_logreg\", y_pred_train, allow_pickle=True)\n",
    "np.save(\"./predictions/val_tfidf_logreg\", y_pred_val, allow_pickle=True)\n",
    "np.save(\"./predictions/test_tfidf_logreg\", y_pred_test, allow_pickle=True)"
   ]
  },
  {
   "cell_type": "markdown",
   "metadata": {},
   "source": [
    "### Cleanup\n",
    "Remove pipeline caching temp. directory"
   ]
  },
  {
   "cell_type": "code",
   "execution_count": null,
   "metadata": {},
   "outputs": [],
   "source": [
    "# Clear the cache directory when you don't need it anymore\n",
    "rmtree(cachedir)"
   ]
  }
 ],
 "metadata": {
  "kernelspec": {
   "display_name": "Python 3",
   "language": "python",
   "name": "python3"
  },
  "language_info": {
   "codemirror_mode": {
    "name": "ipython",
    "version": 3
   },
   "file_extension": ".py",
   "mimetype": "text/x-python",
   "name": "python",
   "nbconvert_exporter": "python",
   "pygments_lexer": "ipython3",
   "version": "3.8.2"
  },
  "metadata": {
   "interpreter": {
    "hash": "89a762d96eda99f70e99a85e9393056dd8a0d97e11de8075eba6ce85f6e9ad2d"
   }
  }
 },
 "nbformat": 4,
 "nbformat_minor": 4
}
