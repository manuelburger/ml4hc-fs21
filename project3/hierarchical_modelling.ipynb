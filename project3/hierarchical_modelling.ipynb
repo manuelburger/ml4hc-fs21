{
 "cells": [
  {
   "cell_type": "code",
   "execution_count": 1,
   "id": "77a20fd2",
   "metadata": {
    "tags": []
   },
   "outputs": [],
   "source": [
    "# General\n",
    "import os\n",
    "import shutil\n",
    "from collections import Counter\n",
    "from tempfile import mkdtemp\n",
    "from shutil import rmtree\n",
    "from tqdm.notebook import tqdm\n",
    "\n",
    "import numpy as np\n",
    "import pandas as pd\n",
    "import seaborn as sns\n",
    "import matplotlib.pyplot as plt\n",
    "\n",
    "# Sklearn\n",
    "from sklearn.feature_extraction.text import (\n",
    "    CountVectorizer, TfidfVectorizer)\n",
    "from sklearn.preprocessing import StandardScaler\n",
    "from sklearn.feature_selection import (\n",
    "    SelectKBest, VarianceThreshold, f_classif)\n",
    "from sklearn.linear_model import LogisticRegression\n",
    "from sklearn.pipeline import Pipeline\n",
    "from sklearn.model_selection import GridSearchCV\n",
    "from sklearn.metrics import f1_score, balanced_accuracy_score, make_scorer\n",
    "from sklearn.preprocessing import LabelBinarizer\n",
    "\n",
    "import tensorflow as tf\n",
    "import tensorflow.keras\n",
    "from tensorflow.keras.models import Sequential, Model\n",
    "from tensorflow.keras.layers import Dense, Dropout, Flatten, Reshape, GlobalAveragePooling1D, Input, Concatenate\n",
    "from tensorflow.keras.layers import Conv2D, MaxPooling2D, Conv1D, MaxPooling1D, BatchNormalization\n",
    "from tensorflow.keras.utils import to_categorical, plot_model\n",
    "\n",
    "# Custom\n",
    "from data_io import read_data\n",
    "from utils import label_map, normalize\n",
    "\n",
    "from livelossplot import PlotLossesKeras"
   ]
  },
  {
   "cell_type": "code",
   "execution_count": 3,
   "id": "23ec0cfd",
   "metadata": {},
   "outputs": [
    {
     "name": "stdout",
     "output_type": "stream",
     "text": [
      "Num GPUs Available:  1\n"
     ]
    }
   ],
   "source": [
    "# print(\"Num GPUs Available: \", len(tf.config.list_physical_devices('GPU')))"
   ]
  },
  {
   "cell_type": "markdown",
   "id": "a3e00bc6",
   "metadata": {},
   "source": [
    "### Load data"
   ]
  },
  {
   "cell_type": "code",
   "execution_count": 4,
   "id": "bd07b3d6",
   "metadata": {},
   "outputs": [],
   "source": [
    "texts_train, labels_train = read_data(mode='train')\n",
    "y_train_full = np.asarray([label_map[label] for label in labels_train])"
   ]
  },
  {
   "cell_type": "code",
   "execution_count": 5,
   "id": "9df7739d",
   "metadata": {},
   "outputs": [],
   "source": [
    "texts_val, labels_val = read_data(mode='val')\n",
    "y_val_full = np.asarray([label_map[label] for label in labels_val])"
   ]
  },
  {
   "cell_type": "code",
   "execution_count": 6,
   "id": "5406440c",
   "metadata": {},
   "outputs": [],
   "source": [
    "texts_test, labels_test = read_data(mode='test')\n",
    "y_test_full = np.asarray([label_map[label] for label in labels_test])"
   ]
  },
  {
   "cell_type": "markdown",
   "id": "62f2c6c0-1a36-45d3-a9c8-540ac70a6cec",
   "metadata": {},
   "source": [
    "### Configuration"
   ]
  },
  {
   "cell_type": "code",
   "execution_count": 8,
   "id": "c4a11c90-36e2-476f-a1e2-77580a8bd52d",
   "metadata": {},
   "outputs": [],
   "source": [
    "# adjusted label map to account for padding\n",
    "label_map = {\n",
    "    'BACKGROUND': 0,\n",
    "    'CONCLUSIONS': 1,\n",
    "    'METHODS': 2,\n",
    "    'OBJECTIVE': 3,\n",
    "    'RESULTS': 4,\n",
    "    'PAD': 5\n",
    "}"
   ]
  },
  {
   "cell_type": "code",
   "execution_count": 9,
   "id": "65d0f017",
   "metadata": {},
   "outputs": [],
   "source": [
    "N_CLASSES = 6 # 5 + dummy"
   ]
  },
  {
   "cell_type": "code",
   "execution_count": 10,
   "id": "777f0dc4-087d-4c11-8e09-b69e3f579fd4",
   "metadata": {},
   "outputs": [],
   "source": [
    "MAX_LENGTH_ABSTRACT = 51"
   ]
  },
  {
   "cell_type": "markdown",
   "id": "c83ef606-3ecb-4b21-bc6a-fbd47f341ddd",
   "metadata": {},
   "source": [
    "#### Prepare Label Encoder\n",
    "(Consider padding class)"
   ]
  },
  {
   "cell_type": "code",
   "execution_count": 11,
   "id": "945497ba-14ab-4a9d-af2c-4226bd9efbad",
   "metadata": {},
   "outputs": [],
   "source": [
    "labelencoder = LabelBinarizer()\n",
    "labelencoder.classes_ = np.array([0, 1, 2, 3, 4, 5], dtype=object)"
   ]
  },
  {
   "cell_type": "markdown",
   "id": "c823e670",
   "metadata": {},
   "source": [
    "#### Load BERT sentence embeddings\n",
    "Pooled sentence embeddings from pretrained and fine-tuned BERT language model"
   ]
  },
  {
   "cell_type": "code",
   "execution_count": 14,
   "id": "0ec7abf8-ee17-4f1f-8f75-f9cee59123e1",
   "metadata": {},
   "outputs": [],
   "source": [
    "embed_train = np.load(\"./data/train_bert_finetuned_1epoch_embed_unnormalized_preprocessed.npy\", allow_pickle=True)\n",
    "embed_val = np.load(\"./data/val_bert_finetuned_1epoch_embed_unnormalized_preprocessed.npy\", allow_pickle=True)\n",
    "embed_test = np.load(\"./data/test_bert_finetuned_1epoch_embed_unnormalized_preprocessed.npy\", allow_pickle=True)"
   ]
  },
  {
   "cell_type": "markdown",
   "id": "de09e0cc",
   "metadata": {},
   "source": [
    "### Load entire abstracts"
   ]
  },
  {
   "cell_type": "code",
   "execution_count": 15,
   "id": "9fbec437",
   "metadata": {},
   "outputs": [],
   "source": [
    "_, _, train_abstract_texts, train_abstract_targets = read_data(mode='train', return_abstracts=True)"
   ]
  },
  {
   "cell_type": "code",
   "execution_count": 16,
   "id": "80115c88",
   "metadata": {},
   "outputs": [],
   "source": [
    "_, _, val_abstract_texts, val_abstract_targets = read_data(mode='val', return_abstracts=True)"
   ]
  },
  {
   "cell_type": "code",
   "execution_count": 17,
   "id": "7f8f24f0",
   "metadata": {},
   "outputs": [],
   "source": [
    "_, _, test_abstract_texts, test_abstract_targets = read_data(mode='test', return_abstracts=True)"
   ]
  },
  {
   "cell_type": "markdown",
   "id": "f13f5c60-9273-4546-888c-99ff54857550",
   "metadata": {},
   "source": [
    "#### Build list of embeddings for eac abstract"
   ]
  },
  {
   "cell_type": "code",
   "execution_count": 20,
   "id": "3a6707dd",
   "metadata": {},
   "outputs": [],
   "source": [
    "def create_embedding_abstracts(abstract_text, sentence_embeddings):\n",
    "    \n",
    "    start = 0\n",
    "    abstract_embeddings = []\n",
    "    for a in tqdm(abstract_text):\n",
    "        \n",
    "        l = len(a)\n",
    "        abstract_embeddings.append(sentence_embeddings[start:start+l])\n",
    "        start = start + l\n",
    "        \n",
    "    # Sanity check\n",
    "    check = map(lambda x: 0 if len(x[0]) == len(x[1]) else 1, zip(abstract_text, abstract_embeddings))\n",
    "    assert sum(check) == 0, \"Created abstract lengths of embeddings don't match\"\n",
    "    \n",
    "    return abstract_embeddings"
   ]
  },
  {
   "cell_type": "code",
   "execution_count": 21,
   "id": "7d3b3434-5da5-483f-9877-6bf64701fa9f",
   "metadata": {},
   "outputs": [
    {
     "data": {
      "application/vnd.jupyter.widget-view+json": {
       "model_id": "65a713ff5d4349fb9a21cc833ed52574",
       "version_major": 2,
       "version_minor": 0
      },
      "text/plain": [
       "  0%|          | 0/190654 [00:00<?, ?it/s]"
      ]
     },
     "metadata": {},
     "output_type": "display_data"
    },
    {
     "data": {
      "application/vnd.jupyter.widget-view+json": {
       "model_id": "fbf91cb4505a4c5f88ac1be982ec361e",
       "version_major": 2,
       "version_minor": 0
      },
      "text/plain": [
       "  0%|          | 0/2500 [00:00<?, ?it/s]"
      ]
     },
     "metadata": {},
     "output_type": "display_data"
    },
    {
     "data": {
      "application/vnd.jupyter.widget-view+json": {
       "model_id": "f56e2c2a67c749aaa4509acbf0ef300f",
       "version_major": 2,
       "version_minor": 0
      },
      "text/plain": [
       "  0%|          | 0/2500 [00:00<?, ?it/s]"
      ]
     },
     "metadata": {},
     "output_type": "display_data"
    }
   ],
   "source": [
    "# Create list of abstracts with embeddings\n",
    "train_abstract_embed = create_embedding_abstracts(train_abstract_texts, embed_train)\n",
    "val_abstract_embed = create_embedding_abstracts(val_abstract_texts, embed_val)\n",
    "test_abstract_embed = create_embedding_abstracts(test_abstract_texts, embed_test)"
   ]
  },
  {
   "cell_type": "markdown",
   "id": "efc2110e-c429-4f5a-86e0-4c701c1e6baf",
   "metadata": {},
   "source": [
    "##### Find the maximum lengt abstract"
   ]
  },
  {
   "cell_type": "code",
   "execution_count": 22,
   "id": "25c36a39-296d-44e4-adbc-78d68dc246cc",
   "metadata": {},
   "outputs": [
    {
     "name": "stdout",
     "output_type": "stream",
     "text": [
      "Train max length abstract:  51\n",
      "Val max length abstract:  28\n",
      "Test max length abstract:  28\n"
     ]
    }
   ],
   "source": [
    "# Find max length abstract\n",
    "print(\"Train max length abstract: \", max(map(lambda x: len(x), train_abstract_embed)))\n",
    "print(\"Val max length abstract: \", max(map(lambda x: len(x), val_abstract_embed)))\n",
    "print(\"Test max length abstract: \", max(map(lambda x: len(x), test_abstract_embed)))"
   ]
  },
  {
   "cell_type": "markdown",
   "id": "3b77632b-75f8-45f4-a1dd-aa2e009bca35",
   "metadata": {},
   "source": [
    "#### Pad abstracts to maximum length wit 0 embeddings and padding class"
   ]
  },
  {
   "cell_type": "code",
   "execution_count": 23,
   "id": "7b808a53-112e-44a7-9206-ce36e093a720",
   "metadata": {},
   "outputs": [],
   "source": [
    "def pad_to_maxlen(text, labels, maxlen=MAX_LENGTH_ABSTRACT):\n",
    "\n",
    "    text_out = []\n",
    "    labels_out = []\n",
    "    for t, l in tqdm(zip(text, labels), total=len(text)):\n",
    "        \n",
    "        if len(t) < maxlen:\n",
    "            padded_text = np.concatenate((t, np.array([np.zeros(768) for i in range(maxlen-len(t))])), axis=0)\n",
    "            text_out.append(padded_text)\n",
    "            labels_out.append(np.concatenate((l, np.array(['PAD' for i in range(maxlen-len(l))])), axis=0))\n",
    "        else:\n",
    "            text_out.append(t)\n",
    "            labels_out.append(l)\n",
    "        \n",
    "    return text_out, labels_out"
   ]
  },
  {
   "cell_type": "code",
   "execution_count": 24,
   "id": "60c5b606-0ee3-4cd1-b1ec-04354ab1af86",
   "metadata": {},
   "outputs": [
    {
     "data": {
      "application/vnd.jupyter.widget-view+json": {
       "model_id": "d44df0c68e4440f886591c24fcad575c",
       "version_major": 2,
       "version_minor": 0
      },
      "text/plain": [
       "  0%|          | 0/190654 [00:00<?, ?it/s]"
      ]
     },
     "metadata": {},
     "output_type": "display_data"
    },
    {
     "data": {
      "application/vnd.jupyter.widget-view+json": {
       "model_id": "3e40f47394514fccbf0713d104c9b609",
       "version_major": 2,
       "version_minor": 0
      },
      "text/plain": [
       "  0%|          | 0/2500 [00:00<?, ?it/s]"
      ]
     },
     "metadata": {},
     "output_type": "display_data"
    },
    {
     "data": {
      "application/vnd.jupyter.widget-view+json": {
       "model_id": "a3325187cbfa43de8a4decee627144b3",
       "version_major": 2,
       "version_minor": 0
      },
      "text/plain": [
       "  0%|          | 0/2500 [00:00<?, ?it/s]"
      ]
     },
     "metadata": {},
     "output_type": "display_data"
    }
   ],
   "source": [
    "# pad to match longest abstract\n",
    "train_abstract_embed_pad, train_abstract_targets_pad = pad_to_maxlen(train_abstract_embed, train_abstract_targets)\n",
    "val_abstract_embed_pad, val_abstract_targets_pad = pad_to_maxlen(val_abstract_embed, val_abstract_targets)\n",
    "test_abstract_embed_pad, test_abstract_targets_pad = pad_to_maxlen(test_abstract_embed, test_abstract_targets)"
   ]
  },
  {
   "cell_type": "markdown",
   "id": "9ed44eb9-6c90-46bb-815e-ce9252fdbc95",
   "metadata": {},
   "source": [
    "#### One-Hot encode class labels (incl. padding class)"
   ]
  },
  {
   "cell_type": "code",
   "execution_count": 25,
   "id": "9008384d-69cb-4f8b-ab05-d1886faef600",
   "metadata": {},
   "outputs": [
    {
     "data": {
      "application/vnd.jupyter.widget-view+json": {
       "model_id": "cf184cb985b64fbd9f22ff551c9e3417",
       "version_major": 2,
       "version_minor": 0
      },
      "text/plain": [
       "  0%|          | 0/190654 [00:00<?, ?it/s]"
      ]
     },
     "metadata": {},
     "output_type": "display_data"
    },
    {
     "data": {
      "application/vnd.jupyter.widget-view+json": {
       "model_id": "56f2b5e1f6a84ad79ad67541d162ccaf",
       "version_major": 2,
       "version_minor": 0
      },
      "text/plain": [
       "  0%|          | 0/2500 [00:00<?, ?it/s]"
      ]
     },
     "metadata": {},
     "output_type": "display_data"
    },
    {
     "data": {
      "application/vnd.jupyter.widget-view+json": {
       "model_id": "494c70cf481a4e8b9ca3562ed30efbee",
       "version_major": 2,
       "version_minor": 0
      },
      "text/plain": [
       "  0%|          | 0/2500 [00:00<?, ?it/s]"
      ]
     },
     "metadata": {},
     "output_type": "display_data"
    }
   ],
   "source": [
    "# Label Encoding\n",
    "train_abstract_targets_pad = [labelencoder.transform([label_map[label] for label in x]) for x in tqdm(train_abstract_targets_pad)]\n",
    "val_abstract_targets_pad = [labelencoder.transform([label_map[label] for label in x]) for x in tqdm(val_abstract_targets_pad)]\n",
    "test_abstract_targets_pad = [labelencoder.transform([label_map[label] for label in x]) for x in tqdm(test_abstract_targets_pad)]"
   ]
  },
  {
   "cell_type": "markdown",
   "id": "b9017f4e-6983-452d-801a-4787585ee301",
   "metadata": {},
   "source": [
    "#### Create TF Datasets"
   ]
  },
  {
   "cell_type": "code",
   "execution_count": 26,
   "id": "cf68fe89",
   "metadata": {},
   "outputs": [],
   "source": [
    "train_abstract_embed_ds = tf.data.Dataset.from_generator(lambda: train_abstract_embed_pad, tf.float32, output_shapes=(51, 768))\n",
    "val_abstract_embed_ds = tf.data.Dataset.from_generator(lambda: val_abstract_embed_pad, tf.float32, output_shapes=(51, 768))\n",
    "test_abstract_embed_ds = tf.data.Dataset.from_generator(lambda: test_abstract_embed_pad, tf.float32, output_shapes=(51, 768))"
   ]
  },
  {
   "cell_type": "code",
   "execution_count": 27,
   "id": "cfbcba60-1580-4999-a57a-71f0abe5a87f",
   "metadata": {},
   "outputs": [],
   "source": [
    "y_train_ds = tf.data.Dataset.from_generator(lambda: train_abstract_targets_pad, tf.int32, output_shapes=(51, 6))\n",
    "train_ds = tf.data.Dataset.zip((train_abstract_embed_ds, y_train_ds))\n",
    "\n",
    "y_val_ds = tf.data.Dataset.from_generator(lambda: val_abstract_targets_pad, tf.int32, output_shapes=(51, 6))\n",
    "val_ds = tf.data.Dataset.zip((val_abstract_embed_ds, y_val_ds))\n",
    "\n",
    "y_test_ds = tf.data.Dataset.from_generator(lambda: test_abstract_targets_pad, tf.int32, output_shapes=(51, 6))\n",
    "test_ds = tf.data.Dataset.zip((test_abstract_embed_ds, y_test_ds))"
   ]
  },
  {
   "cell_type": "code",
   "execution_count": 90,
   "id": "eecbc87f",
   "metadata": {},
   "outputs": [],
   "source": [
    "# Check length\n",
    "# print(\"Train max length abstract: \", max(map(lambda x: len(x), train_abstract_embed_pad)))\n",
    "# print(\"Val max length abstract: \", max(map(lambda x: len(x), val_abstract_embed_pad)))\n",
    "# print(\"Test max length abstract: \", max(map(lambda x: len(x), test_abstract_embed_pad)))"
   ]
  },
  {
   "cell_type": "markdown",
   "id": "0026a503-012c-4968-b985-de5481da59da",
   "metadata": {},
   "source": [
    "### RNN Training\n",
    "Build a bidirectional RNN to predict a complete label sequence for each abstract"
   ]
  },
  {
   "cell_type": "code",
   "execution_count": 65,
   "id": "ca047ab5-7d96-4ec3-a042-7f45cc119ab3",
   "metadata": {},
   "outputs": [],
   "source": [
    "def sentence_classifier(embeddingsize=768):\n",
    "    \n",
    "    inputs = Input(shape=(51, embeddingsize,))\n",
    "    \n",
    "    x = tf.keras.layers.Bidirectional(tf.keras.layers.LSTM(64, return_sequences=True))(inputs)\n",
    "    \n",
    "    x = Dense(32, activation='relu')(x)\n",
    "    \n",
    "    output = Dense(N_CLASSES, activation=\"softmax\")(x)\n",
    "    \n",
    "    model = Model(inputs=inputs, outputs=output)\n",
    "    \n",
    "    return model"
   ]
  },
  {
   "cell_type": "code",
   "execution_count": 66,
   "id": "125e02c3",
   "metadata": {},
   "outputs": [
    {
     "name": "stdout",
     "output_type": "stream",
     "text": [
      "Model: \"model_1\"\n",
      "_________________________________________________________________\n",
      "Layer (type)                 Output Shape              Param #   \n",
      "=================================================================\n",
      "input_2 (InputLayer)         [(None, 51, 768)]         0         \n",
      "_________________________________________________________________\n",
      "bidirectional_1 (Bidirection (None, 51, 128)           426496    \n",
      "_________________________________________________________________\n",
      "dense_2 (Dense)              (None, 51, 32)            4128      \n",
      "_________________________________________________________________\n",
      "dense_3 (Dense)              (None, 51, 6)             198       \n",
      "=================================================================\n",
      "Total params: 430,822\n",
      "Trainable params: 430,822\n",
      "Non-trainable params: 0\n",
      "_________________________________________________________________\n"
     ]
    },
    {
     "data": {
      "image/png": "[encoded data removed]",
      "text/plain": [
       "<IPython.core.display.Image object>"
      ]
     },
     "execution_count": 66,
     "metadata": {},
     "output_type": "execute_result"
    }
   ],
   "source": [
    "sentence_model = sentence_classifier()\n",
    "\n",
    "sentence_model.summary()\n",
    "tf.keras.utils.plot_model(sentence_model, show_shapes=True)"
   ]
  },
  {
   "cell_type": "markdown",
   "id": "1b8deedb-4a4b-4b98-8b1a-e0a694d3e125",
   "metadata": {},
   "source": [
    "#### Compile model"
   ]
  },
  {
   "cell_type": "code",
   "execution_count": 67,
   "id": "0f7a1880",
   "metadata": {},
   "outputs": [],
   "source": [
    "sentence_model.compile(\n",
    "    loss='categorical_crossentropy',\n",
    "    optimizer='adam',\n",
    "    metrics=['accuracy']\n",
    ")"
   ]
  },
  {
   "cell_type": "markdown",
   "id": "86875f56-9202-4cf9-a690-d423a0fea07b",
   "metadata": {},
   "source": [
    "#### Custom Metric Callback\n",
    "to monitor relevant scores on the entire validation set"
   ]
  },
  {
   "cell_type": "code",
   "execution_count": 68,
   "id": "536efa23-6c8a-4c15-ada6-b6b17c22c1b4",
   "metadata": {},
   "outputs": [],
   "source": [
    "class MetricCallback(tf.keras.callbacks.Callback):\n",
    "    \n",
    "    def __init__(self, X, y):\n",
    "        \n",
    "        self.X = X\n",
    "        self.y = y\n",
    "\n",
    "    def on_epoch_end(self, epoch, logs=None):\n",
    "        \n",
    "        y_proba = self.model.predict(self.X.batch(64))\n",
    "        y_pred_out = []\n",
    "        y_true_out = []\n",
    "        for true, proba in zip(self.y, y_proba):\n",
    "\n",
    "            length = len(true)\n",
    "            cut = proba[:length]\n",
    "            \n",
    "            labels = np.argmax(np.array(cut), axis=1)\n",
    "            labels_second = np.argsort(np.array(cut), axis=-1)[:,-2]\n",
    "\n",
    "        \n",
    "#             labels = [4 if l == 5 else l for l in labels] # impute with majority class\n",
    "            labels = [l_sec if l == 5 else l for l, l_sec in zip(labels, labels_second)] # impute with second highest prob.\n",
    "            \n",
    "            y_pred_out = y_pred_out + labels\n",
    "\n",
    "            y_true_out = y_true_out + [label_map[label] for label in true]\n",
    "\n",
    "        y_pred = y_pred_out\n",
    "        y_true = y_true_out\n",
    "\n",
    "        f1_macro = f1_score(y_true, y_pred, average=\"macro\")\n",
    "        f1_weighted = f1_score(y_true, y_pred, average=\"weighted\")\n",
    "        f1_micro = f1_score(y_true, y_pred, average=\"micro\")\n",
    "        bac = balanced_accuracy_score(y_true, y_pred)\n",
    "        \n",
    "        print(f\"Epoch {epoch} validation scores -> F1 (weighted): {f1_weighted}, F1 (micro): {f1_micro}, BAC: {bac}\")\n",
    "        \n",
    "        logs[\"val_f1_macro\"] = f1_macro\n",
    "        logs[\"val_f1_weighted\"] = f1_weighted\n",
    "        logs[\"val_f1_micro\"] = f1_micro\n",
    "        logs[\"val_bac\"] = bac"
   ]
  },
  {
   "cell_type": "markdown",
   "id": "e0264389-cf11-4750-9e4c-f82f6da01773",
   "metadata": {},
   "source": [
    "#### Training\n",
    "- Use early stopping to prevent overfitting"
   ]
  },
  {
   "cell_type": "code",
   "execution_count": 69,
   "id": "71e5ab24",
   "metadata": {},
   "outputs": [
    {
     "data": {
      "image/png": "[encoded data removed]",
      "text/plain": [
       "<Figure size 864x576 with 2 Axes>"
      ]
     },
     "metadata": {
      "needs_background": "light"
     },
     "output_type": "display_data"
    },
    {
     "name": "stdout",
     "output_type": "stream",
     "text": [
      "accuracy\n",
      "\ttraining         \t (min:    0.980, max:    0.989, cur:    0.989)\n",
      "\tvalidation       \t (min:    0.986, max:    0.987, cur:    0.987)\n",
      "Loss\n",
      "\ttraining         \t (min:    0.029, max:    0.095, cur:    0.029)\n",
      "\tvalidation       \t (min:    0.031, max:    0.037, cur:    0.031)\n",
      "Epoch 12 validation scores -> F1 (weighted): 0.9440071318563177, F1 (micro): 0.9442140190792202, BAC: 0.9021946735499137\n",
      "Restoring model weights from the end of the best epoch.\n",
      "Epoch 00013: early stopping\n"
     ]
    }
   ],
   "source": [
    "BATCH_SIZE = 512\n",
    "EPOCHS = 15\n",
    "\n",
    "es_callback = tf.keras.callbacks.EarlyStopping(\n",
    "    monitor='val_loss', patience=2, verbose=1,\n",
    "    mode='min', restore_best_weights=True\n",
    ")\n",
    "\n",
    "history = sentence_model.fit(\n",
    "    x=train_ds.batch(BATCH_SIZE),\n",
    "    epochs=EPOCHS,\n",
    "    validation_data=val_ds.batch(BATCH_SIZE),\n",
    "    callbacks=[\n",
    "        PlotLossesKeras(),\n",
    "        MetricCallback(val_ds, val_abstract_targets),\n",
    "        es_callback\n",
    "    ],\n",
    "    verbose=1\n",
    ")"
   ]
  },
  {
   "cell_type": "markdown",
   "id": "2f0d2842-220d-4630-abdc-b658d9079724",
   "metadata": {},
   "source": [
    "#### Plot F1 score training progression"
   ]
  },
  {
   "cell_type": "code",
   "execution_count": 91,
   "id": "54c2950b-17f0-4aa2-9697-aa1ccc560104",
   "metadata": {},
   "outputs": [
    {
     "data": {
      "text/plain": [
       "<AxesSubplot:xlabel='epochs'>"
      ]
     },
     "execution_count": 91,
     "metadata": {},
     "output_type": "execute_result"
    },
    {
     "data": {
      "image/png": "[encoded data removed]",
      "text/plain": [
       "<Figure size 432x288 with 1 Axes>"
      ]
     },
     "metadata": {
      "needs_background": "light"
     },
     "output_type": "display_data"
    }
   ],
   "source": [
    "data = {\n",
    "    \"epochs\": list(range(len(history.history[\"loss\"]))),\n",
    "    \"loss\" : history.history[\"loss\"],\n",
    "    \"val_loss\" : history.history[\"val_loss\"],\n",
    "    \"f1_weighted\" : history.history[\"val_f1_weighted\"],\n",
    "    \"f1_micro\" : history.history[\"val_f1_micro\"],\n",
    "#     \"bac\" : history.history[\"val_bac\"],\n",
    "}\n",
    "\n",
    "df = pd.DataFrame(data)\n",
    "\n",
    "df.plot(x=\"epochs\", y=[\"f1_micro\", \"f1_weighted\"])"
   ]
  },
  {
   "cell_type": "markdown",
   "id": "94de9efa-f8e8-43f3-8355-7fd5d87fda8a",
   "metadata": {},
   "source": [
    "#### Store model\n",
    "Please reach out to us, if you would like the trained model for examination"
   ]
  },
  {
   "cell_type": "code",
   "execution_count": null,
   "id": "ccf0fe92-581e-4134-9e24-dd77933aa137",
   "metadata": {},
   "outputs": [],
   "source": [
    "# sentence_model.save(\"./models/sentence_model_bert_finetuned_embeddings_final\")"
   ]
  },
  {
   "cell_type": "markdown",
   "id": "9e346a8f-4f99-478d-aee5-49a9175a6a09",
   "metadata": {},
   "source": [
    "### Evaluate and store predictions\n",
    "During prediction we cut the sequences back to original length, predicted padding classes within the abstracts are replaced with the class with the second highest probability according to the model"
   ]
  },
  {
   "cell_type": "code",
   "execution_count": 85,
   "id": "74539682-6486-425b-ae86-028c92d7a8a9",
   "metadata": {},
   "outputs": [],
   "source": [
    "def predict_score_remove_padding(y_true, X, model=sentence_model, store_pred=False, split=None):\n",
    "    \n",
    "    y_proba = model.predict(X.batch(64))\n",
    "    y_pred_out = []\n",
    "    y_true_out = []\n",
    "    for true, proba in tqdm(zip(y_true, y_proba), total=len(y_true)):\n",
    "        \n",
    "        length = len(true)\n",
    "        cut = proba[:length]\n",
    "        \n",
    "        labels = np.argmax(np.array(cut), axis=1)\n",
    "        labels_second = np.argsort(np.array(cut), axis=-1)[:,-2]\n",
    "        \n",
    "#         labels = [4 if l == 5 else l for l in labels] # impute with majority class\n",
    "        labels = [l_sec if l == 5 else l for l, l_sec in zip(labels, labels_second)] # impute with second highest prob.\n",
    "        \n",
    "        y_pred_out = y_pred_out + labels\n",
    "\n",
    "        y_true_out = y_true_out + [label_map[label] for label in true]\n",
    "    \n",
    "    if store_pred and split:\n",
    "        print(f\"Store {split}\", np.array(y_pred_out).shape)\n",
    "        np.save(f\"./predictions/{split}_sentence_model_bert_finetuned_embeddings\", np.array(y_pred_out), allow_pickle=True)\n",
    "    \n",
    "    score_weigh = f1_score(y_true_out, y_pred_out, average=\"weighted\")\n",
    "    score_micro = f1_score(y_true_out, y_pred_out, average=\"micro\")\n",
    "    print(f\"F1 (weigh): {score_weigh}, F1 (micro): {score_micro}\")\n",
    "    \n",
    "    return score_weigh, score_micro"
   ]
  },
  {
   "cell_type": "code",
   "execution_count": 86,
   "id": "f63e9f95-0079-45a8-b5e2-2becd5ef6909",
   "metadata": {},
   "outputs": [
    {
     "data": {
      "application/vnd.jupyter.widget-view+json": {
       "model_id": "ba46f65faad74fdbaca98e35de2b8bcc",
       "version_major": 2,
       "version_minor": 0
      },
      "text/plain": [
       "  0%|          | 0/2500 [00:00<?, ?it/s]"
      ]
     },
     "metadata": {},
     "output_type": "display_data"
    },
    {
     "name": "stdout",
     "output_type": "stream",
     "text": [
      "Store val (28932,)\n",
      "F1 (weigh): 0.9440409135026058, F1 (micro): 0.9442485828840038\n"
     ]
    },
    {
     "data": {
      "text/plain": [
       "(0.9440409135026058, 0.9442485828840038)"
      ]
     },
     "execution_count": 86,
     "metadata": {},
     "output_type": "execute_result"
    }
   ],
   "source": [
    "predict_score_remove_padding(val_abstract_targets, val_ds, store_pred=True, split=\"val\")"
   ]
  },
  {
   "cell_type": "code",
   "execution_count": 87,
   "id": "d14965f7-02d7-4930-9018-6436ecfafd58",
   "metadata": {},
   "outputs": [
    {
     "data": {
      "application/vnd.jupyter.widget-view+json": {
       "model_id": "1a14e44f783544fc8a4621fada4d3dda",
       "version_major": 2,
       "version_minor": 0
      },
      "text/plain": [
       "  0%|          | 0/2500 [00:00<?, ?it/s]"
      ]
     },
     "metadata": {},
     "output_type": "display_data"
    },
    {
     "name": "stdout",
     "output_type": "stream",
     "text": [
      "Store test (29493,)\n",
      "F1 (weigh): 0.9436625162728972, F1 (micro): 0.9438510833079036\n"
     ]
    },
    {
     "data": {
      "text/plain": [
       "(0.9436625162728972, 0.9438510833079036)"
      ]
     },
     "execution_count": 87,
     "metadata": {},
     "output_type": "execute_result"
    }
   ],
   "source": [
    "predict_score_remove_padding(test_abstract_targets, test_ds, store_pred=True, split=\"test\")"
   ]
  },
  {
   "cell_type": "code",
   "execution_count": 88,
   "id": "738ae13c-3432-4292-8fb0-84f6c04f7f0b",
   "metadata": {},
   "outputs": [
    {
     "data": {
      "application/vnd.jupyter.widget-view+json": {
       "model_id": "09f51da149c6435995be359b72dd3eab",
       "version_major": 2,
       "version_minor": 0
      },
      "text/plain": [
       "  0%|          | 0/190654 [00:00<?, ?it/s]"
      ]
     },
     "metadata": {},
     "output_type": "display_data"
    },
    {
     "name": "stdout",
     "output_type": "stream",
     "text": [
      "Store train (2211861,)\n",
      "F1 (weigh): 0.9480378506046654, F1 (micro): 0.9482200735037147\n"
     ]
    },
    {
     "data": {
      "text/plain": [
       "(0.9480378506046654, 0.9482200735037147)"
      ]
     },
     "execution_count": 88,
     "metadata": {},
     "output_type": "execute_result"
    }
   ],
   "source": [
    "predict_score_remove_padding(train_abstract_targets, train_ds, store_pred=True, split=\"train\")"
   ]
  }
 ],
 "metadata": {
  "kernelspec": {
   "display_name": "Python 3",
   "language": "python",
   "name": "python3"
  },
  "language_info": {
   "codemirror_mode": {
    "name": "ipython",
    "version": 3
   },
   "file_extension": ".py",
   "mimetype": "text/x-python",
   "name": "python",
   "nbconvert_exporter": "python",
   "pygments_lexer": "ipython3",
   "version": "3.8.2"
  }
 },
 "nbformat": 4,
 "nbformat_minor": 5
}
