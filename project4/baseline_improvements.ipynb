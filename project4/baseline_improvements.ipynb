{
 "cells": [
  {
   "cell_type": "markdown",
   "source": [
    "##### Imports"
   ],
   "metadata": {
    "collapsed": false
   }
  },
  {
   "cell_type": "code",
   "execution_count": 1,
   "outputs": [],
   "source": [
    "import numpy as np\n",
    "import pandas as pd\n",
    "import h5py\n",
    "\n",
    "from keras.callbacks import ModelCheckpoint, EarlyStopping, ReduceLROnPlateau\n",
    "\n",
    "from tqdm.keras import TqdmCallback\n",
    "\n",
    "import wandb\n",
    "from wandb.keras import WandbCallback\n",
    "\n",
    "from model_parts import (\n",
    "    get_baseline_cnn_model, get_basic_cnn_model, get_basic_rnn_model)\n",
    "from data_io import get_data\n",
    "from utils import save_predictions, compute_metrics, display_result"
   ],
   "metadata": {
    "collapsed": false,
    "pycharm": {
     "name": "#%%\n"
    }
   }
  },
  {
   "cell_type": "code",
   "execution_count": 2,
   "outputs": [],
   "source": [
    "%load_ext autoreload\n",
    "%autoreload 2"
   ],
   "metadata": {
    "collapsed": false,
    "pycharm": {
     "name": "#%%\n"
    }
   }
  },
  {
   "cell_type": "markdown",
   "source": [],
   "metadata": {
    "collapsed": false
   }
  },
  {
   "cell_type": "markdown",
   "source": [
    "#### Load data"
   ],
   "metadata": {
    "collapsed": false
   }
  },
  {
   "cell_type": "code",
   "execution_count": 3,
   "outputs": [],
   "source": [
    "X_train_mit, y_train_mit, X_test_mit, y_test_mit = get_data(dataset='mitbih')"
   ],
   "metadata": {
    "collapsed": false,
    "pycharm": {
     "name": "#%%\n"
    }
   }
  },
  {
   "cell_type": "code",
   "execution_count": 4,
   "outputs": [],
   "source": [
    "X_train_pt, y_train_pt, X_test_pt, y_test_pt = get_data(dataset='ptbdb')"
   ],
   "metadata": {
    "collapsed": false,
    "pycharm": {
     "name": "#%%\n"
    }
   }
  },
  {
   "cell_type": "markdown",
   "source": [
    "# Modified CNN Model"
   ],
   "metadata": {
    "collapsed": false
   }
  },
  {
   "cell_type": "markdown",
   "source": [
    "## MIT BIH"
   ],
   "metadata": {
    "collapsed": false
   }
  },
  {
   "cell_type": "markdown",
   "source": [
    "#### W&B setup"
   ],
   "metadata": {
    "collapsed": false
   }
  },
  {
   "cell_type": "code",
   "execution_count": 25,
   "outputs": [
    {
     "name": "stderr",
     "output_type": "stream",
     "text": [
      "\u001B[34m\u001B[1mwandb\u001B[0m: wandb version 0.10.31 is available!  To upgrade, please run:\n",
      "\u001B[34m\u001B[1mwandb\u001B[0m:  $ pip install wandb --upgrade\n"
     ]
    },
    {
     "data": {
      "text/plain": "<IPython.core.display.HTML object>",
      "text/html": "\n                Tracking run with wandb version 0.10.27<br/>\n                Syncing run <strong style=\"color:#cdcd00\">misty-fog-106</strong> to <a href=\"https://wandb.ai\" target=\"_blank\">Weights & Biases</a> <a href=\"https://docs.wandb.com/integrations/jupyter.html\" target=\"_blank\">(Documentation)</a>.<br/>\n                Project page: <a href=\"https://wandb.ai/anej/ML4HC-project4\" target=\"_blank\">https://wandb.ai/anej/ML4HC-project4</a><br/>\n                Run page: <a href=\"https://wandb.ai/anej/ML4HC-project4/runs/2ny6puzm\" target=\"_blank\">https://wandb.ai/anej/ML4HC-project4/runs/2ny6puzm</a><br/>\n                Run data is saved locally in <code>/cluster/scratch/asvete/project4/wandb/run-20210604_223440-2ny6puzm</code><br/><br/>\n            "
     },
     "metadata": {},
     "output_type": "display_data"
    }
   ],
   "source": [
    "run = wandb.init(\n",
    "    project='ML4HC-project4',\n",
    "    config={\n",
    "        'epochs': 128,\n",
    "        'batch_size': 32,\n",
    "        'loss_function': 'sparse_categorical_crossentropy',\n",
    "        'architecture': 'Basic CNN',\n",
    "        'dataset': 'MITBIH',\n",
    "        'mode': 'training',\n",
    "        'ndims': [32, 128, 128, 256],\n",
    "        'kernel_sizes': [5, 5, 3, 3],\n",
    "        'dropout': 0.2,\n",
    "        'dense_size': 128,\n",
    "        'learning_rate': 1e-3,\n",
    "        'schedule_lr': False\n",
    "    })\n",
    "\n",
    "config_mit = wandb.config"
   ],
   "metadata": {
    "collapsed": false,
    "pycharm": {
     "name": "#%%\n"
    }
   }
  },
  {
   "cell_type": "markdown",
   "source": [
    "#### Model"
   ],
   "metadata": {
    "collapsed": false
   }
  },
  {
   "cell_type": "code",
   "execution_count": 26,
   "outputs": [
    {
     "name": "stdout",
     "output_type": "stream",
     "text": [
      "Model: \"functional_9\"\n",
      "_________________________________________________________________\n",
      "Layer (type)                 Output Shape              Param #   \n",
      "=================================================================\n",
      "input_5 (InputLayer)         [(None, 187, 1)]          0         \n",
      "_________________________________________________________________\n",
      "conv1d_32 (Conv1D)           (None, 183, 32)           192       \n",
      "_________________________________________________________________\n",
      "conv1d_33 (Conv1D)           (None, 179, 32)           5152      \n",
      "_________________________________________________________________\n",
      "max_pooling1d_13 (MaxPooling (None, 89, 32)            0         \n",
      "_________________________________________________________________\n",
      "dropout_17 (Dropout)         (None, 89, 32)            0         \n",
      "_________________________________________________________________\n",
      "conv1d_34 (Conv1D)           (None, 85, 128)           20608     \n",
      "_________________________________________________________________\n",
      "conv1d_35 (Conv1D)           (None, 81, 128)           82048     \n",
      "_________________________________________________________________\n",
      "max_pooling1d_14 (MaxPooling (None, 40, 128)           0         \n",
      "_________________________________________________________________\n",
      "dropout_18 (Dropout)         (None, 40, 128)           0         \n",
      "_________________________________________________________________\n",
      "conv1d_36 (Conv1D)           (None, 38, 128)           49280     \n",
      "_________________________________________________________________\n",
      "conv1d_37 (Conv1D)           (None, 36, 128)           49280     \n",
      "_________________________________________________________________\n",
      "max_pooling1d_15 (MaxPooling (None, 18, 128)           0         \n",
      "_________________________________________________________________\n",
      "dropout_19 (Dropout)         (None, 18, 128)           0         \n",
      "_________________________________________________________________\n",
      "conv1d_38 (Conv1D)           (None, 16, 256)           98560     \n",
      "_________________________________________________________________\n",
      "conv1d_39 (Conv1D)           (None, 14, 256)           196864    \n",
      "_________________________________________________________________\n",
      "max_pooling1d_16 (MaxPooling (None, 7, 256)            0         \n",
      "_________________________________________________________________\n",
      "dropout_20 (Dropout)         (None, 7, 256)            0         \n",
      "_________________________________________________________________\n",
      "global_max_pooling1d_4 (Glob (None, 256)               0         \n",
      "_________________________________________________________________\n",
      "dropout_21 (Dropout)         (None, 256)               0         \n",
      "_________________________________________________________________\n",
      "dense_1 (Dense)              (None, 128)               32896     \n",
      "_________________________________________________________________\n",
      "dense_2 (Dense)              (None, 128)               16512     \n",
      "_________________________________________________________________\n",
      "dense_3 (Dense)              (None, 5)                 645       \n",
      "=================================================================\n",
      "Total params: 552,037\n",
      "Trainable params: 552,037\n",
      "Non-trainable params: 0\n",
      "_________________________________________________________________\n"
     ]
    }
   ],
   "source": [
    "original_model = get_basic_cnn_model(config_mit, nclass=5)"
   ],
   "metadata": {
    "collapsed": false,
    "pycharm": {
     "name": "#%%\n"
    }
   }
  },
  {
   "cell_type": "code",
   "execution_count": 27,
   "outputs": [],
   "source": [
    "file_path_mit = './models/basic_cnn/cnn_mitbih.h5'\n",
    "\n",
    "checkpoint = ModelCheckpoint(\n",
    "    file_path_mit, monitor='val_acc', verbose=1,\n",
    "    save_best_only=True, mode='max')\n",
    "early = EarlyStopping(\n",
    "    monitor='val_acc', mode='max', patience=5, verbose=1)\n",
    "redonplat = ReduceLROnPlateau(\n",
    "    monitor='val_acc', mode='max', patience=3, verbose=2)"
   ],
   "metadata": {
    "collapsed": false,
    "pycharm": {
     "name": "#%%\n"
    }
   }
  },
  {
   "cell_type": "markdown",
   "source": [
    "#### Training"
   ],
   "metadata": {
    "collapsed": false
   }
  },
  {
   "cell_type": "code",
   "execution_count": 28,
   "outputs": [
    {
     "data": {
      "text/plain": "HBox(children=(FloatProgress(value=1.0, bar_style='info', layout=Layout(width='20px'), max=1.0), HTML(value=''…",
      "application/vnd.jupyter.widget-view+json": {
       "version_major": 2,
       "version_minor": 0,
       "model_id": "fc4f62a36436497f978aafc3e0a66307"
      }
     },
     "metadata": {},
     "output_type": "display_data"
    },
    {
     "data": {
      "text/plain": "HBox(children=(FloatProgress(value=1.0, bar_style='info', layout=Layout(width='20px'), max=1.0), HTML(value=''…",
      "application/vnd.jupyter.widget-view+json": {
       "version_major": 2,
       "version_minor": 0,
       "model_id": "df184fd5a6724614b5b3fc78fcf4f002"
      }
     },
     "metadata": {},
     "output_type": "display_data"
    },
    {
     "name": "stdout",
     "output_type": "stream",
     "text": [
      "\n",
      "Epoch 00001: val_acc improved from -inf to 0.95683, saving model to ./models/basic_cnn/cnn_mitbih.h5\n",
      "\n",
      "Epoch 00002: val_acc improved from 0.95683 to 0.97088, saving model to ./models/basic_cnn/cnn_mitbih.h5\n",
      "\n",
      "Epoch 00003: val_acc improved from 0.97088 to 0.97487, saving model to ./models/basic_cnn/cnn_mitbih.h5\n",
      "\n",
      "Epoch 00004: val_acc improved from 0.97487 to 0.97773, saving model to ./models/basic_cnn/cnn_mitbih.h5\n",
      "\n",
      "Epoch 00005: val_acc improved from 0.97773 to 0.98024, saving model to ./models/basic_cnn/cnn_mitbih.h5\n",
      "\n",
      "Epoch 00006: val_acc improved from 0.98024 to 0.98196, saving model to ./models/basic_cnn/cnn_mitbih.h5\n",
      "\n",
      "Epoch 00007: val_acc improved from 0.98196 to 0.98230, saving model to ./models/basic_cnn/cnn_mitbih.h5\n",
      "\n",
      "Epoch 00008: val_acc did not improve from 0.98230\n",
      "\n",
      "Epoch 00009: val_acc improved from 0.98230 to 0.98424, saving model to ./models/basic_cnn/cnn_mitbih.h5\n",
      "\n",
      "Epoch 00010: val_acc did not improve from 0.98424\n",
      "\n",
      "Epoch 00011: val_acc did not improve from 0.98424\n",
      "\n",
      "Epoch 00012: val_acc did not improve from 0.98424\n",
      "\n",
      "Epoch 00012: ReduceLROnPlateau reducing learning rate to 0.00010000000474974513.\n",
      "\n",
      "Epoch 00013: val_acc improved from 0.98424 to 0.98744, saving model to ./models/basic_cnn/cnn_mitbih.h5\n",
      "\n",
      "Epoch 00014: val_acc improved from 0.98744 to 0.98824, saving model to ./models/basic_cnn/cnn_mitbih.h5\n",
      "\n",
      "Epoch 00015: val_acc improved from 0.98824 to 0.98835, saving model to ./models/basic_cnn/cnn_mitbih.h5\n",
      "\n",
      "Epoch 00016: val_acc did not improve from 0.98835\n",
      "\n",
      "Epoch 00017: val_acc improved from 0.98835 to 0.98915, saving model to ./models/basic_cnn/cnn_mitbih.h5\n",
      "\n",
      "Epoch 00018: val_acc did not improve from 0.98915\n",
      "\n",
      "Epoch 00019: val_acc did not improve from 0.98915\n",
      "\n",
      "Epoch 00020: val_acc improved from 0.98915 to 0.98938, saving model to ./models/basic_cnn/cnn_mitbih.h5\n",
      "\n",
      "Epoch 00021: val_acc did not improve from 0.98938\n",
      "\n",
      "Epoch 00022: val_acc did not improve from 0.98938\n",
      "\n",
      "Epoch 00023: val_acc did not improve from 0.98938\n",
      "\n",
      "Epoch 00023: ReduceLROnPlateau reducing learning rate to 1.0000000474974514e-05.\n",
      "\n",
      "Epoch 00024: val_acc did not improve from 0.98938\n",
      "\n",
      "Epoch 00025: val_acc improved from 0.98938 to 0.98961, saving model to ./models/basic_cnn/cnn_mitbih.h5\n",
      "\n",
      "Epoch 00026: val_acc did not improve from 0.98961\n",
      "\n",
      "Epoch 00027: val_acc did not improve from 0.98961\n",
      "\n",
      "Epoch 00028: val_acc did not improve from 0.98961\n",
      "\n",
      "Epoch 00028: ReduceLROnPlateau reducing learning rate to 1.0000000656873453e-06.\n",
      "\n",
      "Epoch 00029: val_acc did not improve from 0.98961\n",
      "\n",
      "Epoch 00030: val_acc did not improve from 0.98961\n",
      "Epoch 00030: early stopping\n",
      "\n"
     ]
    }
   ],
   "source": [
    "history = original_model.fit(\n",
    "    X_train_mit, y_train_mit,\n",
    "    epochs=config_mit.epochs,\n",
    "    batch_size=config_mit.batch_size,\n",
    "    verbose=0,\n",
    "    callbacks=[\n",
    "        checkpoint, early, redonplat,\n",
    "        WandbCallback(), TqdmCallback(verbose=1)],\n",
    "    validation_split=0.1)"
   ],
   "metadata": {
    "collapsed": false,
    "pycharm": {
     "name": "#%%\n"
    }
   }
  },
  {
   "cell_type": "code",
   "execution_count": 29,
   "outputs": [],
   "source": [
    "original_model.load_weights(file_path_mit)\n"
   ],
   "metadata": {
    "collapsed": false,
    "pycharm": {
     "name": "#%%\n"
    }
   }
  },
  {
   "cell_type": "markdown",
   "source": [
    "#### Evaluation"
   ],
   "metadata": {
    "collapsed": false
   }
  },
  {
   "cell_type": "code",
   "execution_count": 30,
   "outputs": [],
   "source": [
    "test_preds_mit = np.argmax(\n",
    "    original_model.predict(X_test_mit, batch_size=512), axis=-1)\n",
    "\n",
    "r = compute_metrics(y_test_mit, test_preds_mit)\n",
    "\n",
    "f1_weighted = r['f1-weighted']\n",
    "f1_macro = r['f1-macro']\n",
    "acc = r['accuracy']\n",
    "b_acc = r['balanced_accuracy']\n",
    "\n",
    "wandb.log({'Test Accuracy': acc})\n",
    "wandb.log({'Test F1 Weighted': f1_weighted})\n",
    "wandb.log({'Test F1 Macro': f1_macro})\n",
    "wandb.log({'Test Balanced Accuracy': b_acc})"
   ],
   "metadata": {
    "collapsed": false,
    "pycharm": {
     "name": "#%%\n"
    }
   }
  },
  {
   "cell_type": "code",
   "execution_count": 31,
   "outputs": [
    {
     "name": "stdout",
     "output_type": "stream",
     "text": [
      "f1 score micro:           0.98716\n",
      "f1 score macro:           0.92469\n",
      "f1 score weighted:        0.98677\n",
      "accuracy score:           0.98716\n",
      "balanced accuracy score:  0.89859\n"
     ]
    },
    {
     "data": {
      "text/plain": "<Figure size 432x288 with 2 Axes>",
      "image/png": "[encoded data removed]"
     },
     "metadata": {
      "needs_background": "light"
     },
     "output_type": "display_data"
    }
   ],
   "source": [
    "display_result(y_test_mit, test_preds_mit)"
   ],
   "metadata": {
    "collapsed": false,
    "pycharm": {
     "name": "#%%\n"
    }
   }
  },
  {
   "cell_type": "code",
   "execution_count": 32,
   "outputs": [
    {
     "data": {
      "text/plain": "<IPython.core.display.HTML object>",
      "text/html": "<br/>Waiting for W&B process to finish, PID 163077<br/>Program ended successfully."
     },
     "metadata": {},
     "output_type": "display_data"
    },
    {
     "data": {
      "text/plain": "VBox(children=(Label(value=' 6.43MB of 6.43MB uploaded (0.00MB deduped)\\r'), FloatProgress(value=1.0, max=1.0)…",
      "application/vnd.jupyter.widget-view+json": {
       "version_major": 2,
       "version_minor": 0,
       "model_id": "ad9946ed65254183b96f4b9df510681d"
      }
     },
     "metadata": {},
     "output_type": "display_data"
    },
    {
     "data": {
      "text/plain": "<IPython.core.display.HTML object>",
      "text/html": "Find user logs for this run at: <code>/cluster/scratch/asvete/project4/wandb/run-20210604_223440-2ny6puzm/logs/debug.log</code>"
     },
     "metadata": {},
     "output_type": "display_data"
    },
    {
     "data": {
      "text/plain": "<IPython.core.display.HTML object>",
      "text/html": "Find internal logs for this run at: <code>/cluster/scratch/asvete/project4/wandb/run-20210604_223440-2ny6puzm/logs/debug-internal.log</code>"
     },
     "metadata": {},
     "output_type": "display_data"
    },
    {
     "data": {
      "text/plain": "<IPython.core.display.HTML object>",
      "text/html": "<h3>Run summary:</h3><br/><style>\n    table.wandb td:nth-child(1) { padding: 0 10px; text-align: right }\n    </style><table class=\"wandb\">\n<tr><td>epoch</td><td>29</td></tr><tr><td>loss</td><td>0.02849</td></tr><tr><td>acc</td><td>0.99091</td></tr><tr><td>val_loss</td><td>0.03693</td></tr><tr><td>val_acc</td><td>0.98938</td></tr><tr><td>lr</td><td>0.0</td></tr><tr><td>_runtime</td><td>304</td></tr><tr><td>_timestamp</td><td>1622839184</td></tr><tr><td>_step</td><td>33</td></tr><tr><td>best_val_loss</td><td>0.03693</td></tr><tr><td>best_epoch</td><td>29</td></tr><tr><td>Test Accuracy</td><td>0.98716</td></tr><tr><td>Test F1 Weighted</td><td>0.98677</td></tr><tr><td>Test F1 Macro</td><td>0.92469</td></tr><tr><td>Test Balanced Accuracy</td><td>0.89859</td></tr></table>"
     },
     "metadata": {},
     "output_type": "display_data"
    },
    {
     "data": {
      "text/plain": "<IPython.core.display.HTML object>",
      "text/html": "<h3>Run history:</h3><br/><style>\n    table.wandb td:nth-child(1) { padding: 0 10px; text-align: right }\n    </style><table class=\"wandb\">\n<tr><td>epoch</td><td>▁▁▁▂▂▂▂▃▃▃▃▄▄▄▄▅▅▅▅▆▆▆▆▇▇▇▇███</td></tr><tr><td>loss</td><td>█▄▃▃▃▂▂▂▂▂▂▂▂▁▁▁▁▁▁▁▁▁▁▁▁▁▁▁▁▁</td></tr><tr><td>acc</td><td>▁▅▆▆▆▇▇▇▇▇▇▇▇█████████████████</td></tr><tr><td>val_loss</td><td>█▅▄▃▃▂▃▂▂▃▃▃▁▁▁▁▁▁▁▁▁▁▁▁▁▁▁▁▁▁</td></tr><tr><td>val_acc</td><td>▁▄▅▅▆▆▆▆▇▆▆▅██████████████████</td></tr><tr><td>lr</td><td>████████████▂▂▂▂▂▂▂▂▂▂▂▁▁▁▁▁▁▁</td></tr><tr><td>_runtime</td><td>▁▁▁▂▂▂▂▃▃▃▃▄▄▄▄▅▅▅▅▆▆▆▆▇▇▇▇▇██████</td></tr><tr><td>_timestamp</td><td>▁▁▁▂▂▂▂▃▃▃▃▄▄▄▄▅▅▅▅▆▆▆▆▇▇▇▇▇██████</td></tr><tr><td>_step</td><td>▁▁▁▂▂▂▂▂▃▃▃▃▄▄▄▄▄▅▅▅▅▅▆▆▆▆▇▇▇▇▇███</td></tr><tr><td>Test Accuracy</td><td>▁</td></tr><tr><td>Test F1 Weighted</td><td>▁</td></tr><tr><td>Test F1 Macro</td><td>▁</td></tr><tr><td>Test Balanced Accuracy</td><td>▁</td></tr></table><br/>"
     },
     "metadata": {},
     "output_type": "display_data"
    },
    {
     "data": {
      "text/plain": "<IPython.core.display.HTML object>",
      "text/html": "Synced 5 W&B file(s), 1 media file(s), 0 artifact file(s) and 1 other file(s)"
     },
     "metadata": {},
     "output_type": "display_data"
    },
    {
     "data": {
      "text/plain": "<IPython.core.display.HTML object>",
      "text/html": "\n                    <br/>Synced <strong style=\"color:#cdcd00\">misty-fog-106</strong>: <a href=\"https://wandb.ai/anej/ML4HC-project4/runs/2ny6puzm\" target=\"_blank\">https://wandb.ai/anej/ML4HC-project4/runs/2ny6puzm</a><br/>\n                "
     },
     "metadata": {},
     "output_type": "display_data"
    }
   ],
   "source": [
    "run.join()"
   ],
   "metadata": {
    "collapsed": false,
    "pycharm": {
     "name": "#%%\n"
    }
   }
  },
  {
   "cell_type": "markdown",
   "source": [
    "### Predictions"
   ],
   "metadata": {
    "collapsed": false
   }
  },
  {
   "cell_type": "code",
   "execution_count": 33,
   "outputs": [],
   "source": [
    "save_predictions(original_model, X_test_mit, 'basic_cnn', 'test_mitbih')\n",
    "save_predictions(original_model, X_train_mit, 'basic_cnn', 'train_mitbih')"
   ],
   "metadata": {
    "collapsed": false,
    "pycharm": {
     "name": "#%%\n"
    }
   }
  },
  {
   "cell_type": "markdown",
   "source": [
    "## PTBDB"
   ],
   "metadata": {
    "collapsed": false
   }
  },
  {
   "cell_type": "markdown",
   "source": [
    "#### W&B setup"
   ],
   "metadata": {
    "collapsed": false
   }
  },
  {
   "cell_type": "code",
   "execution_count": 66,
   "outputs": [
    {
     "data": {
      "text/plain": "<IPython.core.display.HTML object>",
      "text/html": "Finishing last run (ID:1xqdxtch) before initializing another..."
     },
     "metadata": {},
     "output_type": "display_data"
    },
    {
     "data": {
      "text/plain": "<IPython.core.display.HTML object>",
      "text/html": "<br/>Waiting for W&B process to finish, PID 168167<br/>Program ended successfully."
     },
     "metadata": {},
     "output_type": "display_data"
    },
    {
     "data": {
      "text/plain": "VBox(children=(Label(value=' 0.00MB of 0.00MB uploaded (0.00MB deduped)\\r'), FloatProgress(value=1.0, max=1.0)…",
      "application/vnd.jupyter.widget-view+json": {
       "version_major": 2,
       "version_minor": 0,
       "model_id": "dfb66e14c26749d3a68bed0794ca1aac"
      }
     },
     "metadata": {},
     "output_type": "display_data"
    },
    {
     "data": {
      "text/plain": "<IPython.core.display.HTML object>",
      "text/html": "Find user logs for this run at: <code>/cluster/scratch/asvete/project4/wandb/run-20210604_230218-1xqdxtch/logs/debug.log</code>"
     },
     "metadata": {},
     "output_type": "display_data"
    },
    {
     "data": {
      "text/plain": "<IPython.core.display.HTML object>",
      "text/html": "Find internal logs for this run at: <code>/cluster/scratch/asvete/project4/wandb/run-20210604_230218-1xqdxtch/logs/debug-internal.log</code>"
     },
     "metadata": {},
     "output_type": "display_data"
    },
    {
     "data": {
      "text/plain": "<IPython.core.display.HTML object>",
      "text/html": "Synced 4 W&B file(s), 0 media file(s), 0 artifact file(s) and 0 other file(s)"
     },
     "metadata": {},
     "output_type": "display_data"
    },
    {
     "data": {
      "text/plain": "<IPython.core.display.HTML object>",
      "text/html": "\n                    <br/>Synced <strong style=\"color:#cdcd00\">dulcet-resonance-115</strong>: <a href=\"https://wandb.ai/anej/ML4HC-project4/runs/1xqdxtch\" target=\"_blank\">https://wandb.ai/anej/ML4HC-project4/runs/1xqdxtch</a><br/>\n                "
     },
     "metadata": {},
     "output_type": "display_data"
    },
    {
     "data": {
      "text/plain": "<IPython.core.display.HTML object>",
      "text/html": "...Successfully finished last run (ID:1xqdxtch). Initializing new run:<br/><br/>"
     },
     "metadata": {},
     "output_type": "display_data"
    },
    {
     "name": "stderr",
     "output_type": "stream",
     "text": [
      "\u001B[34m\u001B[1mwandb\u001B[0m: wandb version 0.10.31 is available!  To upgrade, please run:\n",
      "\u001B[34m\u001B[1mwandb\u001B[0m:  $ pip install wandb --upgrade\n"
     ]
    },
    {
     "data": {
      "text/plain": "<IPython.core.display.HTML object>",
      "text/html": "\n                Tracking run with wandb version 0.10.27<br/>\n                Syncing run <strong style=\"color:#cdcd00\">rose-brook-116</strong> to <a href=\"https://wandb.ai\" target=\"_blank\">Weights & Biases</a> <a href=\"https://docs.wandb.com/integrations/jupyter.html\" target=\"_blank\">(Documentation)</a>.<br/>\n                Project page: <a href=\"https://wandb.ai/anej/ML4HC-project4\" target=\"_blank\">https://wandb.ai/anej/ML4HC-project4</a><br/>\n                Run page: <a href=\"https://wandb.ai/anej/ML4HC-project4/runs/i7tjpvll\" target=\"_blank\">https://wandb.ai/anej/ML4HC-project4/runs/i7tjpvll</a><br/>\n                Run data is saved locally in <code>/cluster/scratch/asvete/project4/wandb/run-20210604_230246-i7tjpvll</code><br/><br/>\n            "
     },
     "metadata": {},
     "output_type": "display_data"
    }
   ],
   "source": [
    "run = wandb.init(\n",
    "    project='ML4HC-project4',\n",
    "    config={\n",
    "        'epochs': 128,\n",
    "        'batch_size': 32,\n",
    "        'loss_function': 'sparse_categorical_crossentropy',\n",
    "        'architecture': 'Basic CNN',\n",
    "        'dataset': 'PTBDB',\n",
    "        'mode': 'training',\n",
    "        'ndims': [32, 128, 128, 256],\n",
    "        'kernel_sizes': [5, 5, 3, 3],\n",
    "        'dropout': 0.2,\n",
    "        'dense_size': 128,\n",
    "        'learning_rate': 1e-3,\n",
    "        'schedule_lr': False\n",
    "    })\n",
    "\n",
    "config_pt = wandb.config"
   ],
   "metadata": {
    "collapsed": false,
    "pycharm": {
     "name": "#%%\n"
    }
   }
  },
  {
   "cell_type": "markdown",
   "source": [
    "#### Model"
   ],
   "metadata": {
    "collapsed": false
   }
  },
  {
   "cell_type": "code",
   "execution_count": 67,
   "outputs": [
    {
     "name": "stdout",
     "output_type": "stream",
     "text": [
      "Model: \"functional_17\"\n",
      "_________________________________________________________________\n",
      "Layer (type)                 Output Shape              Param #   \n",
      "=================================================================\n",
      "input_11 (InputLayer)        [(None, 187, 1)]          0         \n",
      "_________________________________________________________________\n",
      "conv1d_56 (Conv1D)           (None, 183, 32)           192       \n",
      "_________________________________________________________________\n",
      "conv1d_57 (Conv1D)           (None, 179, 32)           5152      \n",
      "_________________________________________________________________\n",
      "max_pooling1d_25 (MaxPooling (None, 89, 32)            0         \n",
      "_________________________________________________________________\n",
      "dropout_32 (Dropout)         (None, 89, 32)            0         \n",
      "_________________________________________________________________\n",
      "conv1d_58 (Conv1D)           (None, 85, 128)           20608     \n",
      "_________________________________________________________________\n",
      "conv1d_59 (Conv1D)           (None, 81, 128)           82048     \n",
      "_________________________________________________________________\n",
      "max_pooling1d_26 (MaxPooling (None, 40, 128)           0         \n",
      "_________________________________________________________________\n",
      "dropout_33 (Dropout)         (None, 40, 128)           0         \n",
      "_________________________________________________________________\n",
      "conv1d_60 (Conv1D)           (None, 38, 128)           49280     \n",
      "_________________________________________________________________\n",
      "conv1d_61 (Conv1D)           (None, 36, 128)           49280     \n",
      "_________________________________________________________________\n",
      "max_pooling1d_27 (MaxPooling (None, 18, 128)           0         \n",
      "_________________________________________________________________\n",
      "dropout_34 (Dropout)         (None, 18, 128)           0         \n",
      "_________________________________________________________________\n",
      "conv1d_62 (Conv1D)           (None, 16, 256)           98560     \n",
      "_________________________________________________________________\n",
      "conv1d_63 (Conv1D)           (None, 14, 256)           196864    \n",
      "_________________________________________________________________\n",
      "max_pooling1d_28 (MaxPooling (None, 7, 256)            0         \n",
      "_________________________________________________________________\n",
      "dropout_35 (Dropout)         (None, 7, 256)            0         \n",
      "_________________________________________________________________\n",
      "global_max_pooling1d_7 (Glob (None, 256)               0         \n",
      "_________________________________________________________________\n",
      "dropout_36 (Dropout)         (None, 256)               0         \n",
      "_________________________________________________________________\n",
      "dense_1 (Dense)              (None, 128)               32896     \n",
      "_________________________________________________________________\n",
      "dense_2 (Dense)              (None, 128)               16512     \n",
      "_________________________________________________________________\n",
      "dense_3 (Dense)              (None, 5)                 645       \n",
      "=================================================================\n",
      "Total params: 552,037\n",
      "Trainable params: 552,037\n",
      "Non-trainable params: 0\n",
      "_________________________________________________________________\n"
     ]
    }
   ],
   "source": [
    "original_model = get_basic_cnn_model(config_pt, nclass=5)"
   ],
   "metadata": {
    "collapsed": false,
    "pycharm": {
     "name": "#%%\n"
    }
   }
  },
  {
   "cell_type": "code",
   "execution_count": 68,
   "outputs": [],
   "source": [
    "file_path_pt = './models/basic_cnn/cnn_ptbdb.h5'\n",
    "\n",
    "checkpoint = ModelCheckpoint(\n",
    "    file_path_pt, monitor='val_acc', verbose=1,\n",
    "    save_best_only=True, mode='max')\n",
    "early = EarlyStopping(\n",
    "    monitor='val_acc', mode='max', patience=5, verbose=1)\n",
    "redonplat = ReduceLROnPlateau(\n",
    "    monitor='val_acc', mode='max', patience=3, verbose=2)"
   ],
   "metadata": {
    "collapsed": false,
    "pycharm": {
     "name": "#%%\n"
    }
   }
  },
  {
   "cell_type": "markdown",
   "source": [
    "#### Training"
   ],
   "metadata": {
    "collapsed": false
   }
  },
  {
   "cell_type": "code",
   "execution_count": 69,
   "outputs": [
    {
     "data": {
      "text/plain": "HBox(children=(FloatProgress(value=1.0, bar_style='info', layout=Layout(width='20px'), max=1.0), HTML(value=''…",
      "application/vnd.jupyter.widget-view+json": {
       "version_major": 2,
       "version_minor": 0,
       "model_id": "dc78216cffe643afacb5ae2f14ed1e11"
      }
     },
     "metadata": {},
     "output_type": "display_data"
    },
    {
     "data": {
      "text/plain": "HBox(children=(FloatProgress(value=1.0, bar_style='info', layout=Layout(width='20px'), max=1.0), HTML(value=''…",
      "application/vnd.jupyter.widget-view+json": {
       "version_major": 2,
       "version_minor": 0,
       "model_id": "3501b1dd54c04070a776519d06be9142"
      }
     },
     "metadata": {},
     "output_type": "display_data"
    },
    {
     "name": "stdout",
     "output_type": "stream",
     "text": [
      "\n",
      "Epoch 00001: val_acc improved from -inf to 0.69528, saving model to ./models/basic_cnn/cnn_ptbdb.h5\n",
      "\n",
      "Epoch 00002: val_acc improved from 0.69528 to 0.83262, saving model to ./models/basic_cnn/cnn_ptbdb.h5\n",
      "\n",
      "Epoch 00003: val_acc improved from 0.83262 to 0.88670, saving model to ./models/basic_cnn/cnn_ptbdb.h5\n",
      "\n",
      "Epoch 00004: val_acc improved from 0.88670 to 0.91330, saving model to ./models/basic_cnn/cnn_ptbdb.h5\n",
      "\n",
      "Epoch 00005: val_acc improved from 0.91330 to 0.93734, saving model to ./models/basic_cnn/cnn_ptbdb.h5\n",
      "\n",
      "Epoch 00006: val_acc did not improve from 0.93734\n",
      "\n",
      "Epoch 00007: val_acc improved from 0.93734 to 0.95708, saving model to ./models/basic_cnn/cnn_ptbdb.h5\n",
      "\n",
      "Epoch 00008: val_acc did not improve from 0.95708\n",
      "\n",
      "Epoch 00009: val_acc improved from 0.95708 to 0.96481, saving model to ./models/basic_cnn/cnn_ptbdb.h5\n",
      "\n",
      "Epoch 00010: val_acc improved from 0.96481 to 0.97082, saving model to ./models/basic_cnn/cnn_ptbdb.h5\n",
      "\n",
      "Epoch 00011: val_acc did not improve from 0.97082\n",
      "\n",
      "Epoch 00012: val_acc improved from 0.97082 to 0.98026, saving model to ./models/basic_cnn/cnn_ptbdb.h5\n",
      "\n",
      "Epoch 00013: val_acc did not improve from 0.98026\n",
      "\n",
      "Epoch 00014: val_acc improved from 0.98026 to 0.98369, saving model to ./models/basic_cnn/cnn_ptbdb.h5\n",
      "\n",
      "Epoch 00015: val_acc did not improve from 0.98369\n",
      "\n",
      "Epoch 00016: val_acc did not improve from 0.98369\n",
      "\n",
      "Epoch 00017: val_acc did not improve from 0.98369\n",
      "\n",
      "Epoch 00017: ReduceLROnPlateau reducing learning rate to 0.00010000000474974513.\n",
      "\n",
      "Epoch 00018: val_acc improved from 0.98369 to 0.99056, saving model to ./models/basic_cnn/cnn_ptbdb.h5\n",
      "\n",
      "Epoch 00019: val_acc did not improve from 0.99056\n",
      "\n",
      "Epoch 00020: val_acc did not improve from 0.99056\n",
      "\n",
      "Epoch 00021: val_acc did not improve from 0.99056\n",
      "\n",
      "Epoch 00021: ReduceLROnPlateau reducing learning rate to 1.0000000474974514e-05.\n",
      "\n",
      "Epoch 00022: val_acc improved from 0.99056 to 0.99142, saving model to ./models/basic_cnn/cnn_ptbdb.h5\n",
      "\n",
      "Epoch 00023: val_acc did not improve from 0.99142\n",
      "\n",
      "Epoch 00024: val_acc did not improve from 0.99142\n",
      "\n",
      "Epoch 00025: val_acc did not improve from 0.99142\n",
      "\n",
      "Epoch 00025: ReduceLROnPlateau reducing learning rate to 1.0000000656873453e-06.\n",
      "\n",
      "Epoch 00026: val_acc did not improve from 0.99142\n",
      "\n",
      "Epoch 00027: val_acc did not improve from 0.99142\n",
      "Epoch 00027: early stopping\n",
      "\n"
     ]
    }
   ],
   "source": [
    "history = original_model.fit(\n",
    "    X_train_pt, y_train_pt,\n",
    "    epochs=config_pt.epochs,\n",
    "    batch_size=config_pt.batch_size,\n",
    "    verbose=0,\n",
    "    callbacks=[\n",
    "        checkpoint, early, redonplat,\n",
    "        WandbCallback(), TqdmCallback(verbose=1)],\n",
    "    validation_split=0.1)"
   ],
   "metadata": {
    "collapsed": false,
    "pycharm": {
     "name": "#%%\n"
    }
   }
  },
  {
   "cell_type": "code",
   "execution_count": 70,
   "outputs": [],
   "source": [
    "original_model.load_weights(file_path_pt)"
   ],
   "metadata": {
    "collapsed": false,
    "pycharm": {
     "name": "#%%\n"
    }
   }
  },
  {
   "cell_type": "markdown",
   "source": [
    "#### Evaluation"
   ],
   "metadata": {
    "collapsed": false
   }
  },
  {
   "cell_type": "code",
   "execution_count": 71,
   "outputs": [],
   "source": [
    "raw_preds = original_model.predict(X_test_pt, batch_size=512)\n",
    "test_preds_pt = np.argmax(raw_preds, axis=-1)\n",
    "\n",
    "r = compute_metrics(y_test_pt, test_preds_pt)\n",
    "\n",
    "f1_weighted = r['f1-weighted']\n",
    "f1_macro = r['f1-macro']\n",
    "acc = r['accuracy']\n",
    "b_acc = r['balanced_accuracy']\n",
    "\n",
    "wandb.log({'Test Accuracy': acc})\n",
    "wandb.log({'Test F1 Weighted': f1_weighted})\n",
    "wandb.log({'Test F1 Macro': f1_macro})\n",
    "wandb.log({'Test Balanced Accuracy': b_acc})"
   ],
   "metadata": {
    "collapsed": false,
    "pycharm": {
     "name": "#%%\n"
    }
   }
  },
  {
   "cell_type": "code",
   "execution_count": 72,
   "outputs": [
    {
     "name": "stdout",
     "output_type": "stream",
     "text": [
      "f1 score micro:           0.99244\n",
      "f1 score macro:           0.99058\n",
      "f1 score weighted:        0.99244\n",
      "accuracy score:           0.99244\n",
      "balanced accuracy score:  0.99058\n",
      "AuPR score:               0.99927\n",
      "AuROC score:              0.99849\n"
     ]
    },
    {
     "data": {
      "text/plain": "<Figure size 432x288 with 2 Axes>",
      "image/png": "[encoded data removed]"
     },
     "metadata": {
      "needs_background": "light"
     },
     "output_type": "display_data"
    }
   ],
   "source": [
    "display_result(y_test_pt, test_preds_pt, True, raw_preds[:, 1])"
   ],
   "metadata": {
    "collapsed": false,
    "pycharm": {
     "name": "#%%\n"
    }
   }
  },
  {
   "cell_type": "code",
   "execution_count": 73,
   "outputs": [
    {
     "data": {
      "text/plain": "<IPython.core.display.HTML object>",
      "text/html": "<br/>Waiting for W&B process to finish, PID 168268<br/>Program ended successfully."
     },
     "metadata": {},
     "output_type": "display_data"
    },
    {
     "data": {
      "text/plain": "VBox(children=(Label(value=' 6.43MB of 6.43MB uploaded (0.00MB deduped)\\r'), FloatProgress(value=1.0, max=1.0)…",
      "application/vnd.jupyter.widget-view+json": {
       "version_major": 2,
       "version_minor": 0,
       "model_id": "50d15d7e5051495ebd30cfd9f5a9afa1"
      }
     },
     "metadata": {},
     "output_type": "display_data"
    },
    {
     "data": {
      "text/plain": "<IPython.core.display.HTML object>",
      "text/html": "Find user logs for this run at: <code>/cluster/scratch/asvete/project4/wandb/run-20210604_230246-i7tjpvll/logs/debug.log</code>"
     },
     "metadata": {},
     "output_type": "display_data"
    },
    {
     "data": {
      "text/plain": "<IPython.core.display.HTML object>",
      "text/html": "Find internal logs for this run at: <code>/cluster/scratch/asvete/project4/wandb/run-20210604_230246-i7tjpvll/logs/debug-internal.log</code>"
     },
     "metadata": {},
     "output_type": "display_data"
    },
    {
     "data": {
      "text/plain": "<IPython.core.display.HTML object>",
      "text/html": "<h3>Run summary:</h3><br/><style>\n    table.wandb td:nth-child(1) { padding: 0 10px; text-align: right }\n    </style><table class=\"wandb\">\n<tr><td>epoch</td><td>26</td></tr><tr><td>loss</td><td>0.01501</td></tr><tr><td>acc</td><td>0.99399</td></tr><tr><td>val_loss</td><td>0.02748</td></tr><tr><td>val_acc</td><td>0.99056</td></tr><tr><td>lr</td><td>0.0</td></tr><tr><td>_runtime</td><td>62</td></tr><tr><td>_timestamp</td><td>1622840632</td></tr><tr><td>_step</td><td>30</td></tr><tr><td>best_val_loss</td><td>0.02659</td></tr><tr><td>best_epoch</td><td>20</td></tr><tr><td>Test Accuracy</td><td>0.99244</td></tr><tr><td>Test F1 Weighted</td><td>0.99244</td></tr><tr><td>Test F1 Macro</td><td>0.99058</td></tr><tr><td>Test Balanced Accuracy</td><td>0.99058</td></tr></table>"
     },
     "metadata": {},
     "output_type": "display_data"
    },
    {
     "data": {
      "text/plain": "<IPython.core.display.HTML object>",
      "text/html": "<h3>Run history:</h3><br/><style>\n    table.wandb td:nth-child(1) { padding: 0 10px; text-align: right }\n    </style><table class=\"wandb\">\n<tr><td>epoch</td><td>▁▁▂▂▂▂▃▃▃▃▄▄▄▅▅▅▅▆▆▆▆▇▇▇▇██</td></tr><tr><td>loss</td><td>█▇▅▄▄▃▃▂▂▂▂▂▂▂▂▂▂▁▁▁▁▁▁▁▁▁▁</td></tr><tr><td>acc</td><td>▁▂▄▅▆▆▇▇▇▇▇▇▇█▇████████████</td></tr><tr><td>val_loss</td><td>█▅▄▃▃▃▂▂▂▁▃▁▁▁▁▁▁▁▁▁▁▁▁▁▁▁▁</td></tr><tr><td>val_acc</td><td>▁▄▆▆▇▆▇▇▇█▆████████████████</td></tr><tr><td>lr</td><td>█████████████████▂▂▂▂▁▁▁▁▁▁</td></tr><tr><td>_runtime</td><td>▁▁▂▂▂▂▃▃▃▃▄▄▄▄▅▅▅▆▆▆▆▇▇▇▇██████</td></tr><tr><td>_timestamp</td><td>▁▁▂▂▂▂▃▃▃▃▄▄▄▄▅▅▅▆▆▆▆▇▇▇▇██████</td></tr><tr><td>_step</td><td>▁▁▁▂▂▂▂▃▃▃▃▄▄▄▄▅▅▅▅▅▆▆▆▆▇▇▇▇███</td></tr><tr><td>Test Accuracy</td><td>▁</td></tr><tr><td>Test F1 Weighted</td><td>▁</td></tr><tr><td>Test F1 Macro</td><td>▁</td></tr><tr><td>Test Balanced Accuracy</td><td>▁</td></tr></table><br/>"
     },
     "metadata": {},
     "output_type": "display_data"
    },
    {
     "data": {
      "text/plain": "<IPython.core.display.HTML object>",
      "text/html": "Synced 5 W&B file(s), 1 media file(s), 0 artifact file(s) and 1 other file(s)"
     },
     "metadata": {},
     "output_type": "display_data"
    },
    {
     "data": {
      "text/plain": "<IPython.core.display.HTML object>",
      "text/html": "\n                    <br/>Synced <strong style=\"color:#cdcd00\">rose-brook-116</strong>: <a href=\"https://wandb.ai/anej/ML4HC-project4/runs/i7tjpvll\" target=\"_blank\">https://wandb.ai/anej/ML4HC-project4/runs/i7tjpvll</a><br/>\n                "
     },
     "metadata": {},
     "output_type": "display_data"
    }
   ],
   "source": [
    "run.join()"
   ],
   "metadata": {
    "collapsed": false,
    "pycharm": {
     "name": "#%%\n"
    }
   }
  },
  {
   "cell_type": "markdown",
   "source": [
    "### Predictions"
   ],
   "metadata": {
    "collapsed": false
   }
  },
  {
   "cell_type": "code",
   "execution_count": 74,
   "outputs": [],
   "source": [
    "save_predictions(original_model, X_test_pt, 'basic_cnn', 'test_ptb')\n",
    "save_predictions(original_model, X_train_pt, 'basic_cnn', 'train_ptb')"
   ],
   "metadata": {
    "collapsed": false,
    "pycharm": {
     "name": "#%%\n"
    }
   }
  },
  {
   "cell_type": "markdown",
   "source": [
    "# Basic RNN"
   ],
   "metadata": {
    "collapsed": false
   }
  },
  {
   "cell_type": "markdown",
   "source": [
    "## MIT BIH"
   ],
   "metadata": {
    "collapsed": false
   }
  },
  {
   "cell_type": "markdown",
   "source": [
    "#### W&B setup"
   ],
   "metadata": {
    "collapsed": false
   }
  },
  {
   "cell_type": "code",
   "execution_count": 80,
   "outputs": [
    {
     "name": "stderr",
     "output_type": "stream",
     "text": [
      "\u001B[34m\u001B[1mwandb\u001B[0m: wandb version 0.10.31 is available!  To upgrade, please run:\n",
      "\u001B[34m\u001B[1mwandb\u001B[0m:  $ pip install wandb --upgrade\n"
     ]
    },
    {
     "data": {
      "text/plain": "<IPython.core.display.HTML object>",
      "text/html": "\n                Tracking run with wandb version 0.10.27<br/>\n                Syncing run <strong style=\"color:#cdcd00\">elated-cloud-118</strong> to <a href=\"https://wandb.ai\" target=\"_blank\">Weights & Biases</a> <a href=\"https://docs.wandb.com/integrations/jupyter.html\" target=\"_blank\">(Documentation)</a>.<br/>\n                Project page: <a href=\"https://wandb.ai/anej/ML4HC-project4\" target=\"_blank\">https://wandb.ai/anej/ML4HC-project4</a><br/>\n                Run page: <a href=\"https://wandb.ai/anej/ML4HC-project4/runs/237nry17\" target=\"_blank\">https://wandb.ai/anej/ML4HC-project4/runs/237nry17</a><br/>\n                Run data is saved locally in <code>/cluster/scratch/asvete/project4/wandb/run-20210604_230606-237nry17</code><br/><br/>\n            "
     },
     "metadata": {},
     "output_type": "display_data"
    }
   ],
   "source": [
    "run = wandb.init(\n",
    "    project='ML4HC-project4',\n",
    "    config={\n",
    "        'epochs': 128,\n",
    "        'batch_size': 32,\n",
    "        'loss_function': 'sparse_categorical_crossentropy',\n",
    "        'architecture': 'Basic RNN',\n",
    "        'dataset': 'MITBIH',\n",
    "        'mode': 'training',\n",
    "        'ndim': 128,\n",
    "        'rnn_dropout': 0.2,\n",
    "        'dense_size': 128,\n",
    "        'learning_rate': 1e-3,\n",
    "        'schedule_lr': False\n",
    "    })\n",
    "\n",
    "config_mit = wandb.config"
   ],
   "metadata": {
    "collapsed": false,
    "pycharm": {
     "name": "#%%\n"
    }
   }
  },
  {
   "cell_type": "markdown",
   "source": [
    "#### Model"
   ],
   "metadata": {
    "collapsed": false
   }
  },
  {
   "cell_type": "code",
   "execution_count": 81,
   "outputs": [
    {
     "name": "stdout",
     "output_type": "stream",
     "text": [
      "Model: \"functional_21\"\n",
      "_________________________________________________________________\n",
      "Layer (type)                 Output Shape              Param #   \n",
      "=================================================================\n",
      "input_13 (InputLayer)        [(None, 187, 1)]          0         \n",
      "_________________________________________________________________\n",
      "batch_normalization_8 (Batch (None, 187, 1)            4         \n",
      "_________________________________________________________________\n",
      "rec_1 (LSTM)                 (None, 128)               66560     \n",
      "_________________________________________________________________\n",
      "batch_normalization_9 (Batch (None, 128)               512       \n",
      "_________________________________________________________________\n",
      "dense_1 (Dense)              (None, 128)               16512     \n",
      "_________________________________________________________________\n",
      "batch_normalization_10 (Batc (None, 128)               512       \n",
      "_________________________________________________________________\n",
      "dense_2 (Dense)              (None, 128)               16512     \n",
      "_________________________________________________________________\n",
      "batch_normalization_11 (Batc (None, 128)               512       \n",
      "_________________________________________________________________\n",
      "final_dense (Dense)          (None, 5)                 645       \n",
      "=================================================================\n",
      "Total params: 101,769\n",
      "Trainable params: 100,999\n",
      "Non-trainable params: 770\n",
      "_________________________________________________________________\n"
     ]
    }
   ],
   "source": [
    "original_model = get_basic_rnn_model(config_mit, nclass=5)"
   ],
   "metadata": {
    "collapsed": false,
    "pycharm": {
     "name": "#%%\n"
    }
   }
  },
  {
   "cell_type": "code",
   "execution_count": 82,
   "outputs": [],
   "source": [
    "file_path_mit = './models/basic_rnn/rnn_mitbih.h5'\n",
    "\n",
    "checkpoint = ModelCheckpoint(\n",
    "    file_path_mit, monitor='val_acc', verbose=1,\n",
    "    save_best_only=True, mode='max')\n",
    "early = EarlyStopping(\n",
    "    monitor='val_acc', mode='max', patience=5, verbose=1)\n",
    "redonplat = ReduceLROnPlateau(\n",
    "    monitor='val_acc', mode='max', patience=3, verbose=2)"
   ],
   "metadata": {
    "collapsed": false,
    "pycharm": {
     "name": "#%%\n"
    }
   }
  },
  {
   "cell_type": "markdown",
   "source": [
    "#### Training"
   ],
   "metadata": {
    "collapsed": false
   }
  },
  {
   "cell_type": "code",
   "execution_count": 83,
   "outputs": [
    {
     "data": {
      "text/plain": "HBox(children=(FloatProgress(value=1.0, bar_style='info', layout=Layout(width='20px'), max=1.0), HTML(value=''…",
      "application/vnd.jupyter.widget-view+json": {
       "version_major": 2,
       "version_minor": 0,
       "model_id": "0c6a0e6bad2d41a79457e39e7ac47682"
      }
     },
     "metadata": {},
     "output_type": "display_data"
    },
    {
     "data": {
      "text/plain": "HBox(children=(FloatProgress(value=1.0, bar_style='info', layout=Layout(width='20px'), max=1.0), HTML(value=''…",
      "application/vnd.jupyter.widget-view+json": {
       "version_major": 2,
       "version_minor": 0,
       "model_id": "e3acc4d198bd465591d7cd7fad1b0bfc"
      }
     },
     "metadata": {},
     "output_type": "display_data"
    },
    {
     "name": "stdout",
     "output_type": "stream",
     "text": [
      "\n",
      "\n",
      "Epoch 00001: val_acc improved from -inf to 0.84171, saving model to ./models/basic_rnn/rnn_mitbih.h5\n",
      "\n",
      "Epoch 00002: val_acc did not improve from 0.84171\n",
      "\n",
      "Epoch 00003: val_acc did not improve from 0.84171\n",
      "\n",
      "Epoch 00004: val_acc improved from 0.84171 to 0.89698, saving model to ./models/basic_rnn/rnn_mitbih.h5\n",
      "\n",
      "Epoch 00005: val_acc did not improve from 0.89698\n",
      "\n",
      "Epoch 00006: val_acc improved from 0.89698 to 0.95340, saving model to ./models/basic_rnn/rnn_mitbih.h5\n",
      "\n",
      "Epoch 00007: val_acc did not improve from 0.95340\n",
      "\n",
      "Epoch 00008: val_acc improved from 0.95340 to 0.96174, saving model to ./models/basic_rnn/rnn_mitbih.h5\n",
      "\n",
      "Epoch 00009: val_acc did not improve from 0.96174\n",
      "\n",
      "Epoch 00010: val_acc did not improve from 0.96174\n",
      "\n",
      "Epoch 00011: val_acc did not improve from 0.96174\n",
      "\n",
      "Epoch 00011: ReduceLROnPlateau reducing learning rate to 0.00010000000474974513.\n",
      "\n",
      "Epoch 00012: val_acc improved from 0.96174 to 0.96882, saving model to ./models/basic_rnn/rnn_mitbih.h5\n",
      "\n",
      "Epoch 00013: val_acc did not improve from 0.96882\n",
      "\n",
      "Epoch 00014: val_acc did not improve from 0.96882\n",
      "\n",
      "Epoch 00015: val_acc improved from 0.96882 to 0.97350, saving model to ./models/basic_rnn/rnn_mitbih.h5\n",
      "\n",
      "Epoch 00016: val_acc did not improve from 0.97350\n",
      "\n",
      "Epoch 00017: val_acc did not improve from 0.97350\n",
      "\n",
      "Epoch 00018: val_acc did not improve from 0.97350\n",
      "\n",
      "Epoch 00018: ReduceLROnPlateau reducing learning rate to 1.0000000474974514e-05.\n",
      "\n",
      "Epoch 00019: val_acc did not improve from 0.97350\n",
      "\n",
      "Epoch 00020: val_acc did not improve from 0.97350\n",
      "Epoch 00020: early stopping\n",
      "\n"
     ]
    }
   ],
   "source": [
    "history = original_model.fit(\n",
    "    X_train_mit, y_train_mit,\n",
    "    epochs=config_mit.epochs,\n",
    "    batch_size=config_mit.batch_size,\n",
    "    verbose=0,\n",
    "    callbacks=[\n",
    "        checkpoint, early, redonplat,\n",
    "        WandbCallback(), TqdmCallback(verbose=1)],\n",
    "    validation_split=0.1)"
   ],
   "metadata": {
    "collapsed": false,
    "pycharm": {
     "name": "#%%\n"
    }
   }
  },
  {
   "cell_type": "code",
   "execution_count": 84,
   "outputs": [],
   "source": [
    "original_model.load_weights(file_path_mit)"
   ],
   "metadata": {
    "collapsed": false,
    "pycharm": {
     "name": "#%%\n"
    }
   }
  },
  {
   "cell_type": "markdown",
   "source": [
    "#### Evaluation"
   ],
   "metadata": {
    "collapsed": false
   }
  },
  {
   "cell_type": "code",
   "execution_count": 85,
   "outputs": [],
   "source": [
    "test_preds_mit = np.argmax(\n",
    "    original_model.predict(X_test_mit, batch_size=512), axis=-1)\n",
    "\n",
    "r = compute_metrics(y_test_mit, test_preds_mit)\n",
    "\n",
    "f1_weighted = r['f1-weighted']\n",
    "f1_macro = r['f1-macro']\n",
    "acc = r['accuracy']\n",
    "b_acc = r['balanced_accuracy']\n",
    "\n",
    "wandb.log({'Test Accuracy': acc})\n",
    "wandb.log({'Test F1 Weighted': f1_weighted})\n",
    "wandb.log({'Test F1 Macro': f1_macro})\n",
    "wandb.log({'Test Balanced Accuracy': b_acc})"
   ],
   "metadata": {
    "collapsed": false,
    "pycharm": {
     "name": "#%%\n"
    }
   }
  },
  {
   "cell_type": "code",
   "execution_count": 86,
   "outputs": [
    {
     "name": "stdout",
     "output_type": "stream",
     "text": [
      "f1 score micro:           0.97081\n",
      "f1 score macro:           0.85412\n",
      "f1 score weighted:        0.96966\n",
      "accuracy score:           0.97081\n",
      "balanced accuracy score:  0.82759\n"
     ]
    },
    {
     "data": {
      "text/plain": "<Figure size 432x288 with 2 Axes>",
      "image/png": "[encoded data removed]"
     },
     "metadata": {
      "needs_background": "light"
     },
     "output_type": "display_data"
    }
   ],
   "source": [
    "display_result(y_test_mit, test_preds_mit)"
   ],
   "metadata": {
    "collapsed": false,
    "pycharm": {
     "name": "#%%\n"
    }
   }
  },
  {
   "cell_type": "code",
   "execution_count": 87,
   "outputs": [
    {
     "data": {
      "text/plain": "<IPython.core.display.HTML object>",
      "text/html": "<br/>Waiting for W&B process to finish, PID 168982<br/>Program ended successfully."
     },
     "metadata": {},
     "output_type": "display_data"
    },
    {
     "data": {
      "text/plain": "VBox(children=(Label(value=' 1.24MB of 1.24MB uploaded (0.00MB deduped)\\r'), FloatProgress(value=1.0, max=1.0)…",
      "application/vnd.jupyter.widget-view+json": {
       "version_major": 2,
       "version_minor": 0,
       "model_id": "1ae708f59b4447b58597bd9ec51daeb9"
      }
     },
     "metadata": {},
     "output_type": "display_data"
    },
    {
     "data": {
      "text/plain": "<IPython.core.display.HTML object>",
      "text/html": "Find user logs for this run at: <code>/cluster/scratch/asvete/project4/wandb/run-20210604_230606-237nry17/logs/debug.log</code>"
     },
     "metadata": {},
     "output_type": "display_data"
    },
    {
     "data": {
      "text/plain": "<IPython.core.display.HTML object>",
      "text/html": "Find internal logs for this run at: <code>/cluster/scratch/asvete/project4/wandb/run-20210604_230606-237nry17/logs/debug-internal.log</code>"
     },
     "metadata": {},
     "output_type": "display_data"
    },
    {
     "data": {
      "text/plain": "<IPython.core.display.HTML object>",
      "text/html": "<h3>Run summary:</h3><br/><style>\n    table.wandb td:nth-child(1) { padding: 0 10px; text-align: right }\n    </style><table class=\"wandb\">\n<tr><td>epoch</td><td>19</td></tr><tr><td>loss</td><td>0.0885</td></tr><tr><td>acc</td><td>0.97509</td></tr><tr><td>val_loss</td><td>0.10484</td></tr><tr><td>val_acc</td><td>0.97293</td></tr><tr><td>lr</td><td>1e-05</td></tr><tr><td>_runtime</td><td>448</td></tr><tr><td>_timestamp</td><td>1622841214</td></tr><tr><td>_step</td><td>23</td></tr><tr><td>best_val_loss</td><td>0.10043</td></tr><tr><td>best_epoch</td><td>14</td></tr><tr><td>Test Accuracy</td><td>0.97081</td></tr><tr><td>Test F1 Weighted</td><td>0.96966</td></tr><tr><td>Test F1 Macro</td><td>0.85412</td></tr><tr><td>Test Balanced Accuracy</td><td>0.82759</td></tr></table>"
     },
     "metadata": {},
     "output_type": "display_data"
    },
    {
     "data": {
      "text/plain": "<IPython.core.display.HTML object>",
      "text/html": "<h3>Run history:</h3><br/><style>\n    table.wandb td:nth-child(1) { padding: 0 10px; text-align: right }\n    </style><table class=\"wandb\">\n<tr><td>epoch</td><td>▁▁▂▂▂▃▃▄▄▄▅▅▅▆▆▇▇▇██</td></tr><tr><td>loss</td><td>█▅▆▄▃▂▂▂▂▂▁▁▁▁▁▁▁▁▁▁</td></tr><tr><td>acc</td><td>▁▃▂▅▆▇▇▇▇▇██████████</td></tr><tr><td>val_loss</td><td>▃█▃▂▂▁▁▁▂▁▁▁▁▁▁▁▁▁▁▁</td></tr><tr><td>val_acc</td><td>▇▁▇▇▇███▇███████████</td></tr><tr><td>lr</td><td>███████████▂▂▂▂▂▂▂▁▁</td></tr><tr><td>_runtime</td><td>▁▁▂▂▂▃▃▄▄▄▅▅▅▆▆▇▇▇██████</td></tr><tr><td>_timestamp</td><td>▁▁▂▂▂▃▃▄▄▄▅▅▅▆▆▇▇▇██████</td></tr><tr><td>_step</td><td>▁▁▂▂▂▃▃▃▃▄▄▄▅▅▅▆▆▆▆▇▇▇██</td></tr><tr><td>Test Accuracy</td><td>▁</td></tr><tr><td>Test F1 Weighted</td><td>▁</td></tr><tr><td>Test F1 Macro</td><td>▁</td></tr><tr><td>Test Balanced Accuracy</td><td>▁</td></tr></table><br/>"
     },
     "metadata": {},
     "output_type": "display_data"
    },
    {
     "data": {
      "text/plain": "<IPython.core.display.HTML object>",
      "text/html": "Synced 5 W&B file(s), 1 media file(s), 0 artifact file(s) and 1 other file(s)"
     },
     "metadata": {},
     "output_type": "display_data"
    },
    {
     "data": {
      "text/plain": "<IPython.core.display.HTML object>",
      "text/html": "\n                    <br/>Synced <strong style=\"color:#cdcd00\">elated-cloud-118</strong>: <a href=\"https://wandb.ai/anej/ML4HC-project4/runs/237nry17\" target=\"_blank\">https://wandb.ai/anej/ML4HC-project4/runs/237nry17</a><br/>\n                "
     },
     "metadata": {},
     "output_type": "display_data"
    }
   ],
   "source": [
    "run.join()"
   ],
   "metadata": {
    "collapsed": false,
    "pycharm": {
     "name": "#%%\n"
    }
   }
  },
  {
   "cell_type": "markdown",
   "source": [
    "### Predictions"
   ],
   "metadata": {
    "collapsed": false
   }
  },
  {
   "cell_type": "code",
   "execution_count": 88,
   "outputs": [],
   "source": [
    "save_predictions(original_model, X_test_mit, 'basic_rnn', 'test_mitbih')\n",
    "save_predictions(original_model, X_train_mit, 'basic_rnn', 'train_mitbih')"
   ],
   "metadata": {
    "collapsed": false,
    "pycharm": {
     "name": "#%%\n"
    }
   }
  },
  {
   "cell_type": "markdown",
   "source": [
    "## PTBDB"
   ],
   "metadata": {
    "collapsed": false
   }
  },
  {
   "cell_type": "markdown",
   "source": [
    "#### W&B setup"
   ],
   "metadata": {
    "collapsed": false
   }
  },
  {
   "cell_type": "code",
   "execution_count": 116,
   "outputs": [
    {
     "name": "stderr",
     "output_type": "stream",
     "text": [
      "\u001B[34m\u001B[1mwandb\u001B[0m: wandb version 0.10.31 is available!  To upgrade, please run:\n",
      "\u001B[34m\u001B[1mwandb\u001B[0m:  $ pip install wandb --upgrade\n"
     ]
    },
    {
     "data": {
      "text/plain": "<IPython.core.display.HTML object>",
      "text/html": "\n                Tracking run with wandb version 0.10.27<br/>\n                Syncing run <strong style=\"color:#cdcd00\">playful-totem-122</strong> to <a href=\"https://wandb.ai\" target=\"_blank\">Weights & Biases</a> <a href=\"https://docs.wandb.com/integrations/jupyter.html\" target=\"_blank\">(Documentation)</a>.<br/>\n                Project page: <a href=\"https://wandb.ai/anej/ML4HC-project4\" target=\"_blank\">https://wandb.ai/anej/ML4HC-project4</a><br/>\n                Run page: <a href=\"https://wandb.ai/anej/ML4HC-project4/runs/2ngae22x\" target=\"_blank\">https://wandb.ai/anej/ML4HC-project4/runs/2ngae22x</a><br/>\n                Run data is saved locally in <code>/cluster/scratch/asvete/project4/wandb/run-20210604_231942-2ngae22x</code><br/><br/>\n            "
     },
     "metadata": {},
     "output_type": "display_data"
    }
   ],
   "source": [
    "\n",
    "run = wandb.init(\n",
    "    project='ML4HC-project4',\n",
    "    config={\n",
    "        'epochs': 128,\n",
    "        'batch_size': 32,\n",
    "        'loss_function': 'sparse_categorical_crossentropy',\n",
    "        'architecture': 'Basic RNN',\n",
    "        'dataset': 'PTBDB',\n",
    "        'mode': 'training',\n",
    "        'ndim': 64,\n",
    "        'rnn_dropout': 0.1,\n",
    "        'dense_size': 32,\n",
    "        'learning_rate': 1e-3,\n",
    "        'schedule_lr': False\n",
    "    })\n",
    "\n",
    "config_pt = wandb.config"
   ],
   "metadata": {
    "collapsed": false,
    "pycharm": {
     "name": "#%%\n"
    }
   }
  },
  {
   "cell_type": "markdown",
   "source": [
    "#### Model"
   ],
   "metadata": {
    "collapsed": false
   }
  },
  {
   "cell_type": "code",
   "execution_count": 117,
   "outputs": [
    {
     "name": "stdout",
     "output_type": "stream",
     "text": [
      "Model: \"functional_29\"\n",
      "_________________________________________________________________\n",
      "Layer (type)                 Output Shape              Param #   \n",
      "=================================================================\n",
      "input_17 (InputLayer)        [(None, 187, 1)]          0         \n",
      "_________________________________________________________________\n",
      "batch_normalization_24 (Batc (None, 187, 1)            4         \n",
      "_________________________________________________________________\n",
      "rec_1 (LSTM)                 (None, 64)                16896     \n",
      "_________________________________________________________________\n",
      "batch_normalization_25 (Batc (None, 64)                256       \n",
      "_________________________________________________________________\n",
      "dense_1 (Dense)              (None, 32)                2080      \n",
      "_________________________________________________________________\n",
      "batch_normalization_26 (Batc (None, 32)                128       \n",
      "_________________________________________________________________\n",
      "dense_2 (Dense)              (None, 32)                1056      \n",
      "_________________________________________________________________\n",
      "batch_normalization_27 (Batc (None, 32)                128       \n",
      "_________________________________________________________________\n",
      "final_dense (Dense)          (None, 5)                 165       \n",
      "=================================================================\n",
      "Total params: 20,713\n",
      "Trainable params: 20,455\n",
      "Non-trainable params: 258\n",
      "_________________________________________________________________\n"
     ]
    }
   ],
   "source": [
    "original_model = get_basic_rnn_model(config_pt, nclass=5)"
   ],
   "metadata": {
    "collapsed": false,
    "pycharm": {
     "name": "#%%\n"
    }
   }
  },
  {
   "cell_type": "code",
   "execution_count": 118,
   "outputs": [],
   "source": [
    "file_path_pt = './models/basic_rnn/rnn_ptbdb.h5'\n",
    "\n",
    "checkpoint = ModelCheckpoint(\n",
    "    file_path_pt, monitor='val_acc', verbose=1,\n",
    "    save_best_only=True, mode='max')\n",
    "early = EarlyStopping(\n",
    "    monitor='val_acc', mode='max', patience=5, verbose=1)\n",
    "redonplat = ReduceLROnPlateau(\n",
    "    monitor='val_acc', mode='max', patience=3, verbose=2)"
   ],
   "metadata": {
    "collapsed": false,
    "pycharm": {
     "name": "#%%\n"
    }
   }
  },
  {
   "cell_type": "markdown",
   "source": [
    "#### Training"
   ],
   "metadata": {
    "collapsed": false
   }
  },
  {
   "cell_type": "code",
   "execution_count": 119,
   "outputs": [
    {
     "data": {
      "text/plain": "HBox(children=(FloatProgress(value=1.0, bar_style='info', layout=Layout(width='20px'), max=1.0), HTML(value=''…",
      "application/vnd.jupyter.widget-view+json": {
       "version_major": 2,
       "version_minor": 0,
       "model_id": "89ba4bac514941f594161a1ec8cfcac0"
      }
     },
     "metadata": {},
     "output_type": "display_data"
    },
    {
     "data": {
      "text/plain": "HBox(children=(FloatProgress(value=1.0, bar_style='info', layout=Layout(width='20px'), max=1.0), HTML(value=''…",
      "application/vnd.jupyter.widget-view+json": {
       "version_major": 2,
       "version_minor": 0,
       "model_id": "b7f7adaf9bb54c1d8e41fcc6146575bd"
      }
     },
     "metadata": {},
     "output_type": "display_data"
    },
    {
     "name": "stdout",
     "output_type": "stream",
     "text": [
      "\n",
      "Epoch 00001: val_acc improved from -inf to 0.69957, saving model to ./models/basic_rnn/rnn_ptbdb.h5\n",
      "\n",
      "Epoch 00002: val_acc did not improve from 0.69957\n",
      "\n",
      "Epoch 00003: val_acc did not improve from 0.69957\n",
      "\n",
      "Epoch 00004: val_acc did not improve from 0.69957\n",
      "\n",
      "Epoch 00004: ReduceLROnPlateau reducing learning rate to 0.00010000000474974513.\n",
      "\n",
      "Epoch 00005: val_acc improved from 0.69957 to 0.72361, saving model to ./models/basic_rnn/rnn_ptbdb.h5\n",
      "\n",
      "Epoch 00006: val_acc improved from 0.72361 to 0.72876, saving model to ./models/basic_rnn/rnn_ptbdb.h5\n",
      "\n",
      "Epoch 00007: val_acc improved from 0.72876 to 0.73047, saving model to ./models/basic_rnn/rnn_ptbdb.h5\n",
      "\n",
      "Epoch 00008: val_acc did not improve from 0.73047\n",
      "\n",
      "Epoch 00009: val_acc did not improve from 0.73047\n",
      "\n",
      "Epoch 00010: val_acc improved from 0.73047 to 0.73476, saving model to ./models/basic_rnn/rnn_ptbdb.h5\n",
      "\n",
      "Epoch 00011: val_acc improved from 0.73476 to 0.74249, saving model to ./models/basic_rnn/rnn_ptbdb.h5\n",
      "\n",
      "Epoch 00012: val_acc improved from 0.74249 to 0.74850, saving model to ./models/basic_rnn/rnn_ptbdb.h5\n",
      "\n",
      "Epoch 00013: val_acc did not improve from 0.74850\n",
      "\n",
      "Epoch 00014: val_acc did not improve from 0.74850\n",
      "\n",
      "Epoch 00015: val_acc improved from 0.74850 to 0.75708, saving model to ./models/basic_rnn/rnn_ptbdb.h5\n",
      "\n",
      "Epoch 00016: val_acc improved from 0.75708 to 0.77167, saving model to ./models/basic_rnn/rnn_ptbdb.h5\n",
      "\n",
      "Epoch 00017: val_acc did not improve from 0.77167\n",
      "\n",
      "Epoch 00018: val_acc did not improve from 0.77167\n",
      "\n",
      "Epoch 00019: val_acc did not improve from 0.77167\n",
      "\n",
      "Epoch 00019: ReduceLROnPlateau reducing learning rate to 1.0000000474974514e-05.\n",
      "\n",
      "Epoch 00020: val_acc did not improve from 0.77167\n",
      "\n",
      "Epoch 00021: val_acc did not improve from 0.77167\n",
      "Epoch 00021: early stopping\n",
      "\n"
     ]
    }
   ],
   "source": [
    "history = original_model.fit(\n",
    "    X_train_pt, y_train_pt,\n",
    "    epochs=config_pt.epochs,\n",
    "    batch_size=config_pt.batch_size,\n",
    "    verbose=0,\n",
    "    callbacks=[\n",
    "        checkpoint, early, redonplat,\n",
    "        WandbCallback(), TqdmCallback(verbose=1)],\n",
    "    validation_split=0.1)"
   ],
   "metadata": {
    "collapsed": false,
    "pycharm": {
     "name": "#%%\n"
    }
   }
  },
  {
   "cell_type": "code",
   "execution_count": 120,
   "outputs": [],
   "source": [
    "original_model.load_weights(file_path_pt)\n"
   ],
   "metadata": {
    "collapsed": false,
    "pycharm": {
     "name": "#%%\n"
    }
   }
  },
  {
   "cell_type": "markdown",
   "source": [
    "#### Evaluation"
   ],
   "metadata": {
    "collapsed": false
   }
  },
  {
   "cell_type": "code",
   "execution_count": 121,
   "outputs": [],
   "source": [
    "raw_preds = original_model.predict(X_test_pt, batch_size=512)\n",
    "test_preds_pt = np.argmax(raw_preds, axis=-1)\n",
    "\n",
    "r = compute_metrics(y_test_pt, test_preds_pt)\n",
    "\n",
    "f1_weighted = r['f1-weighted']\n",
    "f1_macro = r['f1-macro']\n",
    "acc = r['accuracy']\n",
    "b_acc = r['balanced_accuracy']\n",
    "\n",
    "wandb.log({'Test Accuracy': acc})\n",
    "wandb.log({'Test F1 Weighted': f1_weighted})\n",
    "wandb.log({'Test F1 Macro': f1_macro})\n",
    "wandb.log({'Test Balanced Accuracy': b_acc})"
   ],
   "metadata": {
    "collapsed": false,
    "pycharm": {
     "name": "#%%\n"
    }
   }
  },
  {
   "cell_type": "code",
   "execution_count": 122,
   "outputs": [
    {
     "name": "stdout",
     "output_type": "stream",
     "text": [
      "f1 score micro:           0.76056\n",
      "f1 score macro:           0.70493\n",
      "f1 score weighted:        0.76184\n",
      "accuracy score:           0.76056\n",
      "balanced accuracy score:  0.70723\n",
      "AuPR score:               0.92102\n",
      "AuROC score:              0.81197\n"
     ]
    },
    {
     "data": {
      "text/plain": "<Figure size 432x288 with 2 Axes>",
      "image/png": "[encoded data removed]"
     },
     "metadata": {
      "needs_background": "light"
     },
     "output_type": "display_data"
    }
   ],
   "source": [
    "display_result(y_test_pt, test_preds_pt, True, raw_preds[:, 1])"
   ],
   "metadata": {
    "collapsed": false,
    "pycharm": {
     "name": "#%%\n"
    }
   }
  },
  {
   "cell_type": "code",
   "execution_count": 123,
   "outputs": [
    {
     "data": {
      "text/plain": "<IPython.core.display.HTML object>",
      "text/html": "<br/>Waiting for W&B process to finish, PID 171293<br/>Program ended successfully."
     },
     "metadata": {},
     "output_type": "display_data"
    },
    {
     "data": {
      "text/plain": "VBox(children=(Label(value=' 0.31MB of 0.31MB uploaded (0.00MB deduped)\\r'), FloatProgress(value=1.0, max=1.0)…",
      "application/vnd.jupyter.widget-view+json": {
       "version_major": 2,
       "version_minor": 0,
       "model_id": "c9b001f5be534f11834971f9c23c23b5"
      }
     },
     "metadata": {},
     "output_type": "display_data"
    },
    {
     "data": {
      "text/plain": "<IPython.core.display.HTML object>",
      "text/html": "Find user logs for this run at: <code>/cluster/scratch/asvete/project4/wandb/run-20210604_231942-2ngae22x/logs/debug.log</code>"
     },
     "metadata": {},
     "output_type": "display_data"
    },
    {
     "data": {
      "text/plain": "<IPython.core.display.HTML object>",
      "text/html": "Find internal logs for this run at: <code>/cluster/scratch/asvete/project4/wandb/run-20210604_231942-2ngae22x/logs/debug-internal.log</code>"
     },
     "metadata": {},
     "output_type": "display_data"
    },
    {
     "data": {
      "text/plain": "<IPython.core.display.HTML object>",
      "text/html": "<h3>Run summary:</h3><br/><style>\n    table.wandb td:nth-child(1) { padding: 0 10px; text-align: right }\n    </style><table class=\"wandb\">\n<tr><td>epoch</td><td>20</td></tr><tr><td>loss</td><td>0.45761</td></tr><tr><td>acc</td><td>0.77081</td></tr><tr><td>val_loss</td><td>0.46472</td></tr><tr><td>val_acc</td><td>0.76652</td></tr><tr><td>lr</td><td>1e-05</td></tr><tr><td>_runtime</td><td>65</td></tr><tr><td>_timestamp</td><td>1622841647</td></tr><tr><td>_step</td><td>24</td></tr><tr><td>best_val_loss</td><td>0.46254</td></tr><tr><td>best_epoch</td><td>16</td></tr><tr><td>Test Accuracy</td><td>0.76056</td></tr><tr><td>Test F1 Weighted</td><td>0.76184</td></tr><tr><td>Test F1 Macro</td><td>0.70493</td></tr><tr><td>Test Balanced Accuracy</td><td>0.70723</td></tr></table>"
     },
     "metadata": {},
     "output_type": "display_data"
    },
    {
     "data": {
      "text/plain": "<IPython.core.display.HTML object>",
      "text/html": "<h3>Run history:</h3><br/><style>\n    table.wandb td:nth-child(1) { padding: 0 10px; text-align: right }\n    </style><table class=\"wandb\">\n<tr><td>epoch</td><td>▁▁▂▂▂▃▃▃▄▄▅▅▅▆▆▆▇▇▇██</td></tr><tr><td>loss</td><td>█▂▂▂▁▁▁▁▁▁▁▁▁▁▁▁▁▁▁▁▁</td></tr><tr><td>acc</td><td>▁▆▆▆▆▇▆▇▇▇▆▇▇▇▇▇█▇███</td></tr><tr><td>val_loss</td><td>▇▄▇█▂▂▂▂▂▂▂▂▁▂▂▂▁▂▁▁▁</td></tr><tr><td>val_acc</td><td>▆▅▁▆▇▇▇▇▇▇▇▇▇▇███████</td></tr><tr><td>lr</td><td>████▂▂▂▂▂▂▂▂▂▂▂▂▂▂▂▁▁</td></tr><tr><td>_runtime</td><td>▁▁▂▂▂▃▃▃▄▄▄▅▅▅▆▆▆▇▇▇█████</td></tr><tr><td>_timestamp</td><td>▁▁▂▂▂▃▃▃▄▄▄▅▅▅▆▆▆▇▇▇█████</td></tr><tr><td>_step</td><td>▁▁▂▂▂▂▃▃▃▄▄▄▅▅▅▅▆▆▆▇▇▇▇██</td></tr><tr><td>Test Accuracy</td><td>▁</td></tr><tr><td>Test F1 Weighted</td><td>▁</td></tr><tr><td>Test F1 Macro</td><td>▁</td></tr><tr><td>Test Balanced Accuracy</td><td>▁</td></tr></table><br/>"
     },
     "metadata": {},
     "output_type": "display_data"
    },
    {
     "data": {
      "text/plain": "<IPython.core.display.HTML object>",
      "text/html": "Synced 5 W&B file(s), 1 media file(s), 0 artifact file(s) and 1 other file(s)"
     },
     "metadata": {},
     "output_type": "display_data"
    },
    {
     "data": {
      "text/plain": "<IPython.core.display.HTML object>",
      "text/html": "\n                    <br/>Synced <strong style=\"color:#cdcd00\">playful-totem-122</strong>: <a href=\"https://wandb.ai/anej/ML4HC-project4/runs/2ngae22x\" target=\"_blank\">https://wandb.ai/anej/ML4HC-project4/runs/2ngae22x</a><br/>\n                "
     },
     "metadata": {},
     "output_type": "display_data"
    }
   ],
   "source": [
    "run.join()"
   ],
   "metadata": {
    "collapsed": false,
    "pycharm": {
     "name": "#%%\n"
    }
   }
  },
  {
   "cell_type": "markdown",
   "source": [
    "### Predictions"
   ],
   "metadata": {
    "collapsed": false
   }
  },
  {
   "cell_type": "code",
   "execution_count": 124,
   "outputs": [],
   "source": [
    "save_predictions(original_model, X_test_pt, 'basic_rnn', 'test_ptb')\n",
    "save_predictions(original_model, X_train_pt, 'basic_rnn', 'train_ptb')\n"
   ],
   "metadata": {
    "collapsed": false,
    "pycharm": {
     "name": "#%%\n"
    }
   }
  }
 ],
 "metadata": {
  "kernelspec": {
   "display_name": "Python 3",
   "language": "python",
   "name": "python3"
  },
  "language_info": {
   "codemirror_mode": {
    "name": "ipython",
    "version": 3
   },
   "file_extension": ".py",
   "mimetype": "text/x-python",
   "name": "python",
   "nbconvert_exporter": "python",
   "pygments_lexer": "ipython3",
   "version": "3.8.5"
  }
 },
 "nbformat": 4,
 "nbformat_minor": 4
}