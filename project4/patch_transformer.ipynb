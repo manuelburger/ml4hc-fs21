{
 "cells": [
  {
   "cell_type": "code",
   "execution_count": 1,
   "metadata": {},
   "outputs": [],
   "source": [
    "import os\n",
    "import pandas as pd\n",
    "import numpy as np\n",
    "import matplotlib.pyplot as plt\n",
    "import h5py\n",
    "\n",
    "# Import Tensorflow\n",
    "import tensorflow as tf\n",
    "import tensorflow.keras.backend as K\n",
    "from tensorflow.keras import optimizers, losses, activations, models, initializers, regularizers, constraints\n",
    "from tensorflow.keras.callbacks import ModelCheckpoint, EarlyStopping, LearningRateScheduler, ReduceLROnPlateau\n",
    "from tensorflow.keras.layers import Layer, Dense, Input, Dropout, Convolution1D, Conv1D, MaxPool1D, GlobalMaxPool1D, GlobalAveragePooling1D, \\\n",
    "    concatenate, BatchNormalization, Bidirectional, LSTM, Flatten, Permute, Concatenate, Reshape\n",
    "from tensorflow.keras.models import load_model, Model, Sequential\n",
    "from tensorflow import keras\n",
    "from tensorflow.keras import layers\n",
    "import tensorflow_addons as tfa\n",
    "\n",
    "# Import Sklearn\n",
    "from sklearn.metrics import f1_score, accuracy_score\n",
    "from sklearn.model_selection import train_test_split\n",
    "from sklearn.utils import class_weight\n",
    "\n",
    "# custom modules\n",
    "from utils import *\n",
    "from cf_matrix import *\n",
    "from data import get_tsfel_features\n",
    "\n",
    "\n",
    "from livelossplot import PlotLossesKeras"
   ]
  },
  {
   "cell_type": "code",
   "execution_count": 2,
   "metadata": {},
   "outputs": [],
   "source": [
    "%load_ext autoreload\n",
    "%autoreload 2"
   ]
  },
  {
   "cell_type": "code",
   "execution_count": 3,
   "metadata": {},
   "outputs": [],
   "source": [
    "os.environ[\"CUDA_VISIBLE_DEVICES\"]=\"1\" # select GPU"
   ]
  },
  {
   "cell_type": "code",
   "execution_count": 4,
   "metadata": {},
   "outputs": [
    {
     "name": "stdout",
     "output_type": "stream",
     "text": [
      "Num GPUs Available:  1\n"
     ]
    }
   ],
   "source": [
    "print(\"Num GPUs Available: \", len(tf.config.list_physical_devices('GPU')))"
   ]
  },
  {
   "cell_type": "markdown",
   "metadata": {},
   "source": [
    "## MITBIH Model"
   ]
  },
  {
   "cell_type": "code",
   "execution_count": 5,
   "metadata": {},
   "outputs": [],
   "source": [
    "WINDOW_SIZE = 187\n",
    "NO_CLASSES = 5\n",
    "SAMPLING_RATE = 125.0\n",
    "\n",
    "INPUT_SHAPE = (WINDOW_SIZE, 1, 1)"
   ]
  },
  {
   "cell_type": "markdown",
   "metadata": {},
   "source": [
    "### Load data"
   ]
  },
  {
   "cell_type": "code",
   "execution_count": 6,
   "metadata": {},
   "outputs": [],
   "source": [
    "df_train = pd.read_csv(\"./data/mitbih_train.csv\", header=None)\n",
    "df_train = df_train.sample(frac=1, random_state=42)\n",
    "df_test = pd.read_csv(\"./data/mitbih_test.csv\", header=None)\n",
    "\n",
    "Y = np.array(df_train[187].values).astype(np.int8)\n",
    "X = np.array(df_train[list(range(187))].values)[..., np.newaxis]\n",
    "\n",
    "Y_test = np.array(df_test[187].values).astype(np.int8)\n",
    "X_test = np.array(df_test[list(range(187))].values)[..., np.newaxis]"
   ]
  },
  {
   "cell_type": "code",
   "execution_count": 7,
   "metadata": {},
   "outputs": [],
   "source": [
    "X = X.reshape((X.shape[0], WINDOW_SIZE, 1, 1))\n",
    "X_test = X_test.reshape((X_test.shape[0], WINDOW_SIZE, 1, 1))"
   ]
  },
  {
   "cell_type": "code",
   "execution_count": 8,
   "metadata": {},
   "outputs": [
    {
     "name": "stdout",
     "output_type": "stream",
     "text": [
      "Train (87554, 187, 1, 1) (87554,)\n",
      "Test (21892, 187, 1, 1) (21892,)\n"
     ]
    }
   ],
   "source": [
    "print(\"Train\", X.shape, Y.shape)\n",
    "print(\"Test\", X_test.shape, Y_test.shape)"
   ]
  },
  {
   "cell_type": "markdown",
   "metadata": {},
   "source": [
    "### Class weights"
   ]
  },
  {
   "cell_type": "code",
   "execution_count": 9,
   "metadata": {},
   "outputs": [],
   "source": [
    "cls_weights = class_weight.compute_class_weight('balanced', classes = np.unique(Y),  y = Y)\n",
    "cls_weight_dict = dict(enumerate(cls_weights))"
   ]
  },
  {
   "cell_type": "markdown",
   "metadata": {},
   "source": [
    "## Patch based Transformer\n",
    "Adapted from https://keras.io/examples/vision/image_classification_with_vision_transformer/"
   ]
  },
  {
   "cell_type": "markdown",
   "metadata": {},
   "source": [
    "#### Configure Hyperparameters"
   ]
  },
  {
   "cell_type": "code",
   "execution_count": 10,
   "metadata": {},
   "outputs": [],
   "source": [
    "learning_rate = 0.001\n",
    "weight_decay = 0.0001\n",
    "batch_size = 256\n",
    "num_epochs = 100\n",
    "image_size = WINDOW_SIZE  # We'll resize input images to this size\n",
    "patch_size = 6  # Size of the patches to be extract from the input images\n",
    "num_patches = (image_size // patch_size)\n",
    "projection_dim = 64\n",
    "num_heads = 5\n",
    "transformer_units = [\n",
    "    projection_dim * 2,\n",
    "    projection_dim,\n",
    "]  # Size of the transformer layers\n",
    "transformer_layers = 3\n",
    "mlp_head_units = [512, 256]  # Size of the dense layers of the final classifier\n",
    "\n",
    "weight_file_path = \"./models/patch_transfomer_mitbih.h5\"\n",
    "weight_file_path_ptb = \"./models/patch_transfomer_ptb.h5\""
   ]
  },
  {
   "cell_type": "markdown",
   "metadata": {},
   "source": [
    "#### Data Augmentation"
   ]
  },
  {
   "cell_type": "code",
   "execution_count": 11,
   "metadata": {},
   "outputs": [],
   "source": [
    "# Noise Layer:\n",
    "# https://stackoverflow.com/questions/58484545/how-to-add-a-noise-with-uniform-distribution-to-input-data-in-keras\n",
    "class noiseLayer(tf.keras.layers.Layer):\n",
    "\n",
    "    def __init__(self,mean,std):\n",
    "        super(noiseLayer, self).__init__()\n",
    "        self.mean = mean\n",
    "        self.std  = std\n",
    "        \n",
    "    # TODO: implement reasonably\n",
    "    def get_config(self):\n",
    "        return {}\n",
    "\n",
    "    def call(self, input):\n",
    "\n",
    "        mean = self.mean\n",
    "        std  = self.std\n",
    "        \n",
    "        res = input + tf.random.normal(tf.shape(input), mean = mean, stddev = std)\n",
    "\n",
    "        return res"
   ]
  },
  {
   "cell_type": "code",
   "execution_count": 12,
   "metadata": {},
   "outputs": [],
   "source": [
    "data_augmentation = keras.Sequential(\n",
    "    [\n",
    "        layers.experimental.preprocessing.Normalization(),\n",
    "        noiseLayer(mean = 0, std = 0.05)\n",
    "    ],\n",
    "    name=\"data_augmentation\",\n",
    ")\n",
    "# Compute the mean and the variance of the training data for normalization.\n",
    "data_augmentation.layers[0].adapt(X)"
   ]
  },
  {
   "cell_type": "markdown",
   "metadata": {},
   "source": [
    "#### MLP"
   ]
  },
  {
   "cell_type": "code",
   "execution_count": 13,
   "metadata": {},
   "outputs": [],
   "source": [
    "def mlp(x, hidden_units, dropout_rate):\n",
    "    for units in hidden_units:\n",
    "        x = layers.Dense(units, activation=tf.nn.gelu)(x)\n",
    "        x = layers.Dropout(dropout_rate)(x)\n",
    "    return x"
   ]
  },
  {
   "cell_type": "markdown",
   "metadata": {},
   "source": [
    "#### Patch Creation Layer"
   ]
  },
  {
   "cell_type": "code",
   "execution_count": 14,
   "metadata": {},
   "outputs": [],
   "source": [
    "class Patches(layers.Layer):\n",
    "    def __init__(self, patch_size):\n",
    "        super(Patches, self).__init__()\n",
    "        self.patch_size = patch_size\n",
    "        \n",
    "    # TODO: implement reasonably\n",
    "    def get_config(self):\n",
    "        return {}\n",
    "\n",
    "    def call(self, images):\n",
    "        batch_size = tf.shape(images)[0]\n",
    "        patches = tf.image.extract_patches(\n",
    "            images=images,\n",
    "            sizes=[1, self.patch_size, 1, 1],\n",
    "            strides=[1, self.patch_size, 1, 1],\n",
    "            rates=[1, 1, 1, 1],\n",
    "            padding=\"VALID\",\n",
    "        )\n",
    "        patch_dims = patches.shape[-1]\n",
    "        patches = tf.reshape(patches, [batch_size, -1, patch_dims])\n",
    "        return patches"
   ]
  },
  {
   "cell_type": "markdown",
   "metadata": {},
   "source": [
    "#### Patch Encoding Layer"
   ]
  },
  {
   "cell_type": "code",
   "execution_count": 15,
   "metadata": {},
   "outputs": [],
   "source": [
    "class PatchEncoder(layers.Layer):\n",
    "    def __init__(self, num_patches, projection_dim):\n",
    "        super(PatchEncoder, self).__init__()\n",
    "        self.num_patches = num_patches\n",
    "        self.projection = layers.Dense(units=projection_dim)\n",
    "        self.position_embedding = layers.Embedding(\n",
    "            input_dim=num_patches, output_dim=projection_dim\n",
    "        )\n",
    "        \n",
    "    # TODO: implement reasonably\n",
    "    def get_config(self):\n",
    "        return {}\n",
    "\n",
    "    def call(self, patch):\n",
    "        positions = tf.range(start=0, limit=self.num_patches, delta=1)\n",
    "        encoded = self.projection(patch) + self.position_embedding(positions)\n",
    "        return encoded"
   ]
  },
  {
   "cell_type": "markdown",
   "metadata": {},
   "source": [
    "#### Build Transfomer"
   ]
  },
  {
   "cell_type": "code",
   "execution_count": 16,
   "metadata": {},
   "outputs": [],
   "source": [
    "def create_transfomer_classifier():\n",
    "    \n",
    "    inputs = layers.Input(shape=INPUT_SHAPE)\n",
    "    # Augment data.\n",
    "    augmented = data_augmentation(inputs)\n",
    "    # Create patches.\n",
    "    patches = Patches(patch_size)(augmented)\n",
    "    # Encode patches.\n",
    "    encoded_patches = PatchEncoder(num_patches, projection_dim)(patches)\n",
    "\n",
    "    # Create multiple layers of the Transformer block.\n",
    "    for _ in range(transformer_layers):\n",
    "        # Layer normalization 1.\n",
    "        x1 = layers.LayerNormalization(epsilon=1e-6)(encoded_patches)\n",
    "        # Create a multi-head attention layer.\n",
    "        attention_output = layers.MultiHeadAttention(\n",
    "            num_heads=num_heads, key_dim=projection_dim, dropout=0.1\n",
    "        )(x1, x1)\n",
    "        # Skip connection 1.\n",
    "        x2 = layers.Add()([attention_output, encoded_patches])\n",
    "        # Layer normalization 2.\n",
    "        x3 = layers.LayerNormalization(epsilon=1e-6)(x2)\n",
    "        # MLP.\n",
    "        x3 = mlp(x3, hidden_units=transformer_units, dropout_rate=0.1)\n",
    "        # Skip connection 2.\n",
    "        encoded_patches = layers.Add()([x3, x2])\n",
    "\n",
    "    # Create a [batch_size, projection_dim] tensor.\n",
    "    representation = layers.LayerNormalization(epsilon=1e-6)(encoded_patches)\n",
    "    representation = layers.Flatten()(representation)\n",
    "    representation = layers.Dropout(0.5)(representation)\n",
    "    # Add MLP.\n",
    "    features = mlp(representation, hidden_units=mlp_head_units, dropout_rate=0.5)\n",
    "    # Classify outputs.\n",
    "    logits = layers.Dense(NO_CLASSES, activation=\"softmax\")(features)\n",
    "    # Create the Keras model.\n",
    "    model = keras.Model(inputs=inputs, outputs=logits)\n",
    "    \n",
    "    return model"
   ]
  },
  {
   "cell_type": "markdown",
   "metadata": {},
   "source": [
    "### Training"
   ]
  },
  {
   "cell_type": "code",
   "execution_count": 18,
   "metadata": {},
   "outputs": [],
   "source": [
    "def run_experiment(model):\n",
    "    optimizer = tfa.optimizers.AdamW(\n",
    "        learning_rate=learning_rate, weight_decay=weight_decay\n",
    "    )\n",
    "    \n",
    "    min_lr           = 0.00005 # 0.00005\n",
    "    reduce_lr_factor = 0.5     # 0.8\n",
    "    patience         = 5\n",
    "    cooldown         = 5 \n",
    "    \n",
    "    monitor = \"val_accuracy\" # val_accuracy\n",
    "    mode = \"max\" # max\n",
    "    checkpoint = ModelCheckpoint(\n",
    "        weight_file_path,\n",
    "        monitor=monitor,\n",
    "        verbose=1,\n",
    "        save_best_only=True,\n",
    "        mode=mode\n",
    "    )\n",
    "    early = EarlyStopping(\n",
    "        monitor=monitor,\n",
    "        mode=mode,\n",
    "        patience=8,\n",
    "        verbose=1\n",
    "    )\n",
    "    redonplat = ReduceLROnPlateau(\n",
    "        monitor=monitor,\n",
    "        mode=mode,\n",
    "        factor=reduce_lr_factor,\n",
    "        patience=patience,\n",
    "        cooldown=cooldown,\n",
    "        min_lr=min_lr,\n",
    "        verbose=2\n",
    "    )\n",
    "\n",
    "    callbacks_list = [checkpoint, early, redonplat] # PlotLossesKeras()\n",
    "    \n",
    "    model.compile(\n",
    "        optimizer=optimizer,\n",
    "        loss=keras.losses.SparseCategoricalCrossentropy(),\n",
    "        metrics=[\n",
    "            keras.metrics.SparseCategoricalAccuracy(name=\"accuracy\"),\n",
    "        ],\n",
    "    )\n",
    "\n",
    "\n",
    "\n",
    "    history = model.fit(\n",
    "        x=X,\n",
    "        y=Y,\n",
    "        batch_size=batch_size,\n",
    "        epochs=num_epochs,\n",
    "        validation_split=0.1,\n",
    "        callbacks=callbacks_list,\n",
    "    )\n",
    "\n",
    "    model.load_weights(weight_file_path)\n",
    "    _, accuracy = model.evaluate(X_test, Y_test)\n",
    "    print(f\"Test accuracy: {round(accuracy * 100, 2)}%\")\n",
    "\n",
    "    return history"
   ]
  },
  {
   "cell_type": "code",
   "execution_count": 19,
   "metadata": {},
   "outputs": [],
   "source": [
    "# Create model\n",
    "transfomer_classifier = create_transfomer_classifier()"
   ]
  },
  {
   "cell_type": "code",
   "execution_count": 62,
   "metadata": {},
   "outputs": [],
   "source": [
    "# transfomer_classifier.summary()\n",
    "# tf.keras.utils.plot_model(transfomer_classifier, show_shapes=True)"
   ]
  },
  {
   "cell_type": "code",
   "execution_count": 21,
   "metadata": {
    "scrolled": true
   },
   "outputs": [
    {
     "name": "stdout",
     "output_type": "stream",
     "text": [
      "Epoch 1/100\n",
      "308/308 [==============================] - 10s 22ms/step - loss: 0.6294 - accuracy: 0.8410 - val_loss: 0.1703 - val_accuracy: 0.9518\n",
      "\n",
      "Epoch 00001: val_loss improved from inf to 0.17030, saving model to ./models/patch_transfomer_mitbih.h5\n",
      "Epoch 2/100\n",
      "308/308 [==============================] - 6s 20ms/step - loss: 0.2322 - accuracy: 0.9396 - val_loss: 0.1209 - val_accuracy: 0.9655\n",
      "\n",
      "Epoch 00002: val_loss improved from 0.17030 to 0.12086, saving model to ./models/patch_transfomer_mitbih.h5\n",
      "Epoch 3/100\n",
      "308/308 [==============================] - 6s 19ms/step - loss: 0.1740 - accuracy: 0.9532 - val_loss: 0.1149 - val_accuracy: 0.9727\n",
      "\n",
      "Epoch 00003: val_loss improved from 0.12086 to 0.11494, saving model to ./models/patch_transfomer_mitbih.h5\n",
      "Epoch 4/100\n",
      "308/308 [==============================] - 6s 19ms/step - loss: 0.1463 - accuracy: 0.9597 - val_loss: 0.0959 - val_accuracy: 0.9751\n",
      "\n",
      "Epoch 00004: val_loss improved from 0.11494 to 0.09586, saving model to ./models/patch_transfomer_mitbih.h5\n",
      "Epoch 5/100\n",
      "308/308 [==============================] - 6s 19ms/step - loss: 0.1289 - accuracy: 0.9654 - val_loss: 0.0855 - val_accuracy: 0.9769\n",
      "\n",
      "Epoch 00005: val_loss improved from 0.09586 to 0.08552, saving model to ./models/patch_transfomer_mitbih.h5\n",
      "Epoch 6/100\n",
      "308/308 [==============================] - 6s 19ms/step - loss: 0.1146 - accuracy: 0.9687 - val_loss: 0.0764 - val_accuracy: 0.9790\n",
      "\n",
      "Epoch 00006: val_loss improved from 0.08552 to 0.07640, saving model to ./models/patch_transfomer_mitbih.h5\n",
      "Epoch 7/100\n",
      "308/308 [==============================] - 6s 19ms/step - loss: 0.1083 - accuracy: 0.9690 - val_loss: 0.0761 - val_accuracy: 0.9789\n",
      "\n",
      "Epoch 00007: val_loss improved from 0.07640 to 0.07608, saving model to ./models/patch_transfomer_mitbih.h5\n",
      "Epoch 8/100\n",
      "308/308 [==============================] - 6s 19ms/step - loss: 0.0972 - accuracy: 0.9717 - val_loss: 0.0734 - val_accuracy: 0.9809\n",
      "\n",
      "Epoch 00008: val_loss improved from 0.07608 to 0.07344, saving model to ./models/patch_transfomer_mitbih.h5\n",
      "Epoch 9/100\n",
      "308/308 [==============================] - 6s 19ms/step - loss: 0.0967 - accuracy: 0.9730 - val_loss: 0.0670 - val_accuracy: 0.9824\n",
      "\n",
      "Epoch 00009: val_loss improved from 0.07344 to 0.06705, saving model to ./models/patch_transfomer_mitbih.h5\n",
      "Epoch 10/100\n",
      "308/308 [==============================] - 6s 19ms/step - loss: 0.0877 - accuracy: 0.9750 - val_loss: 0.0637 - val_accuracy: 0.9821\n",
      "\n",
      "Epoch 00010: val_loss improved from 0.06705 to 0.06365, saving model to ./models/patch_transfomer_mitbih.h5\n",
      "Epoch 11/100\n",
      "308/308 [==============================] - 6s 19ms/step - loss: 0.0824 - accuracy: 0.9758 - val_loss: 0.0621 - val_accuracy: 0.9820\n",
      "\n",
      "Epoch 00011: val_loss improved from 0.06365 to 0.06207, saving model to ./models/patch_transfomer_mitbih.h5\n",
      "Epoch 12/100\n",
      "308/308 [==============================] - 6s 19ms/step - loss: 0.0816 - accuracy: 0.9768 - val_loss: 0.0607 - val_accuracy: 0.9820\n",
      "\n",
      "Epoch 00012: val_loss improved from 0.06207 to 0.06071, saving model to ./models/patch_transfomer_mitbih.h5\n",
      "Epoch 13/100\n",
      "308/308 [==============================] - 6s 19ms/step - loss: 0.0789 - accuracy: 0.9777 - val_loss: 0.0604 - val_accuracy: 0.9825\n",
      "\n",
      "Epoch 00013: val_loss improved from 0.06071 to 0.06040, saving model to ./models/patch_transfomer_mitbih.h5\n",
      "Epoch 14/100\n",
      "308/308 [==============================] - 6s 19ms/step - loss: 0.0743 - accuracy: 0.9783 - val_loss: 0.0580 - val_accuracy: 0.9846\n",
      "\n",
      "Epoch 00014: val_loss improved from 0.06040 to 0.05797, saving model to ./models/patch_transfomer_mitbih.h5\n",
      "Epoch 15/100\n",
      "308/308 [==============================] - 6s 19ms/step - loss: 0.0733 - accuracy: 0.9786 - val_loss: 0.0555 - val_accuracy: 0.9840\n",
      "\n",
      "Epoch 00015: val_loss improved from 0.05797 to 0.05546, saving model to ./models/patch_transfomer_mitbih.h5\n",
      "Epoch 16/100\n",
      "308/308 [==============================] - 6s 19ms/step - loss: 0.0702 - accuracy: 0.9791 - val_loss: 0.0564 - val_accuracy: 0.9839\n",
      "\n",
      "Epoch 00016: val_loss did not improve from 0.05546\n",
      "Epoch 17/100\n",
      "308/308 [==============================] - 6s 19ms/step - loss: 0.0673 - accuracy: 0.9802 - val_loss: 0.0542 - val_accuracy: 0.9846\n",
      "\n",
      "Epoch 00017: val_loss improved from 0.05546 to 0.05418, saving model to ./models/patch_transfomer_mitbih.h5\n",
      "Epoch 18/100\n",
      "308/308 [==============================] - 6s 19ms/step - loss: 0.0633 - accuracy: 0.9811 - val_loss: 0.0531 - val_accuracy: 0.9852\n",
      "\n",
      "Epoch 00018: val_loss improved from 0.05418 to 0.05310, saving model to ./models/patch_transfomer_mitbih.h5\n",
      "Epoch 19/100\n",
      "308/308 [==============================] - 6s 18ms/step - loss: 0.0598 - accuracy: 0.9819 - val_loss: 0.0515 - val_accuracy: 0.9855\n",
      "\n",
      "Epoch 00019: val_loss improved from 0.05310 to 0.05147, saving model to ./models/patch_transfomer_mitbih.h5\n",
      "Epoch 20/100\n",
      "308/308 [==============================] - 6s 18ms/step - loss: 0.0600 - accuracy: 0.9823 - val_loss: 0.0516 - val_accuracy: 0.9856\n",
      "\n",
      "Epoch 00020: val_loss did not improve from 0.05147\n",
      "Epoch 21/100\n",
      "308/308 [==============================] - 6s 19ms/step - loss: 0.0581 - accuracy: 0.9822 - val_loss: 0.0509 - val_accuracy: 0.9856\n",
      "\n",
      "Epoch 00021: val_loss improved from 0.05147 to 0.05088, saving model to ./models/patch_transfomer_mitbih.h5\n",
      "Epoch 22/100\n",
      "308/308 [==============================] - 6s 18ms/step - loss: 0.0558 - accuracy: 0.9827 - val_loss: 0.0527 - val_accuracy: 0.9862\n",
      "\n",
      "Epoch 00022: val_loss did not improve from 0.05088\n",
      "Epoch 23/100\n",
      "308/308 [==============================] - 6s 19ms/step - loss: 0.0565 - accuracy: 0.9824 - val_loss: 0.0517 - val_accuracy: 0.9852\n",
      "\n",
      "Epoch 00023: val_loss did not improve from 0.05088\n",
      "Epoch 24/100\n",
      "308/308 [==============================] - 6s 18ms/step - loss: 0.0522 - accuracy: 0.9838 - val_loss: 0.0526 - val_accuracy: 0.9855\n",
      "\n",
      "Epoch 00024: val_loss did not improve from 0.05088\n",
      "Epoch 25/100\n",
      "308/308 [==============================] - 6s 19ms/step - loss: 0.0528 - accuracy: 0.9833 - val_loss: 0.0490 - val_accuracy: 0.9863\n",
      "\n",
      "Epoch 00025: val_loss improved from 0.05088 to 0.04896, saving model to ./models/patch_transfomer_mitbih.h5\n",
      "Epoch 26/100\n",
      "308/308 [==============================] - 6s 18ms/step - loss: 0.0498 - accuracy: 0.9840 - val_loss: 0.0518 - val_accuracy: 0.9854\n",
      "\n",
      "Epoch 00026: val_loss did not improve from 0.04896\n",
      "Epoch 27/100\n",
      "308/308 [==============================] - 6s 19ms/step - loss: 0.0518 - accuracy: 0.9839 - val_loss: 0.0519 - val_accuracy: 0.9849\n",
      "\n",
      "Epoch 00027: val_loss did not improve from 0.04896\n",
      "Epoch 28/100\n",
      "308/308 [==============================] - 6s 19ms/step - loss: 0.0475 - accuracy: 0.9848 - val_loss: 0.0517 - val_accuracy: 0.9854\n",
      "\n",
      "Epoch 00028: val_loss did not improve from 0.04896\n",
      "Epoch 29/100\n",
      "308/308 [==============================] - 6s 18ms/step - loss: 0.0484 - accuracy: 0.9852 - val_loss: 0.0493 - val_accuracy: 0.9852\n",
      "\n",
      "Epoch 00029: val_loss did not improve from 0.04896\n",
      "Epoch 30/100\n",
      "308/308 [==============================] - 6s 18ms/step - loss: 0.0477 - accuracy: 0.9850 - val_loss: 0.0442 - val_accuracy: 0.9879\n",
      "\n",
      "Epoch 00030: val_loss improved from 0.04896 to 0.04419, saving model to ./models/patch_transfomer_mitbih.h5\n",
      "Epoch 31/100\n",
      "308/308 [==============================] - 5s 18ms/step - loss: 0.0462 - accuracy: 0.9852 - val_loss: 0.0473 - val_accuracy: 0.9863\n",
      "\n",
      "Epoch 00031: val_loss did not improve from 0.04419\n",
      "Epoch 32/100\n",
      "308/308 [==============================] - 5s 18ms/step - loss: 0.0454 - accuracy: 0.9857 - val_loss: 0.0531 - val_accuracy: 0.9852\n",
      "\n",
      "Epoch 00032: val_loss did not improve from 0.04419\n",
      "Epoch 33/100\n",
      "308/308 [==============================] - 5s 18ms/step - loss: 0.0458 - accuracy: 0.9856 - val_loss: 0.0467 - val_accuracy: 0.9879\n",
      "\n",
      "Epoch 00033: val_loss did not improve from 0.04419\n",
      "Epoch 34/100\n",
      "308/308 [==============================] - 5s 18ms/step - loss: 0.0441 - accuracy: 0.9854 - val_loss: 0.0557 - val_accuracy: 0.9850\n",
      "\n",
      "Epoch 00034: val_loss did not improve from 0.04419\n",
      "Epoch 35/100\n",
      "308/308 [==============================] - 5s 18ms/step - loss: 0.0461 - accuracy: 0.9850 - val_loss: 0.0480 - val_accuracy: 0.9860\n",
      "\n",
      "Epoch 00035: val_loss did not improve from 0.04419\n",
      "\n",
      "Epoch 00035: ReduceLROnPlateau reducing learning rate to 0.0005000000237487257.\n",
      "Epoch 36/100\n"
     ]
    },
    {
     "name": "stdout",
     "output_type": "stream",
     "text": [
      "308/308 [==============================] - 6s 18ms/step - loss: 0.0406 - accuracy: 0.9869 - val_loss: 0.0411 - val_accuracy: 0.9881\n",
      "\n",
      "Epoch 00036: val_loss improved from 0.04419 to 0.04112, saving model to ./models/patch_transfomer_mitbih.h5\n",
      "Epoch 37/100\n",
      "308/308 [==============================] - 6s 18ms/step - loss: 0.0327 - accuracy: 0.9887 - val_loss: 0.0469 - val_accuracy: 0.9871\n",
      "\n",
      "Epoch 00037: val_loss did not improve from 0.04112\n",
      "Epoch 38/100\n",
      "308/308 [==============================] - 6s 19ms/step - loss: 0.0320 - accuracy: 0.9894 - val_loss: 0.0430 - val_accuracy: 0.9887\n",
      "\n",
      "Epoch 00038: val_loss did not improve from 0.04112\n",
      "Epoch 39/100\n",
      "308/308 [==============================] - 6s 19ms/step - loss: 0.0326 - accuracy: 0.9891 - val_loss: 0.0436 - val_accuracy: 0.9888\n",
      "\n",
      "Epoch 00039: val_loss did not improve from 0.04112\n",
      "Epoch 40/100\n",
      "308/308 [==============================] - 6s 18ms/step - loss: 0.0295 - accuracy: 0.9907 - val_loss: 0.0470 - val_accuracy: 0.9879\n",
      "\n",
      "Epoch 00040: val_loss did not improve from 0.04112\n",
      "Epoch 41/100\n",
      "308/308 [==============================] - 6s 18ms/step - loss: 0.0337 - accuracy: 0.9890 - val_loss: 0.0433 - val_accuracy: 0.9879\n",
      "\n",
      "Epoch 00041: val_loss did not improve from 0.04112\n",
      "Epoch 42/100\n",
      "308/308 [==============================] - 6s 18ms/step - loss: 0.0312 - accuracy: 0.9893 - val_loss: 0.0448 - val_accuracy: 0.9886\n",
      "\n",
      "Epoch 00042: val_loss did not improve from 0.04112\n",
      "Epoch 43/100\n",
      "308/308 [==============================] - 6s 18ms/step - loss: 0.0297 - accuracy: 0.9894 - val_loss: 0.0420 - val_accuracy: 0.9884\n",
      "\n",
      "Epoch 00043: val_loss did not improve from 0.04112\n",
      "Epoch 44/100\n",
      "308/308 [==============================] - 6s 18ms/step - loss: 0.0305 - accuracy: 0.9901 - val_loss: 0.0457 - val_accuracy: 0.9872\n",
      "\n",
      "Epoch 00044: val_loss did not improve from 0.04112\n",
      "\n",
      "Epoch 00044: ReduceLROnPlateau reducing learning rate to 0.0002500000118743628.\n",
      "Epoch 00044: early stopping\n",
      "685/685 [==============================] - 4s 6ms/step - loss: 0.0620 - accuracy: 0.9847\n",
      "Test accuracy: 98.47%\n"
     ]
    }
   ],
   "source": [
    "# Train\n",
    "history = run_experiment(transfomer_classifier)"
   ]
  },
  {
   "cell_type": "markdown",
   "metadata": {},
   "source": [
    "### Evaluation"
   ]
  },
  {
   "cell_type": "code",
   "execution_count": 27,
   "metadata": {},
   "outputs": [],
   "source": [
    "# load best model\n",
    "transfomer_classifier.load_weights(weight_file_path)"
   ]
  },
  {
   "cell_type": "code",
   "execution_count": 28,
   "metadata": {},
   "outputs": [
    {
     "name": "stdout",
     "output_type": "stream",
     "text": [
      "f1 score micro:           0.98502\n",
      "f1 score macro:           0.91565\n",
      "accuracy score:           0.98502\n",
      "balanced accuracy score:  0.89386\n"
     ]
    },
    {
     "data": {
      "image/png": "[encoded data removed]",
      "text/plain": [
       "<Figure size 432x288 with 2 Axes>"
      ]
     },
     "metadata": {
      "needs_background": "light"
     },
     "output_type": "display_data"
    }
   ],
   "source": [
    "pred_test_proba = transfomer_classifier.predict(X_test)\n",
    "pred_test = np.argmax(pred_test_proba, axis=-1)\n",
    "\n",
    "# print(\"F1 Macro:\", f1_score(Y_test, pred_test, average=\"macro\"))\n",
    "display_result(Y_test, pred_test)"
   ]
  },
  {
   "cell_type": "code",
   "execution_count": 29,
   "metadata": {},
   "outputs": [],
   "source": [
    "np.save(\"./predictions/test_mitbih_patch_transfomer\", pred_test, allow_pickle=True)\n",
    "np.save(\"./predictions/test_mitbih_proba_patch_transfomer\", pred_test_proba, allow_pickle=True)"
   ]
  },
  {
   "cell_type": "code",
   "execution_count": 30,
   "metadata": {},
   "outputs": [],
   "source": [
    "pred_test_proba = transfomer_classifier.predict(X)\n",
    "pred_test = np.argmax(pred_test_proba, axis=-1)\n",
    "np.save(\"./predictions/train_mitbih_patch_transfomer\", pred_test, allow_pickle=True)\n",
    "np.save(\"./predictions/train_mitbih_proba_patch_transfomer\", pred_test_proba, allow_pickle=True)"
   ]
  },
  {
   "cell_type": "markdown",
   "metadata": {},
   "source": [
    "# PTB"
   ]
  },
  {
   "cell_type": "markdown",
   "metadata": {},
   "source": [
    "#### Load data"
   ]
  },
  {
   "cell_type": "code",
   "execution_count": 28,
   "metadata": {},
   "outputs": [],
   "source": [
    "df_1_ptb = pd.read_csv(\"./data/ptbdb_normal.csv\", header=None)\n",
    "df_2_ptb = pd.read_csv(\"./data/ptbdb_abnormal.csv\", header=None)\n",
    "df_ptb = pd.concat([df_1_ptb, df_2_ptb])\n",
    "\n",
    "df_train_ptb, df_test_ptb = train_test_split(df_ptb, test_size=0.2, random_state=1337, stratify=df_ptb[187])\n",
    "\n",
    "\n",
    "Y_ptb = np.array(df_train_ptb[187].values).astype(np.int8)\n",
    "X_ptb = np.array(df_train_ptb[list(range(187))].values)[..., np.newaxis]\n",
    "\n",
    "Y_test_ptb = np.array(df_test_ptb[187].values).astype(np.int8)\n",
    "X_test_ptb = np.array(df_test_ptb[list(range(187))].values)[..., np.newaxis]"
   ]
  },
  {
   "cell_type": "code",
   "execution_count": 29,
   "metadata": {},
   "outputs": [],
   "source": [
    "X_ptb = X_ptb.reshape((X_ptb.shape[0], WINDOW_SIZE, 1, 1))\n",
    "X_test_ptb = X_test_ptb.reshape((X_test_ptb.shape[0], WINDOW_SIZE, 1, 1))"
   ]
  },
  {
   "cell_type": "code",
   "execution_count": 30,
   "metadata": {},
   "outputs": [
    {
     "name": "stdout",
     "output_type": "stream",
     "text": [
      "Train (11641, 187, 1, 1) (11641,)\n",
      "Test (2911, 187, 1, 1) (2911,)\n"
     ]
    }
   ],
   "source": [
    "print(\"Train\", X_ptb.shape, Y_ptb.shape)\n",
    "print(\"Test\", X_test_ptb.shape, Y_test_ptb.shape)"
   ]
  },
  {
   "cell_type": "markdown",
   "metadata": {},
   "source": [
    "#### Training"
   ]
  },
  {
   "cell_type": "code",
   "execution_count": 45,
   "metadata": {},
   "outputs": [],
   "source": [
    "TRANSFER = True # configure to use transfer learning or not"
   ]
  },
  {
   "cell_type": "code",
   "execution_count": 46,
   "metadata": {},
   "outputs": [],
   "source": [
    "# Create raw model\n",
    "transfomer_classifier_ptb_raw = create_transfomer_classifier()"
   ]
  },
  {
   "cell_type": "code",
   "execution_count": 47,
   "metadata": {},
   "outputs": [],
   "source": [
    "opt_ptb = optimizers.Adam(0.001)\n",
    "transfomer_classifier_ptb_raw.compile(optimizer=opt_ptb, loss=losses.sparse_categorical_crossentropy, metrics=['acc'])\n",
    "# model.summary()"
   ]
  },
  {
   "cell_type": "code",
   "execution_count": 48,
   "metadata": {},
   "outputs": [
    {
     "name": "stdout",
     "output_type": "stream",
     "text": [
      "Loading pretrained weights from MITBIH dataset\n"
     ]
    }
   ],
   "source": [
    "# Load weights from MITBIH for transfer learning (comment out if training purely)\n",
    "if TRANSFER:\n",
    "    print(\"Loading pretrained weights from MITBIH dataset\")\n",
    "    transfomer_classifier_ptb_raw.load_weights(weight_file_path)"
   ]
  },
  {
   "cell_type": "code",
   "execution_count": 49,
   "metadata": {},
   "outputs": [],
   "source": [
    "# Adapting normalization layer to new data\n",
    "transfomer_classifier_ptb_raw.layers[1].layers[0].adapt(X_ptb)"
   ]
  },
  {
   "cell_type": "code",
   "execution_count": 50,
   "metadata": {},
   "outputs": [],
   "source": [
    "new_out = Dense(1, activation=activations.sigmoid, name=\"ptb_sigmoid\")(transfomer_classifier_ptb_raw.layers[-2].output)\n",
    "\n",
    "transfomer_classifier_ptb = Model(inputs=transfomer_classifier_ptb_raw.input, outputs=new_out)\n",
    "# transfomer_classifier_ptb.summary()"
   ]
  },
  {
   "cell_type": "code",
   "execution_count": 51,
   "metadata": {},
   "outputs": [],
   "source": [
    "def run_experiment_ptb(model):\n",
    "    optimizer = tfa.optimizers.AdamW(\n",
    "        learning_rate=learning_rate, weight_decay=weight_decay\n",
    "    )\n",
    "    \n",
    "    min_lr           = 0.00005 # 0.00005\n",
    "    reduce_lr_factor = 0.5     # 0.8\n",
    "    patience         = 5\n",
    "    cooldown         = 5 \n",
    "    \n",
    "    monitor = \"val_acc\" # val_accuracy\n",
    "    mode = \"max\" # max\n",
    "    checkpoint = ModelCheckpoint(\n",
    "        weight_file_path_ptb,\n",
    "        monitor=monitor,\n",
    "        verbose=1,\n",
    "        save_best_only=True,\n",
    "        mode=mode\n",
    "    )\n",
    "    early = EarlyStopping(\n",
    "        monitor=monitor,\n",
    "        mode=mode,\n",
    "        patience=8,\n",
    "        verbose=1\n",
    "    )\n",
    "    redonplat = ReduceLROnPlateau(\n",
    "        monitor=monitor,\n",
    "        mode=mode,\n",
    "        factor=reduce_lr_factor,\n",
    "        patience=patience,\n",
    "        cooldown=cooldown,\n",
    "        min_lr=min_lr,\n",
    "        verbose=2\n",
    "    )\n",
    "\n",
    "    callbacks_list = [checkpoint, early, redonplat] # PlotLossesKeras()\n",
    "    \n",
    "    model.compile(\n",
    "        optimizer=optimizer,\n",
    "        loss=losses.BinaryCrossentropy(),\n",
    "        metrics=[\"acc\"],\n",
    "    )\n",
    "\n",
    "\n",
    "\n",
    "    history = model.fit(\n",
    "        x=X_ptb,\n",
    "        y=Y_ptb,\n",
    "        batch_size=batch_size,\n",
    "        epochs=num_epochs,\n",
    "        validation_split=0.1,\n",
    "        callbacks=callbacks_list,\n",
    "    )\n",
    "\n",
    "    model.load_weights(weight_file_path_ptb)\n",
    "    _, accuracy = model.evaluate(X_test_ptb, Y_test_ptb)\n",
    "    print(f\"Test accuracy: {round(accuracy * 100, 2)}%\")\n",
    "\n",
    "    return history"
   ]
  },
  {
   "cell_type": "markdown",
   "metadata": {},
   "source": [
    "#### Fitting"
   ]
  },
  {
   "cell_type": "code",
   "execution_count": null,
   "metadata": {
    "scrolled": true
   },
   "outputs": [],
   "source": [
    "history = run_experiment_ptb(transfomer_classifier_ptb)"
   ]
  },
  {
   "cell_type": "markdown",
   "metadata": {},
   "source": [
    "### Evaluation"
   ]
  },
  {
   "cell_type": "code",
   "execution_count": 58,
   "metadata": {},
   "outputs": [],
   "source": [
    "# load best model\n",
    "transfomer_classifier_ptb.load_weights(weight_file_path_ptb)"
   ]
  },
  {
   "cell_type": "code",
   "execution_count": 59,
   "metadata": {},
   "outputs": [
    {
     "name": "stdout",
     "output_type": "stream",
     "text": [
      "f1 score micro:           0.99038\n",
      "f1 score macro:           0.98798\n",
      "accuracy score:           0.99038\n",
      "balanced accuracy score:  0.9865\n",
      "AuPR score:               0.99786\n",
      "AuROC score:              0.99688\n"
     ]
    },
    {
     "data": {
      "image/png": "[encoded data removed]",
      "text/plain": [
       "<Figure size 432x288 with 2 Axes>"
      ]
     },
     "metadata": {
      "needs_background": "light"
     },
     "output_type": "display_data"
    }
   ],
   "source": [
    "pred_test_proba = transfomer_classifier_ptb.predict(X_test_ptb)\n",
    "pred_test = [1 if x > 0.5 else 0 for x in pred_test_proba]\n",
    "\n",
    "# print(\"F1 Macro:\", f1_score(Y_test, pred_test, average=\"macro\"))\n",
    "display_result(Y_test_ptb, pred_test, curve=True, proba=pred_test_proba)"
   ]
  },
  {
   "cell_type": "code",
   "execution_count": 60,
   "metadata": {},
   "outputs": [],
   "source": [
    "transfer_str = \"_transfer\" if TRANSFER else \"\""
   ]
  },
  {
   "cell_type": "code",
   "execution_count": 61,
   "metadata": {},
   "outputs": [],
   "source": [
    "np.save(f\"./predictions/test_ptb_patch_transfomer{transfer_str}\", pred_test, allow_pickle=True)\n",
    "np.save(f\"./predictions/test_ptb_proba_patch_transfomer{transfer_str}\", pred_test_proba, allow_pickle=True)"
   ]
  },
  {
   "cell_type": "code",
   "execution_count": 62,
   "metadata": {},
   "outputs": [],
   "source": [
    "pred_test_proba = transfomer_classifier_ptb.predict(X_ptb)\n",
    "pred_test = [1 if x > 0.5 else 0 for x in pred_test_proba]\n",
    "np.save(f\"./predictions/train_ptb_patch_transfomer{transfer_str}\", pred_test, allow_pickle=True)\n",
    "np.save(f\"./predictions/train_ptb_proba_patch_transfomer{transfer_str}\", pred_test_proba, allow_pickle=True)"
   ]
  },
  {
   "cell_type": "code",
   "execution_count": null,
   "metadata": {},
   "outputs": [],
   "source": []
  }
 ],
 "metadata": {
  "kernelspec": {
   "display_name": "Python 3",
   "language": "python",
   "name": "python3"
  },
  "language_info": {
   "codemirror_mode": {
    "name": "ipython",
    "version": 3
   },
   "file_extension": ".py",
   "mimetype": "text/x-python",
   "name": "python",
   "nbconvert_exporter": "python",
   "pygments_lexer": "ipython3",
   "version": "3.8.2"
  }
 },
 "nbformat": 4,
 "nbformat_minor": 4
}
