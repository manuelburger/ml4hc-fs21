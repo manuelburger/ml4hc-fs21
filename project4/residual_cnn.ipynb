{
 "cells": [
  {
   "cell_type": "markdown",
   "source": [
    "##### Imports"
   ],
   "metadata": {
    "collapsed": false
   }
  },
  {
   "cell_type": "code",
   "execution_count": 1,
   "outputs": [],
   "source": [
    "from os import path\n",
    "\n",
    "import pandas as pd\n",
    "import numpy as np\n",
    "import h5py\n",
    "\n",
    "from keras.callbacks import ModelCheckpoint, EarlyStopping, ReduceLROnPlateau\n",
    "\n",
    "from tqdm.keras import TqdmCallback\n",
    "\n",
    "import wandb\n",
    "from wandb.keras import WandbCallback\n",
    "\n",
    "from model_parts import get_res_model, modify_model\n",
    "from data_io import get_data\n",
    "from utils import save_predictions, compute_metrics, display_result"
   ],
   "metadata": {
    "collapsed": false,
    "pycharm": {
     "name": "#%%\n"
    }
   }
  },
  {
   "cell_type": "code",
   "execution_count": 2,
   "outputs": [],
   "source": [
    "%load_ext autoreload\n",
    "%autoreload 2"
   ],
   "metadata": {
    "collapsed": false,
    "pycharm": {
     "name": "#%%\n"
    }
   }
  },
  {
   "cell_type": "markdown",
   "source": [
    "### Load data"
   ],
   "metadata": {
    "collapsed": false
   }
  },
  {
   "cell_type": "code",
   "source": [
    "X_train_mit, y_train_mit, X_test_mit, y_test_mit = get_data(dataset='mitbih')"
   ],
   "metadata": {
    "collapsed": false,
    "pycharm": {
     "name": "#%%\n"
    }
   },
   "execution_count": 3,
   "outputs": []
  },
  {
   "cell_type": "code",
   "execution_count": 4,
   "outputs": [],
   "source": [
    "X_train_pt, y_train_pt, X_test_pt, y_test_pt = get_data(dataset='ptbdb')"
   ],
   "metadata": {
    "collapsed": false,
    "pycharm": {
     "name": "#%%\n"
    }
   }
  },
  {
   "cell_type": "markdown",
   "source": [
    "# Full Training"
   ],
   "metadata": {
    "collapsed": false
   }
  },
  {
   "cell_type": "markdown",
   "source": [
    "## MITBIH"
   ],
   "metadata": {
    "collapsed": false
   }
  },
  {
   "cell_type": "markdown",
   "source": [
    "#### W&B setup"
   ],
   "metadata": {
    "collapsed": false
   }
  },
  {
   "cell_type": "code",
   "execution_count": 5,
   "outputs": [
    {
     "name": "stderr",
     "output_type": "stream",
     "text": [
      "\u001B[34m\u001B[1mwandb\u001B[0m: Currently logged in as: \u001B[33manej\u001B[0m (use `wandb login --relogin` to force relogin)\n",
      "\u001B[34m\u001B[1mwandb\u001B[0m: wandb version 0.10.31 is available!  To upgrade, please run:\n",
      "\u001B[34m\u001B[1mwandb\u001B[0m:  $ pip install wandb --upgrade\n"
     ]
    },
    {
     "data": {
      "text/plain": "<IPython.core.display.HTML object>",
      "text/html": "\n                Tracking run with wandb version 0.10.30<br/>\n                Syncing run <strong style=\"color:#cdcd00\">ancient-plant-107</strong> to <a href=\"https://wandb.ai\" target=\"_blank\">Weights & Biases</a> <a href=\"https://docs.wandb.com/integrations/jupyter.html\" target=\"_blank\">(Documentation)</a>.<br/>\n                Project page: <a href=\"https://wandb.ai/anej/ML4HC-project4\" target=\"_blank\">https://wandb.ai/anej/ML4HC-project4</a><br/>\n                Run page: <a href=\"https://wandb.ai/anej/ML4HC-project4/runs/2ia9m2ky\" target=\"_blank\">https://wandb.ai/anej/ML4HC-project4/runs/2ia9m2ky</a><br/>\n                Run data is saved locally in <code>/home/anej/repos/studies/ML4HC/project4/wandb/run-20210604_223601-2ia9m2ky</code><br/><br/>\n            "
     },
     "metadata": {},
     "output_type": "display_data"
    }
   ],
   "source": [
    "run = wandb.init(\n",
    "    project='ML4HC-project4',\n",
    "    config={\n",
    "        'learning_rate': 1e-3,\n",
    "        'schedule_lr': False,\n",
    "        'epochs': 32,\n",
    "        'batch_size': 32,\n",
    "        'num_filters': [128, 128, 256],\n",
    "        'num_blocks_list': [2, 4, 2],\n",
    "        'loss_function': 'sparse_categorical_crossentropy',\n",
    "        'architecture': 'ResCNN',\n",
    "        'dataset': 'MITBIH',\n",
    "        'mode': 'training',\n",
    "        'ndim': 256\n",
    "    })\n",
    "\n",
    "config_mit = wandb.config"
   ],
   "metadata": {
    "collapsed": false,
    "pycharm": {
     "name": "#%%\n"
    }
   }
  },
  {
   "cell_type": "code",
   "execution_count": 6,
   "outputs": [
    {
     "name": "stdout",
     "output_type": "stream",
     "text": [
      "Model: \"model\"\n",
      "__________________________________________________________________________________________________\n",
      "Layer (type)                    Output Shape         Param #     Connected to                     \n",
      "==================================================================================================\n",
      "input_1 (InputLayer)            [(None, 187, 1)]     0                                            \n",
      "__________________________________________________________________________________________________\n",
      "batch_normalization (BatchNorma (None, 187, 1)       4           input_1[0][0]                    \n",
      "__________________________________________________________________________________________________\n",
      "conv1d (Conv1D)                 (None, 187, 128)     768         batch_normalization[0][0]        \n",
      "__________________________________________________________________________________________________\n",
      "batch_normalization_1 (BatchNor (None, 187, 128)     512         conv1d[0][0]                     \n",
      "__________________________________________________________________________________________________\n",
      "conv1d_1 (Conv1D)               (None, 187, 128)     82048       batch_normalization_1[0][0]      \n",
      "__________________________________________________________________________________________________\n",
      "batch_normalization_2 (BatchNor (None, 187, 128)     512         conv1d_1[0][0]                   \n",
      "__________________________________________________________________________________________________\n",
      "tf.nn.silu (TFOpLambda)         (None, 187, 128)     0           batch_normalization_2[0][0]      \n",
      "__________________________________________________________________________________________________\n",
      "conv1d_2 (Conv1D)               (None, 187, 128)     82048       tf.nn.silu[0][0]                 \n",
      "__________________________________________________________________________________________________\n",
      "batch_normalization_3 (BatchNor (None, 187, 128)     512         conv1d_2[0][0]                   \n",
      "__________________________________________________________________________________________________\n",
      "add (Add)                       (None, 187, 128)     0           batch_normalization_1[0][0]      \n",
      "                                                                 batch_normalization_3[0][0]      \n",
      "__________________________________________________________________________________________________\n",
      "batch_normalization_4 (BatchNor (None, 187, 128)     512         add[0][0]                        \n",
      "__________________________________________________________________________________________________\n",
      "tf.nn.silu_1 (TFOpLambda)       (None, 187, 128)     0           batch_normalization_4[0][0]      \n",
      "__________________________________________________________________________________________________\n",
      "conv1d_3 (Conv1D)               (None, 187, 128)     82048       tf.nn.silu_1[0][0]               \n",
      "__________________________________________________________________________________________________\n",
      "batch_normalization_5 (BatchNor (None, 187, 128)     512         conv1d_3[0][0]                   \n",
      "__________________________________________________________________________________________________\n",
      "tf.nn.silu_2 (TFOpLambda)       (None, 187, 128)     0           batch_normalization_5[0][0]      \n",
      "__________________________________________________________________________________________________\n",
      "conv1d_4 (Conv1D)               (None, 187, 128)     82048       tf.nn.silu_2[0][0]               \n",
      "__________________________________________________________________________________________________\n",
      "batch_normalization_6 (BatchNor (None, 187, 128)     512         conv1d_4[0][0]                   \n",
      "__________________________________________________________________________________________________\n",
      "add_1 (Add)                     (None, 187, 128)     0           tf.nn.silu_1[0][0]               \n",
      "                                                                 batch_normalization_6[0][0]      \n",
      "__________________________________________________________________________________________________\n",
      "batch_normalization_7 (BatchNor (None, 187, 128)     512         add_1[0][0]                      \n",
      "__________________________________________________________________________________________________\n",
      "tf.nn.silu_3 (TFOpLambda)       (None, 187, 128)     0           batch_normalization_7[0][0]      \n",
      "__________________________________________________________________________________________________\n",
      "conv1d_5 (Conv1D)               (None, 94, 128)      49280       tf.nn.silu_3[0][0]               \n",
      "__________________________________________________________________________________________________\n",
      "batch_normalization_8 (BatchNor (None, 94, 128)      512         conv1d_5[0][0]                   \n",
      "__________________________________________________________________________________________________\n",
      "tf.nn.silu_4 (TFOpLambda)       (None, 94, 128)      0           batch_normalization_8[0][0]      \n",
      "__________________________________________________________________________________________________\n",
      "conv1d_7 (Conv1D)               (None, 94, 128)      16512       tf.nn.silu_3[0][0]               \n",
      "__________________________________________________________________________________________________\n",
      "conv1d_6 (Conv1D)               (None, 94, 128)      49280       tf.nn.silu_4[0][0]               \n",
      "__________________________________________________________________________________________________\n",
      "batch_normalization_10 (BatchNo (None, 94, 128)      512         conv1d_7[0][0]                   \n",
      "__________________________________________________________________________________________________\n",
      "batch_normalization_9 (BatchNor (None, 94, 128)      512         conv1d_6[0][0]                   \n",
      "__________________________________________________________________________________________________\n",
      "add_2 (Add)                     (None, 94, 128)      0           batch_normalization_10[0][0]     \n",
      "                                                                 batch_normalization_9[0][0]      \n",
      "__________________________________________________________________________________________________\n",
      "batch_normalization_11 (BatchNo (None, 94, 128)      512         add_2[0][0]                      \n",
      "__________________________________________________________________________________________________\n",
      "tf.nn.silu_5 (TFOpLambda)       (None, 94, 128)      0           batch_normalization_11[0][0]     \n",
      "__________________________________________________________________________________________________\n",
      "conv1d_8 (Conv1D)               (None, 94, 128)      49280       tf.nn.silu_5[0][0]               \n",
      "__________________________________________________________________________________________________\n",
      "batch_normalization_12 (BatchNo (None, 94, 128)      512         conv1d_8[0][0]                   \n",
      "__________________________________________________________________________________________________\n",
      "tf.nn.silu_6 (TFOpLambda)       (None, 94, 128)      0           batch_normalization_12[0][0]     \n",
      "__________________________________________________________________________________________________\n",
      "conv1d_9 (Conv1D)               (None, 94, 128)      49280       tf.nn.silu_6[0][0]               \n",
      "__________________________________________________________________________________________________\n",
      "batch_normalization_13 (BatchNo (None, 94, 128)      512         conv1d_9[0][0]                   \n",
      "__________________________________________________________________________________________________\n",
      "add_3 (Add)                     (None, 94, 128)      0           tf.nn.silu_5[0][0]               \n",
      "                                                                 batch_normalization_13[0][0]     \n",
      "__________________________________________________________________________________________________\n",
      "batch_normalization_14 (BatchNo (None, 94, 128)      512         add_3[0][0]                      \n",
      "__________________________________________________________________________________________________\n",
      "tf.nn.silu_7 (TFOpLambda)       (None, 94, 128)      0           batch_normalization_14[0][0]     \n",
      "__________________________________________________________________________________________________\n",
      "conv1d_10 (Conv1D)              (None, 94, 128)      49280       tf.nn.silu_7[0][0]               \n",
      "__________________________________________________________________________________________________\n",
      "batch_normalization_15 (BatchNo (None, 94, 128)      512         conv1d_10[0][0]                  \n",
      "__________________________________________________________________________________________________\n",
      "tf.nn.silu_8 (TFOpLambda)       (None, 94, 128)      0           batch_normalization_15[0][0]     \n",
      "__________________________________________________________________________________________________\n",
      "conv1d_11 (Conv1D)              (None, 94, 128)      49280       tf.nn.silu_8[0][0]               \n",
      "__________________________________________________________________________________________________\n",
      "batch_normalization_16 (BatchNo (None, 94, 128)      512         conv1d_11[0][0]                  \n",
      "__________________________________________________________________________________________________\n",
      "add_4 (Add)                     (None, 94, 128)      0           tf.nn.silu_7[0][0]               \n",
      "                                                                 batch_normalization_16[0][0]     \n",
      "__________________________________________________________________________________________________\n",
      "batch_normalization_17 (BatchNo (None, 94, 128)      512         add_4[0][0]                      \n",
      "__________________________________________________________________________________________________\n",
      "tf.nn.silu_9 (TFOpLambda)       (None, 94, 128)      0           batch_normalization_17[0][0]     \n",
      "__________________________________________________________________________________________________\n",
      "conv1d_12 (Conv1D)              (None, 94, 128)      49280       tf.nn.silu_9[0][0]               \n",
      "__________________________________________________________________________________________________\n",
      "batch_normalization_18 (BatchNo (None, 94, 128)      512         conv1d_12[0][0]                  \n",
      "__________________________________________________________________________________________________\n",
      "tf.nn.silu_10 (TFOpLambda)      (None, 94, 128)      0           batch_normalization_18[0][0]     \n",
      "__________________________________________________________________________________________________\n",
      "conv1d_13 (Conv1D)              (None, 94, 128)      49280       tf.nn.silu_10[0][0]              \n",
      "__________________________________________________________________________________________________\n",
      "batch_normalization_19 (BatchNo (None, 94, 128)      512         conv1d_13[0][0]                  \n",
      "__________________________________________________________________________________________________\n",
      "add_5 (Add)                     (None, 94, 128)      0           tf.nn.silu_9[0][0]               \n",
      "                                                                 batch_normalization_19[0][0]     \n",
      "__________________________________________________________________________________________________\n",
      "batch_normalization_20 (BatchNo (None, 94, 128)      512         add_5[0][0]                      \n",
      "__________________________________________________________________________________________________\n",
      "tf.nn.silu_11 (TFOpLambda)      (None, 94, 128)      0           batch_normalization_20[0][0]     \n",
      "__________________________________________________________________________________________________\n",
      "conv1d_14 (Conv1D)              (None, 47, 256)      98560       tf.nn.silu_11[0][0]              \n",
      "__________________________________________________________________________________________________\n",
      "batch_normalization_21 (BatchNo (None, 47, 256)      1024        conv1d_14[0][0]                  \n",
      "__________________________________________________________________________________________________\n",
      "tf.nn.silu_12 (TFOpLambda)      (None, 47, 256)      0           batch_normalization_21[0][0]     \n",
      "__________________________________________________________________________________________________\n",
      "conv1d_16 (Conv1D)              (None, 47, 256)      33024       tf.nn.silu_11[0][0]              \n",
      "__________________________________________________________________________________________________\n",
      "conv1d_15 (Conv1D)              (None, 47, 256)      196864      tf.nn.silu_12[0][0]              \n",
      "__________________________________________________________________________________________________\n",
      "batch_normalization_23 (BatchNo (None, 47, 256)      1024        conv1d_16[0][0]                  \n",
      "__________________________________________________________________________________________________\n",
      "batch_normalization_22 (BatchNo (None, 47, 256)      1024        conv1d_15[0][0]                  \n",
      "__________________________________________________________________________________________________\n",
      "add_6 (Add)                     (None, 47, 256)      0           batch_normalization_23[0][0]     \n",
      "                                                                 batch_normalization_22[0][0]     \n",
      "__________________________________________________________________________________________________\n",
      "batch_normalization_24 (BatchNo (None, 47, 256)      1024        add_6[0][0]                      \n",
      "__________________________________________________________________________________________________\n",
      "tf.nn.silu_13 (TFOpLambda)      (None, 47, 256)      0           batch_normalization_24[0][0]     \n",
      "__________________________________________________________________________________________________\n",
      "conv1d_17 (Conv1D)              (None, 47, 256)      196864      tf.nn.silu_13[0][0]              \n",
      "__________________________________________________________________________________________________\n",
      "batch_normalization_25 (BatchNo (None, 47, 256)      1024        conv1d_17[0][0]                  \n",
      "__________________________________________________________________________________________________\n",
      "tf.nn.silu_14 (TFOpLambda)      (None, 47, 256)      0           batch_normalization_25[0][0]     \n",
      "__________________________________________________________________________________________________\n",
      "conv1d_18 (Conv1D)              (None, 47, 256)      196864      tf.nn.silu_14[0][0]              \n",
      "__________________________________________________________________________________________________\n",
      "batch_normalization_26 (BatchNo (None, 47, 256)      1024        conv1d_18[0][0]                  \n",
      "__________________________________________________________________________________________________\n",
      "add_7 (Add)                     (None, 47, 256)      0           tf.nn.silu_13[0][0]              \n",
      "                                                                 batch_normalization_26[0][0]     \n",
      "__________________________________________________________________________________________________\n",
      "batch_normalization_27 (BatchNo (None, 47, 256)      1024        add_7[0][0]                      \n",
      "__________________________________________________________________________________________________\n",
      "tf.nn.silu_15 (TFOpLambda)      (None, 47, 256)      0           batch_normalization_27[0][0]     \n",
      "__________________________________________________________________________________________________\n",
      "global_max_pooling1d (GlobalMax (None, 256)          0           tf.nn.silu_15[0][0]              \n",
      "__________________________________________________________________________________________________\n",
      "final_dropout (Dropout)         (None, 256)          0           global_max_pooling1d[0][0]       \n",
      "__________________________________________________________________________________________________\n",
      "batch_normalization_28 (BatchNo (None, 256)          1024        final_dropout[0][0]              \n",
      "__________________________________________________________________________________________________\n",
      "dense_1 (Dense)                 (None, 256)          65792       batch_normalization_28[0][0]     \n",
      "__________________________________________________________________________________________________\n",
      "batch_normalization_29 (BatchNo (None, 256)          1024        dense_1[0][0]                    \n",
      "__________________________________________________________________________________________________\n",
      "dense_2 (Dense)                 (None, 256)          65792       batch_normalization_29[0][0]     \n",
      "__________________________________________________________________________________________________\n",
      "dense_final_mitbih (Dense)      (None, 5)            1285        dense_2[0][0]                    \n",
      "==================================================================================================\n",
      "Total params: 1,614,217\n",
      "Trainable params: 1,604,487\n",
      "Non-trainable params: 9,730\n",
      "__________________________________________________________________________________________________\n"
     ]
    }
   ],
   "source": [
    "original_model = get_res_model(config_mit, nclass=5)"
   ],
   "metadata": {
    "collapsed": false,
    "pycharm": {
     "name": "#%%\n"
    }
   }
  },
  {
   "cell_type": "code",
   "execution_count": 7,
   "outputs": [],
   "source": [
    "file_path_mit = './models/res/res_cnn_mitbih.h5'\n",
    "\n",
    "checkpoint = ModelCheckpoint(\n",
    "    file_path_mit, monitor='val_acc', verbose=1,\n",
    "    save_best_only=True, mode='max')\n",
    "early = EarlyStopping(\n",
    "    monitor='val_acc', mode='max', patience=5, verbose=1)\n",
    "redonplat = ReduceLROnPlateau(\n",
    "    monitor='val_acc', mode='max', patience=3, verbose=2)"
   ],
   "metadata": {
    "collapsed": false,
    "pycharm": {
     "name": "#%%\n"
    }
   }
  },
  {
   "cell_type": "markdown",
   "source": [
    "#### Training"
   ],
   "metadata": {
    "collapsed": false
   }
  },
  {
   "cell_type": "code",
   "execution_count": 8,
   "outputs": [
    {
     "data": {
      "text/plain": "0epoch [00:00, ?epoch/s]",
      "application/vnd.jupyter.widget-view+json": {
       "version_major": 2,
       "version_minor": 0,
       "model_id": "4bee923de0ad4a96bb34a43135761259"
      }
     },
     "metadata": {},
     "output_type": "display_data"
    },
    {
     "data": {
      "text/plain": "0batch [00:00, ?batch/s]",
      "application/vnd.jupyter.widget-view+json": {
       "version_major": 2,
       "version_minor": 0,
       "model_id": "2a091e79c58c4de98ef726068cf931ca"
      }
     },
     "metadata": {},
     "output_type": "display_data"
    },
    {
     "name": "stdout",
     "output_type": "stream",
     "text": [
      "\n",
      "Epoch 00001: val_acc improved from -inf to 0.95729, saving model to ./models/res/res_cnn_mitbih.h5\n",
      "\n",
      "Epoch 00002: val_acc improved from 0.95729 to 0.97019, saving model to ./models/res/res_cnn_mitbih.h5\n",
      "\n",
      "Epoch 00003: val_acc improved from 0.97019 to 0.97225, saving model to ./models/res/res_cnn_mitbih.h5\n",
      "\n",
      "Epoch 00004: val_acc improved from 0.97225 to 0.98070, saving model to ./models/res/res_cnn_mitbih.h5\n",
      "\n",
      "Epoch 00005: val_acc did not improve from 0.98070\n",
      "\n",
      "Epoch 00006: val_acc did not improve from 0.98070\n",
      "\n",
      "Epoch 00007: val_acc improved from 0.98070 to 0.98184, saving model to ./models/res/res_cnn_mitbih.h5\n",
      "\n",
      "Epoch 00008: val_acc improved from 0.98184 to 0.98481, saving model to ./models/res/res_cnn_mitbih.h5\n",
      "\n",
      "Epoch 00009: val_acc improved from 0.98481 to 0.98561, saving model to ./models/res/res_cnn_mitbih.h5\n",
      "\n",
      "Epoch 00010: val_acc improved from 0.98561 to 0.98675, saving model to ./models/res/res_cnn_mitbih.h5\n",
      "\n",
      "Epoch 00011: val_acc did not improve from 0.98675\n",
      "\n",
      "Epoch 00012: val_acc improved from 0.98675 to 0.98687, saving model to ./models/res/res_cnn_mitbih.h5\n",
      "\n",
      "Epoch 00013: val_acc improved from 0.98687 to 0.98812, saving model to ./models/res/res_cnn_mitbih.h5\n",
      "\n",
      "Epoch 00014: val_acc did not improve from 0.98812\n",
      "\n",
      "Epoch 00015: val_acc did not improve from 0.98812\n",
      "\n",
      "Epoch 00016: val_acc did not improve from 0.98812\n",
      "\n",
      "Epoch 00016: ReduceLROnPlateau reducing learning rate to 0.00010000000474974513.\n",
      "\n",
      "Epoch 00017: val_acc improved from 0.98812 to 0.98881, saving model to ./models/res/res_cnn_mitbih.h5\n",
      "\n",
      "Epoch 00018: val_acc improved from 0.98881 to 0.98938, saving model to ./models/res/res_cnn_mitbih.h5\n",
      "\n",
      "Epoch 00019: val_acc did not improve from 0.98938\n",
      "\n",
      "Epoch 00020: val_acc improved from 0.98938 to 0.99041, saving model to ./models/res/res_cnn_mitbih.h5\n",
      "\n",
      "Epoch 00021: val_acc did not improve from 0.99041\n",
      "\n",
      "Epoch 00022: val_acc did not improve from 0.99041\n",
      "\n",
      "Epoch 00023: val_acc did not improve from 0.99041\n",
      "\n",
      "Epoch 00023: ReduceLROnPlateau reducing learning rate to 1.0000000474974514e-05.\n",
      "\n",
      "Epoch 00024: val_acc did not improve from 0.99041\n",
      "\n",
      "Epoch 00025: val_acc improved from 0.99041 to 0.99052, saving model to ./models/res/res_cnn_mitbih.h5\n",
      "\n",
      "Epoch 00026: val_acc did not improve from 0.99052\n",
      "\n",
      "Epoch 00027: val_acc did not improve from 0.99052\n",
      "\n",
      "Epoch 00028: val_acc did not improve from 0.99052\n",
      "\n",
      "Epoch 00028: ReduceLROnPlateau reducing learning rate to 1.0000000656873453e-06.\n",
      "\n",
      "Epoch 00029: val_acc did not improve from 0.99052\n",
      "\n",
      "Epoch 00030: val_acc did not improve from 0.99052\n",
      "Epoch 00030: early stopping\n"
     ]
    }
   ],
   "source": [
    "history = original_model.fit(\n",
    "    X_train_mit, y_train_mit,\n",
    "    epochs=config_mit.epochs,\n",
    "    batch_size=config_mit.batch_size,\n",
    "    verbose=0,\n",
    "    callbacks=[\n",
    "        checkpoint, early, redonplat,\n",
    "        WandbCallback(), TqdmCallback(verbose=1)],\n",
    "    validation_split=0.1)"
   ],
   "metadata": {
    "collapsed": false,
    "pycharm": {
     "name": "#%%\n"
    }
   }
  },
  {
   "cell_type": "code",
   "execution_count": 8,
   "outputs": [],
   "source": [
    "original_model.load_weights(file_path_mit)\n"
   ],
   "metadata": {
    "collapsed": false,
    "pycharm": {
     "name": "#%%\n"
    }
   }
  },
  {
   "cell_type": "markdown",
   "source": [
    "### Evaluation"
   ],
   "metadata": {
    "collapsed": false
   }
  },
  {
   "cell_type": "code",
   "execution_count": 9,
   "outputs": [],
   "source": [
    "test_preds_mit = np.argmax(original_model.predict(X_test_mit, batch_size=512), axis=1)\n",
    "\n",
    "r = compute_metrics(y_test_mit, test_preds_mit)\n",
    "\n",
    "f1_weighted = r['f1-weighted']\n",
    "f1_macro = r['f1-macro']\n",
    "acc = r['accuracy']\n",
    "b_acc = r['balanced_accuracy']\n",
    "\n",
    "wandb.log({'Test Accuracy': acc})\n",
    "wandb.log({'Test F1 Weighted': f1_weighted})\n",
    "wandb.log({'Test F1 Macro': f1_macro})\n",
    "wandb.log({'Test Balanced Accuracy': b_acc})"
   ],
   "metadata": {
    "collapsed": false,
    "pycharm": {
     "name": "#%%\n"
    }
   }
  },
  {
   "cell_type": "code",
   "execution_count": 10,
   "outputs": [
    {
     "name": "stdout",
     "output_type": "stream",
     "text": [
      "f1 score micro:           0.98968\n",
      "f1 score macro:           0.93962\n",
      "f1 score weighted:        0.98953\n",
      "accuracy score:           0.98968\n",
      "balanced accuracy score:  0.92825\n"
     ]
    },
    {
     "data": {
      "text/plain": "<Figure size 432x288 with 2 Axes>",
      "image/png": "[encoded data removed]"
     },
     "metadata": {
      "needs_background": "light"
     },
     "output_type": "display_data"
    }
   ],
   "source": [
    "display_result(y_test_mit, test_preds_mit)"
   ],
   "metadata": {
    "collapsed": false,
    "pycharm": {
     "name": "#%%\n"
    }
   }
  },
  {
   "cell_type": "code",
   "execution_count": 11,
   "outputs": [
    {
     "data": {
      "text/plain": "<IPython.core.display.HTML object>",
      "text/html": "<br/>Waiting for W&B process to finish, PID 26477<br/>Program ended successfully."
     },
     "metadata": {},
     "output_type": "display_data"
    },
    {
     "data": {
      "text/plain": "VBox(children=(Label(value=' 0.00MB of 0.00MB uploaded (0.00MB deduped)\\r'), FloatProgress(value=1.0, max=1.0)…",
      "application/vnd.jupyter.widget-view+json": {
       "version_major": 2,
       "version_minor": 0,
       "model_id": "a4118ffbcb5e4ecdb11e20aa4757f305"
      }
     },
     "metadata": {},
     "output_type": "display_data"
    },
    {
     "data": {
      "text/plain": "<IPython.core.display.HTML object>",
      "text/html": "Find user logs for this run at: <code>/home/anej/repos/studies/ML4HC/project4/wandb/run-20210604_223601-2ia9m2ky/logs/debug.log</code>"
     },
     "metadata": {},
     "output_type": "display_data"
    },
    {
     "data": {
      "text/plain": "<IPython.core.display.HTML object>",
      "text/html": "Find internal logs for this run at: <code>/home/anej/repos/studies/ML4HC/project4/wandb/run-20210604_223601-2ia9m2ky/logs/debug-internal.log</code>"
     },
     "metadata": {},
     "output_type": "display_data"
    },
    {
     "data": {
      "text/plain": "<IPython.core.display.HTML object>",
      "text/html": "<h3>Run summary:</h3><br/><style>\n    table.wandb td:nth-child(1) { padding: 0 10px; text-align: right }\n    </style><table class=\"wandb\">\n<tr><td>Test Accuracy</td><td>0.98968</td></tr><tr><td>_runtime</td><td>40</td></tr><tr><td>_timestamp</td><td>1622839001</td></tr><tr><td>_step</td><td>3</td></tr><tr><td>Test F1 Weighted</td><td>0.98953</td></tr><tr><td>Test F1 Macro</td><td>0.93962</td></tr><tr><td>Test Balanced Accuracy</td><td>0.92825</td></tr></table>"
     },
     "metadata": {},
     "output_type": "display_data"
    },
    {
     "data": {
      "text/plain": "<IPython.core.display.HTML object>",
      "text/html": "<h3>Run history:</h3><br/><style>\n    table.wandb td:nth-child(1) { padding: 0 10px; text-align: right }\n    </style><table class=\"wandb\">\n<tr><td>Test Accuracy</td><td>▁</td></tr><tr><td>_runtime</td><td>▁▁▁▁</td></tr><tr><td>_timestamp</td><td>▁▁▁▁</td></tr><tr><td>_step</td><td>▁▃▆█</td></tr><tr><td>Test F1 Weighted</td><td>▁</td></tr><tr><td>Test F1 Macro</td><td>▁</td></tr><tr><td>Test Balanced Accuracy</td><td>▁</td></tr></table><br/>"
     },
     "metadata": {},
     "output_type": "display_data"
    },
    {
     "data": {
      "text/plain": "<IPython.core.display.HTML object>",
      "text/html": "Synced 5 W&B file(s), 0 media file(s), 0 artifact file(s) and 0 other file(s)"
     },
     "metadata": {},
     "output_type": "display_data"
    },
    {
     "data": {
      "text/plain": "<IPython.core.display.HTML object>",
      "text/html": "\n                    <br/>Synced <strong style=\"color:#cdcd00\">ancient-plant-107</strong>: <a href=\"https://wandb.ai/anej/ML4HC-project4/runs/2ia9m2ky\" target=\"_blank\">https://wandb.ai/anej/ML4HC-project4/runs/2ia9m2ky</a><br/>\n                "
     },
     "metadata": {},
     "output_type": "display_data"
    }
   ],
   "source": [
    "run.join()"
   ],
   "metadata": {
    "collapsed": false,
    "pycharm": {
     "name": "#%%\n"
    }
   }
  },
  {
   "cell_type": "markdown",
   "source": [
    "### Predictions"
   ],
   "metadata": {
    "collapsed": false
   }
  },
  {
   "cell_type": "code",
   "execution_count": 12,
   "outputs": [],
   "source": [
    "save_predictions(original_model, X_test_mit, 'res_cnn', 'test_mitbih')\n",
    "save_predictions(original_model, X_train_mit, 'res_cnn', 'train_mitbih')"
   ],
   "metadata": {
    "collapsed": false,
    "pycharm": {
     "name": "#%%\n"
    }
   }
  },
  {
   "cell_type": "markdown",
   "source": [
    "## PTBDB"
   ],
   "metadata": {
    "collapsed": false,
    "pycharm": {
     "name": "#%% md\n"
    }
   }
  },
  {
   "cell_type": "markdown",
   "source": [
    "#### W&B setup"
   ],
   "metadata": {
    "collapsed": false
   }
  },
  {
   "cell_type": "code",
   "execution_count": 13,
   "outputs": [
    {
     "name": "stderr",
     "output_type": "stream",
     "text": [
      "\u001B[34m\u001B[1mwandb\u001B[0m: wandb version 0.10.31 is available!  To upgrade, please run:\n",
      "\u001B[34m\u001B[1mwandb\u001B[0m:  $ pip install wandb --upgrade\n"
     ]
    },
    {
     "data": {
      "text/plain": "<IPython.core.display.HTML object>",
      "text/html": "\n                Tracking run with wandb version 0.10.30<br/>\n                Syncing run <strong style=\"color:#cdcd00\">quiet-valley-108</strong> to <a href=\"https://wandb.ai\" target=\"_blank\">Weights & Biases</a> <a href=\"https://docs.wandb.com/integrations/jupyter.html\" target=\"_blank\">(Documentation)</a>.<br/>\n                Project page: <a href=\"https://wandb.ai/anej/ML4HC-project4\" target=\"_blank\">https://wandb.ai/anej/ML4HC-project4</a><br/>\n                Run page: <a href=\"https://wandb.ai/anej/ML4HC-project4/runs/14del5qe\" target=\"_blank\">https://wandb.ai/anej/ML4HC-project4/runs/14del5qe</a><br/>\n                Run data is saved locally in <code>/home/anej/repos/studies/ML4HC/project4/wandb/run-20210604_223937-14del5qe</code><br/><br/>\n            "
     },
     "metadata": {},
     "output_type": "display_data"
    }
   ],
   "source": [
    "run = wandb.init(\n",
    "    project='ML4HC-project4',\n",
    "    config={\n",
    "        'learning_rate': 1e-3,\n",
    "        'schedule_lr': False,\n",
    "        'epochs': 32,\n",
    "        'batch_size': 32,\n",
    "        'num_filters': [32, 32, 128],\n",
    "        'num_blocks_list': [2, 4, 2],\n",
    "        'loss_function': 'sparse_categorical_crossentropy',\n",
    "        'architecture': 'ResCNN',\n",
    "        'dataset': 'PTBDB',\n",
    "        'mode': 'training',\n",
    "        'ndim': 128\n",
    "    })\n",
    "\n",
    "config_mit = wandb.config"
   ],
   "metadata": {
    "collapsed": false,
    "pycharm": {
     "name": "#%%\n"
    }
   }
  },
  {
   "cell_type": "code",
   "execution_count": 14,
   "outputs": [
    {
     "name": "stdout",
     "output_type": "stream",
     "text": [
      "Model: \"model_1\"\n",
      "__________________________________________________________________________________________________\n",
      "Layer (type)                    Output Shape         Param #     Connected to                     \n",
      "==================================================================================================\n",
      "input_2 (InputLayer)            [(None, 187, 1)]     0                                            \n",
      "__________________________________________________________________________________________________\n",
      "batch_normalization_30 (BatchNo (None, 187, 1)       4           input_2[0][0]                    \n",
      "__________________________________________________________________________________________________\n",
      "conv1d_19 (Conv1D)              (None, 187, 32)      192         batch_normalization_30[0][0]     \n",
      "__________________________________________________________________________________________________\n",
      "batch_normalization_31 (BatchNo (None, 187, 32)      128         conv1d_19[0][0]                  \n",
      "__________________________________________________________________________________________________\n",
      "conv1d_20 (Conv1D)              (None, 187, 32)      5152        batch_normalization_31[0][0]     \n",
      "__________________________________________________________________________________________________\n",
      "batch_normalization_32 (BatchNo (None, 187, 32)      128         conv1d_20[0][0]                  \n",
      "__________________________________________________________________________________________________\n",
      "tf.nn.silu_16 (TFOpLambda)      (None, 187, 32)      0           batch_normalization_32[0][0]     \n",
      "__________________________________________________________________________________________________\n",
      "conv1d_21 (Conv1D)              (None, 187, 32)      5152        tf.nn.silu_16[0][0]              \n",
      "__________________________________________________________________________________________________\n",
      "batch_normalization_33 (BatchNo (None, 187, 32)      128         conv1d_21[0][0]                  \n",
      "__________________________________________________________________________________________________\n",
      "add_8 (Add)                     (None, 187, 32)      0           batch_normalization_31[0][0]     \n",
      "                                                                 batch_normalization_33[0][0]     \n",
      "__________________________________________________________________________________________________\n",
      "batch_normalization_34 (BatchNo (None, 187, 32)      128         add_8[0][0]                      \n",
      "__________________________________________________________________________________________________\n",
      "tf.nn.silu_17 (TFOpLambda)      (None, 187, 32)      0           batch_normalization_34[0][0]     \n",
      "__________________________________________________________________________________________________\n",
      "conv1d_22 (Conv1D)              (None, 187, 32)      5152        tf.nn.silu_17[0][0]              \n",
      "__________________________________________________________________________________________________\n",
      "batch_normalization_35 (BatchNo (None, 187, 32)      128         conv1d_22[0][0]                  \n",
      "__________________________________________________________________________________________________\n",
      "tf.nn.silu_18 (TFOpLambda)      (None, 187, 32)      0           batch_normalization_35[0][0]     \n",
      "__________________________________________________________________________________________________\n",
      "conv1d_23 (Conv1D)              (None, 187, 32)      5152        tf.nn.silu_18[0][0]              \n",
      "__________________________________________________________________________________________________\n",
      "batch_normalization_36 (BatchNo (None, 187, 32)      128         conv1d_23[0][0]                  \n",
      "__________________________________________________________________________________________________\n",
      "add_9 (Add)                     (None, 187, 32)      0           tf.nn.silu_17[0][0]              \n",
      "                                                                 batch_normalization_36[0][0]     \n",
      "__________________________________________________________________________________________________\n",
      "batch_normalization_37 (BatchNo (None, 187, 32)      128         add_9[0][0]                      \n",
      "__________________________________________________________________________________________________\n",
      "tf.nn.silu_19 (TFOpLambda)      (None, 187, 32)      0           batch_normalization_37[0][0]     \n",
      "__________________________________________________________________________________________________\n",
      "conv1d_24 (Conv1D)              (None, 94, 32)       3104        tf.nn.silu_19[0][0]              \n",
      "__________________________________________________________________________________________________\n",
      "batch_normalization_38 (BatchNo (None, 94, 32)       128         conv1d_24[0][0]                  \n",
      "__________________________________________________________________________________________________\n",
      "tf.nn.silu_20 (TFOpLambda)      (None, 94, 32)       0           batch_normalization_38[0][0]     \n",
      "__________________________________________________________________________________________________\n",
      "conv1d_26 (Conv1D)              (None, 94, 32)       1056        tf.nn.silu_19[0][0]              \n",
      "__________________________________________________________________________________________________\n",
      "conv1d_25 (Conv1D)              (None, 94, 32)       3104        tf.nn.silu_20[0][0]              \n",
      "__________________________________________________________________________________________________\n",
      "batch_normalization_40 (BatchNo (None, 94, 32)       128         conv1d_26[0][0]                  \n",
      "__________________________________________________________________________________________________\n",
      "batch_normalization_39 (BatchNo (None, 94, 32)       128         conv1d_25[0][0]                  \n",
      "__________________________________________________________________________________________________\n",
      "add_10 (Add)                    (None, 94, 32)       0           batch_normalization_40[0][0]     \n",
      "                                                                 batch_normalization_39[0][0]     \n",
      "__________________________________________________________________________________________________\n",
      "batch_normalization_41 (BatchNo (None, 94, 32)       128         add_10[0][0]                     \n",
      "__________________________________________________________________________________________________\n",
      "tf.nn.silu_21 (TFOpLambda)      (None, 94, 32)       0           batch_normalization_41[0][0]     \n",
      "__________________________________________________________________________________________________\n",
      "conv1d_27 (Conv1D)              (None, 94, 32)       3104        tf.nn.silu_21[0][0]              \n",
      "__________________________________________________________________________________________________\n",
      "batch_normalization_42 (BatchNo (None, 94, 32)       128         conv1d_27[0][0]                  \n",
      "__________________________________________________________________________________________________\n",
      "tf.nn.silu_22 (TFOpLambda)      (None, 94, 32)       0           batch_normalization_42[0][0]     \n",
      "__________________________________________________________________________________________________\n",
      "conv1d_28 (Conv1D)              (None, 94, 32)       3104        tf.nn.silu_22[0][0]              \n",
      "__________________________________________________________________________________________________\n",
      "batch_normalization_43 (BatchNo (None, 94, 32)       128         conv1d_28[0][0]                  \n",
      "__________________________________________________________________________________________________\n",
      "add_11 (Add)                    (None, 94, 32)       0           tf.nn.silu_21[0][0]              \n",
      "                                                                 batch_normalization_43[0][0]     \n",
      "__________________________________________________________________________________________________\n",
      "batch_normalization_44 (BatchNo (None, 94, 32)       128         add_11[0][0]                     \n",
      "__________________________________________________________________________________________________\n",
      "tf.nn.silu_23 (TFOpLambda)      (None, 94, 32)       0           batch_normalization_44[0][0]     \n",
      "__________________________________________________________________________________________________\n",
      "conv1d_29 (Conv1D)              (None, 94, 32)       3104        tf.nn.silu_23[0][0]              \n",
      "__________________________________________________________________________________________________\n",
      "batch_normalization_45 (BatchNo (None, 94, 32)       128         conv1d_29[0][0]                  \n",
      "__________________________________________________________________________________________________\n",
      "tf.nn.silu_24 (TFOpLambda)      (None, 94, 32)       0           batch_normalization_45[0][0]     \n",
      "__________________________________________________________________________________________________\n",
      "conv1d_30 (Conv1D)              (None, 94, 32)       3104        tf.nn.silu_24[0][0]              \n",
      "__________________________________________________________________________________________________\n",
      "batch_normalization_46 (BatchNo (None, 94, 32)       128         conv1d_30[0][0]                  \n",
      "__________________________________________________________________________________________________\n",
      "add_12 (Add)                    (None, 94, 32)       0           tf.nn.silu_23[0][0]              \n",
      "                                                                 batch_normalization_46[0][0]     \n",
      "__________________________________________________________________________________________________\n",
      "batch_normalization_47 (BatchNo (None, 94, 32)       128         add_12[0][0]                     \n",
      "__________________________________________________________________________________________________\n",
      "tf.nn.silu_25 (TFOpLambda)      (None, 94, 32)       0           batch_normalization_47[0][0]     \n",
      "__________________________________________________________________________________________________\n",
      "conv1d_31 (Conv1D)              (None, 94, 32)       3104        tf.nn.silu_25[0][0]              \n",
      "__________________________________________________________________________________________________\n",
      "batch_normalization_48 (BatchNo (None, 94, 32)       128         conv1d_31[0][0]                  \n",
      "__________________________________________________________________________________________________\n",
      "tf.nn.silu_26 (TFOpLambda)      (None, 94, 32)       0           batch_normalization_48[0][0]     \n",
      "__________________________________________________________________________________________________\n",
      "conv1d_32 (Conv1D)              (None, 94, 32)       3104        tf.nn.silu_26[0][0]              \n",
      "__________________________________________________________________________________________________\n",
      "batch_normalization_49 (BatchNo (None, 94, 32)       128         conv1d_32[0][0]                  \n",
      "__________________________________________________________________________________________________\n",
      "add_13 (Add)                    (None, 94, 32)       0           tf.nn.silu_25[0][0]              \n",
      "                                                                 batch_normalization_49[0][0]     \n",
      "__________________________________________________________________________________________________\n",
      "batch_normalization_50 (BatchNo (None, 94, 32)       128         add_13[0][0]                     \n",
      "__________________________________________________________________________________________________\n",
      "tf.nn.silu_27 (TFOpLambda)      (None, 94, 32)       0           batch_normalization_50[0][0]     \n",
      "__________________________________________________________________________________________________\n",
      "conv1d_33 (Conv1D)              (None, 47, 128)      12416       tf.nn.silu_27[0][0]              \n",
      "__________________________________________________________________________________________________\n",
      "batch_normalization_51 (BatchNo (None, 47, 128)      512         conv1d_33[0][0]                  \n",
      "__________________________________________________________________________________________________\n",
      "tf.nn.silu_28 (TFOpLambda)      (None, 47, 128)      0           batch_normalization_51[0][0]     \n",
      "__________________________________________________________________________________________________\n",
      "conv1d_35 (Conv1D)              (None, 47, 128)      4224        tf.nn.silu_27[0][0]              \n",
      "__________________________________________________________________________________________________\n",
      "conv1d_34 (Conv1D)              (None, 47, 128)      49280       tf.nn.silu_28[0][0]              \n",
      "__________________________________________________________________________________________________\n",
      "batch_normalization_53 (BatchNo (None, 47, 128)      512         conv1d_35[0][0]                  \n",
      "__________________________________________________________________________________________________\n",
      "batch_normalization_52 (BatchNo (None, 47, 128)      512         conv1d_34[0][0]                  \n",
      "__________________________________________________________________________________________________\n",
      "add_14 (Add)                    (None, 47, 128)      0           batch_normalization_53[0][0]     \n",
      "                                                                 batch_normalization_52[0][0]     \n",
      "__________________________________________________________________________________________________\n",
      "batch_normalization_54 (BatchNo (None, 47, 128)      512         add_14[0][0]                     \n",
      "__________________________________________________________________________________________________\n",
      "tf.nn.silu_29 (TFOpLambda)      (None, 47, 128)      0           batch_normalization_54[0][0]     \n",
      "__________________________________________________________________________________________________\n",
      "conv1d_36 (Conv1D)              (None, 47, 128)      49280       tf.nn.silu_29[0][0]              \n",
      "__________________________________________________________________________________________________\n",
      "batch_normalization_55 (BatchNo (None, 47, 128)      512         conv1d_36[0][0]                  \n",
      "__________________________________________________________________________________________________\n",
      "tf.nn.silu_30 (TFOpLambda)      (None, 47, 128)      0           batch_normalization_55[0][0]     \n",
      "__________________________________________________________________________________________________\n",
      "conv1d_37 (Conv1D)              (None, 47, 128)      49280       tf.nn.silu_30[0][0]              \n",
      "__________________________________________________________________________________________________\n",
      "batch_normalization_56 (BatchNo (None, 47, 128)      512         conv1d_37[0][0]                  \n",
      "__________________________________________________________________________________________________\n",
      "add_15 (Add)                    (None, 47, 128)      0           tf.nn.silu_29[0][0]              \n",
      "                                                                 batch_normalization_56[0][0]     \n",
      "__________________________________________________________________________________________________\n",
      "batch_normalization_57 (BatchNo (None, 47, 128)      512         add_15[0][0]                     \n",
      "__________________________________________________________________________________________________\n",
      "tf.nn.silu_31 (TFOpLambda)      (None, 47, 128)      0           batch_normalization_57[0][0]     \n",
      "__________________________________________________________________________________________________\n",
      "global_max_pooling1d_1 (GlobalM (None, 128)          0           tf.nn.silu_31[0][0]              \n",
      "__________________________________________________________________________________________________\n",
      "final_dropout (Dropout)         (None, 128)          0           global_max_pooling1d_1[0][0]     \n",
      "__________________________________________________________________________________________________\n",
      "batch_normalization_58 (BatchNo (None, 128)          512         final_dropout[0][0]              \n",
      "__________________________________________________________________________________________________\n",
      "dense_1 (Dense)                 (None, 128)          16512       batch_normalization_58[0][0]     \n",
      "__________________________________________________________________________________________________\n",
      "batch_normalization_59 (BatchNo (None, 128)          512         dense_1[0][0]                    \n",
      "__________________________________________________________________________________________________\n",
      "dense_2 (Dense)                 (None, 128)          16512       batch_normalization_59[0][0]     \n",
      "__________________________________________________________________________________________________\n",
      "dense_final_mitbih (Dense)      (None, 5)            645         dense_2[0][0]                    \n",
      "==================================================================================================\n",
      "Total params: 252,009\n",
      "Trainable params: 248,423\n",
      "Non-trainable params: 3,586\n",
      "__________________________________________________________________________________________________\n"
     ]
    }
   ],
   "source": [
    "original_model = get_res_model(config_mit, nclass=5)"
   ],
   "metadata": {
    "collapsed": false,
    "pycharm": {
     "name": "#%%\n"
    }
   }
  },
  {
   "cell_type": "code",
   "execution_count": 15,
   "outputs": [],
   "source": [
    "file_path_pt = './models/res/res_cnn_pt.h5'\n",
    "\n",
    "checkpoint = ModelCheckpoint(\n",
    "    file_path_pt, monitor='val_acc', verbose=1,\n",
    "    save_best_only=True, mode='max')\n",
    "early = EarlyStopping(\n",
    "    monitor='val_acc', mode='max', patience=5, verbose=1)\n",
    "redonplat = ReduceLROnPlateau(\n",
    "    monitor='val_acc', mode='max', patience=3, verbose=2)"
   ],
   "metadata": {
    "collapsed": false,
    "pycharm": {
     "name": "#%%\n"
    }
   }
  },
  {
   "cell_type": "markdown",
   "source": [
    "#### Training"
   ],
   "metadata": {
    "collapsed": false
   }
  },
  {
   "cell_type": "code",
   "execution_count": 22,
   "outputs": [
    {
     "data": {
      "text/plain": "0epoch [00:00, ?epoch/s]",
      "application/vnd.jupyter.widget-view+json": {
       "version_major": 2,
       "version_minor": 0,
       "model_id": "014a09f505f5427a895de46107d60ca7"
      }
     },
     "metadata": {},
     "output_type": "display_data"
    },
    {
     "data": {
      "text/plain": "0batch [00:00, ?batch/s]",
      "application/vnd.jupyter.widget-view+json": {
       "version_major": 2,
       "version_minor": 0,
       "model_id": "e2b21a07271a4bdd9903d934274b318e"
      }
     },
     "metadata": {},
     "output_type": "display_data"
    },
    {
     "name": "stdout",
     "output_type": "stream",
     "text": [
      "\n",
      "Epoch 00001: val_acc improved from -inf to 0.69957, saving model to ./models/res/res_cnn_pt.h5\n",
      "\n",
      "Epoch 00002: val_acc improved from 0.69957 to 0.79142, saving model to ./models/res/res_cnn_pt.h5\n",
      "\n",
      "Epoch 00003: val_acc improved from 0.79142 to 0.95021, saving model to ./models/res/res_cnn_pt.h5\n",
      "\n",
      "Epoch 00004: val_acc did not improve from 0.95021\n",
      "\n",
      "Epoch 00005: val_acc improved from 0.95021 to 0.96996, saving model to ./models/res/res_cnn_pt.h5\n",
      "\n",
      "Epoch 00006: val_acc did not improve from 0.96996\n",
      "\n",
      "Epoch 00007: val_acc did not improve from 0.96996\n",
      "\n",
      "Epoch 00008: val_acc did not improve from 0.96996\n",
      "\n",
      "Epoch 00008: ReduceLROnPlateau reducing learning rate to 0.00010000000474974513.\n",
      "\n",
      "Epoch 00009: val_acc improved from 0.96996 to 0.98455, saving model to ./models/res/res_cnn_pt.h5\n",
      "\n",
      "Epoch 00010: val_acc improved from 0.98455 to 0.98627, saving model to ./models/res/res_cnn_pt.h5\n",
      "\n",
      "Epoch 00011: val_acc did not improve from 0.98627\n",
      "\n",
      "Epoch 00012: val_acc did not improve from 0.98627\n",
      "\n",
      "Epoch 00013: val_acc did not improve from 0.98627\n",
      "\n",
      "Epoch 00013: ReduceLROnPlateau reducing learning rate to 1.0000000474974514e-05.\n",
      "\n",
      "Epoch 00014: val_acc improved from 0.98627 to 0.98798, saving model to ./models/res/res_cnn_pt.h5\n",
      "\n",
      "Epoch 00015: val_acc did not improve from 0.98798\n",
      "\n",
      "Epoch 00016: val_acc did not improve from 0.98798\n",
      "\n",
      "Epoch 00017: val_acc did not improve from 0.98798\n",
      "\n",
      "Epoch 00017: ReduceLROnPlateau reducing learning rate to 1.0000000656873453e-06.\n",
      "\n",
      "Epoch 00018: val_acc did not improve from 0.98798\n",
      "\n",
      "Epoch 00019: val_acc did not improve from 0.98798\n",
      "Epoch 00019: early stopping\n"
     ]
    }
   ],
   "source": [
    "history = original_model.fit(\n",
    "    X_train_pt, y_train_pt,\n",
    "    epochs=config_mit.epochs,\n",
    "    batch_size=config_mit.batch_size,\n",
    "    verbose=0,\n",
    "    callbacks=[\n",
    "        checkpoint, early, redonplat,\n",
    "        WandbCallback(), TqdmCallback(verbose=1)],\n",
    "    validation_split=0.1)"
   ],
   "metadata": {
    "collapsed": false,
    "pycharm": {
     "name": "#%%\n"
    }
   }
  },
  {
   "cell_type": "code",
   "execution_count": 16,
   "outputs": [],
   "source": [
    "original_model.load_weights(file_path_pt)"
   ],
   "metadata": {
    "collapsed": false,
    "pycharm": {
     "name": "#%%\n"
    }
   }
  },
  {
   "cell_type": "markdown",
   "source": [
    "### Evaluation"
   ],
   "metadata": {
    "collapsed": false
   }
  },
  {
   "cell_type": "code",
   "execution_count": 28,
   "outputs": [],
   "source": [
    "raw_preds = original_model.predict(X_test_pt, batch_size=512)\n",
    "test_preds_pt = np.argmax(raw_preds, axis=1)\n",
    "\n",
    "r = compute_metrics(y_test_pt, test_preds_pt)\n",
    "\n",
    "f1_weighted = r['f1-weighted']\n",
    "f1_macro = r['f1-macro']\n",
    "acc = r['accuracy']\n",
    "b_acc = r['balanced_accuracy']\n",
    "\n",
    "wandb.log({'Test Accuracy': acc})\n",
    "wandb.log({'Test F1 Weighted': f1_weighted})\n",
    "wandb.log({'Test F1 Macro': f1_macro})\n",
    "wandb.log({'Test Balanced Accuracy': b_acc})"
   ],
   "metadata": {
    "collapsed": false,
    "pycharm": {
     "name": "#%%\n"
    }
   }
  },
  {
   "cell_type": "code",
   "execution_count": 29,
   "outputs": [
    {
     "name": "stdout",
     "output_type": "stream",
     "text": [
      "f1 score micro:           0.99141\n",
      "f1 score macro:           0.98924\n",
      "f1 score weighted:        0.99139\n",
      "accuracy score:           0.99141\n",
      "balanced accuracy score:  0.98645\n",
      "AuPR score:               0.99949\n",
      "AuROC score:              0.99869\n"
     ]
    },
    {
     "data": {
      "text/plain": "<Figure size 432x288 with 2 Axes>",
      "image/png": "[encoded data removed]"
     },
     "metadata": {
      "needs_background": "light"
     },
     "output_type": "display_data"
    }
   ],
   "source": [
    "display_result(y_test_pt, test_preds_pt, True, raw_preds[:, 1])"
   ],
   "metadata": {
    "collapsed": false,
    "pycharm": {
     "name": "#%%\n"
    }
   }
  },
  {
   "cell_type": "code",
   "source": [
    "run.join()"
   ],
   "metadata": {
    "collapsed": false,
    "pycharm": {
     "name": "#%%\n"
    }
   },
   "execution_count": 19,
   "outputs": [
    {
     "data": {
      "text/plain": "<IPython.core.display.HTML object>",
      "text/html": "<br/>Waiting for W&B process to finish, PID 26924<br/>Program ended successfully."
     },
     "metadata": {},
     "output_type": "display_data"
    },
    {
     "data": {
      "text/plain": "VBox(children=(Label(value=' 0.00MB of 0.00MB uploaded (0.00MB deduped)\\r'), FloatProgress(value=1.0, max=1.0)…",
      "application/vnd.jupyter.widget-view+json": {
       "version_major": 2,
       "version_minor": 0,
       "model_id": "a757de7fd4f2480c904a10c15502a7ce"
      }
     },
     "metadata": {},
     "output_type": "display_data"
    },
    {
     "data": {
      "text/plain": "<IPython.core.display.HTML object>",
      "text/html": "Find user logs for this run at: <code>/home/anej/repos/studies/ML4HC/project4/wandb/run-20210604_223937-14del5qe/logs/debug.log</code>"
     },
     "metadata": {},
     "output_type": "display_data"
    },
    {
     "data": {
      "text/plain": "<IPython.core.display.HTML object>",
      "text/html": "Find internal logs for this run at: <code>/home/anej/repos/studies/ML4HC/project4/wandb/run-20210604_223937-14del5qe/logs/debug-internal.log</code>"
     },
     "metadata": {},
     "output_type": "display_data"
    },
    {
     "data": {
      "text/plain": "<IPython.core.display.HTML object>",
      "text/html": "<h3>Run summary:</h3><br/><style>\n    table.wandb td:nth-child(1) { padding: 0 10px; text-align: right }\n    </style><table class=\"wandb\">\n<tr><td>Test Accuracy</td><td>0.99141</td></tr><tr><td>_runtime</td><td>38</td></tr><tr><td>_timestamp</td><td>1622839215</td></tr><tr><td>_step</td><td>3</td></tr><tr><td>Test F1 Weighted</td><td>0.99139</td></tr><tr><td>Test F1 Macro</td><td>0.98924</td></tr><tr><td>Test Balanced Accuracy</td><td>0.98645</td></tr></table>"
     },
     "metadata": {},
     "output_type": "display_data"
    },
    {
     "data": {
      "text/plain": "<IPython.core.display.HTML object>",
      "text/html": "<h3>Run history:</h3><br/><style>\n    table.wandb td:nth-child(1) { padding: 0 10px; text-align: right }\n    </style><table class=\"wandb\">\n<tr><td>Test Accuracy</td><td>▁</td></tr><tr><td>_runtime</td><td>▁▁▁▁</td></tr><tr><td>_timestamp</td><td>▁▁▁▁</td></tr><tr><td>_step</td><td>▁▃▆█</td></tr><tr><td>Test F1 Weighted</td><td>▁</td></tr><tr><td>Test F1 Macro</td><td>▁</td></tr><tr><td>Test Balanced Accuracy</td><td>▁</td></tr></table><br/>"
     },
     "metadata": {},
     "output_type": "display_data"
    },
    {
     "data": {
      "text/plain": "<IPython.core.display.HTML object>",
      "text/html": "Synced 5 W&B file(s), 0 media file(s), 0 artifact file(s) and 0 other file(s)"
     },
     "metadata": {},
     "output_type": "display_data"
    },
    {
     "data": {
      "text/plain": "<IPython.core.display.HTML object>",
      "text/html": "\n                    <br/>Synced <strong style=\"color:#cdcd00\">quiet-valley-108</strong>: <a href=\"https://wandb.ai/anej/ML4HC-project4/runs/14del5qe\" target=\"_blank\">https://wandb.ai/anej/ML4HC-project4/runs/14del5qe</a><br/>\n                "
     },
     "metadata": {},
     "output_type": "display_data"
    }
   ]
  },
  {
   "cell_type": "markdown",
   "source": [
    "### Predictions"
   ],
   "metadata": {
    "collapsed": false
   }
  },
  {
   "cell_type": "code",
   "execution_count": 30,
   "outputs": [],
   "source": [
    "save_predictions(original_model, X_test_pt, 'res_cnn', 'test_ptb')\n",
    "save_predictions(original_model, X_train_pt, 'res_cnn', 'train_ptb')"
   ],
   "metadata": {
    "collapsed": false,
    "pycharm": {
     "name": "#%%\n"
    }
   }
  },
  {
   "cell_type": "markdown",
   "source": [
    "# PTBDB Transfer Learning\n"
   ],
   "metadata": {
    "collapsed": false
   }
  },
  {
   "cell_type": "markdown",
   "source": [
    "## Frozen"
   ],
   "metadata": {
    "collapsed": false
   }
  },
  {
   "cell_type": "markdown",
   "source": [
    "### Define model"
   ],
   "metadata": {
    "collapsed": false
   }
  },
  {
   "cell_type": "markdown",
   "source": [
    "#### W&B setup"
   ],
   "metadata": {
    "collapsed": false
   }
  },
  {
   "cell_type": "code",
   "execution_count": 31,
   "outputs": [
    {
     "data": {
      "text/plain": "<IPython.core.display.HTML object>",
      "text/html": "\n                Tracking run with wandb version 0.10.30<br/>\n                Syncing run <strong style=\"color:#cdcd00\">olive-voice-109</strong> to <a href=\"https://wandb.ai\" target=\"_blank\">Weights & Biases</a> <a href=\"https://docs.wandb.com/integrations/jupyter.html\" target=\"_blank\">(Documentation)</a>.<br/>\n                Project page: <a href=\"https://wandb.ai/anej/ML4HC-project4\" target=\"_blank\">https://wandb.ai/anej/ML4HC-project4</a><br/>\n                Run page: <a href=\"https://wandb.ai/anej/ML4HC-project4/runs/baqhngty\" target=\"_blank\">https://wandb.ai/anej/ML4HC-project4/runs/baqhngty</a><br/>\n                Run data is saved locally in <code>/home/anej/repos/studies/ML4HC/project4/wandb/run-20210604_224305-baqhngty</code><br/><br/>\n            "
     },
     "metadata": {},
     "output_type": "display_data"
    }
   ],
   "source": [
    "run = wandb.init(\n",
    "    project='ML4HC-project4',\n",
    "    config={\n",
    "        'learning_rate': 1e-3,\n",
    "        'schedule_lr': False,\n",
    "        'epochs': 32,\n",
    "        'batch_size': 32,\n",
    "        'num_filters': [128, 128, 256],\n",
    "        'num_blocks_list': [2, 4, 2],\n",
    "        'loss_function': 'sparse_categorical_crossentropy',\n",
    "        'architecture': 'ResCNN',\n",
    "        'dataset': 'PTBDB',\n",
    "        'mode': 'frozen',\n",
    "        'ndim': 256\n",
    "    })\n",
    "\n",
    "config_pt_frozen = wandb.config"
   ],
   "metadata": {
    "collapsed": false,
    "pycharm": {
     "name": "#%%\n"
    }
   }
  },
  {
   "cell_type": "markdown",
   "source": [
    "#### Set-up model"
   ],
   "metadata": {
    "collapsed": false
   }
  },
  {
   "cell_type": "code",
   "execution_count": 36,
   "outputs": [],
   "source": [
    "pretrained_model = get_res_model(\n",
    "    nclass=5, prepare_model=False, config=config_pt_frozen)"
   ],
   "metadata": {
    "collapsed": false,
    "pycharm": {
     "name": "#%%\n"
    }
   }
  },
  {
   "cell_type": "code",
   "execution_count": 33,
   "outputs": [],
   "source": [
    "file_path_pt_frozen = './models/res/res_cnn_pt_frozen.h5'\n",
    "\n",
    "checkpoint = ModelCheckpoint(\n",
    "    file_path_pt_frozen, monitor='val_acc', verbose=1,\n",
    "    save_best_only=True, mode='max')\n",
    "early = EarlyStopping(\n",
    "    monitor='val_acc', mode='max', patience=5, verbose=1)\n",
    "redonplat = ReduceLROnPlateau(\n",
    "    monitor='val_acc', mode='max', patience=3, verbose=2)"
   ],
   "metadata": {
    "collapsed": false,
    "pycharm": {
     "name": "#%%\n"
    }
   }
  },
  {
   "cell_type": "markdown",
   "source": [
    "#### Initialize model"
   ],
   "metadata": {
    "collapsed": false
   }
  },
  {
   "cell_type": "code",
   "execution_count": 30,
   "outputs": [],
   "source": [
    "pretrained_model.load_weights(file_path_mit)"
   ],
   "metadata": {
    "collapsed": false,
    "pycharm": {
     "name": "#%%\n"
    }
   }
  },
  {
   "cell_type": "markdown",
   "source": [
    "#### Modify the model"
   ],
   "metadata": {
    "collapsed": false
   }
  },
  {
   "cell_type": "code",
   "execution_count": 37,
   "outputs": [
    {
     "name": "stdout",
     "output_type": "stream",
     "text": [
      "Model: \"model_5\"\n",
      "__________________________________________________________________________________________________\n",
      "Layer (type)                    Output Shape         Param #     Connected to                     \n",
      "==================================================================================================\n",
      "input_4 (InputLayer)            [(None, 187, 1)]     0                                            \n",
      "__________________________________________________________________________________________________\n",
      "batch_normalization_92 (BatchNo (None, 187, 1)       4           input_4[0][0]                    \n",
      "__________________________________________________________________________________________________\n",
      "conv1d_57 (Conv1D)              (None, 187, 128)     768         batch_normalization_92[0][0]     \n",
      "__________________________________________________________________________________________________\n",
      "batch_normalization_93 (BatchNo (None, 187, 128)     512         conv1d_57[0][0]                  \n",
      "__________________________________________________________________________________________________\n",
      "conv1d_58 (Conv1D)              (None, 187, 128)     82048       batch_normalization_93[0][0]     \n",
      "__________________________________________________________________________________________________\n",
      "batch_normalization_94 (BatchNo (None, 187, 128)     512         conv1d_58[0][0]                  \n",
      "__________________________________________________________________________________________________\n",
      "tf.nn.silu_48 (TFOpLambda)      (None, 187, 128)     0           batch_normalization_94[0][0]     \n",
      "__________________________________________________________________________________________________\n",
      "conv1d_59 (Conv1D)              (None, 187, 128)     82048       tf.nn.silu_48[0][0]              \n",
      "__________________________________________________________________________________________________\n",
      "batch_normalization_95 (BatchNo (None, 187, 128)     512         conv1d_59[0][0]                  \n",
      "__________________________________________________________________________________________________\n",
      "add_24 (Add)                    (None, 187, 128)     0           batch_normalization_93[0][0]     \n",
      "                                                                 batch_normalization_95[0][0]     \n",
      "__________________________________________________________________________________________________\n",
      "batch_normalization_96 (BatchNo (None, 187, 128)     512         add_24[0][0]                     \n",
      "__________________________________________________________________________________________________\n",
      "tf.nn.silu_49 (TFOpLambda)      (None, 187, 128)     0           batch_normalization_96[0][0]     \n",
      "__________________________________________________________________________________________________\n",
      "conv1d_60 (Conv1D)              (None, 187, 128)     82048       tf.nn.silu_49[0][0]              \n",
      "__________________________________________________________________________________________________\n",
      "batch_normalization_97 (BatchNo (None, 187, 128)     512         conv1d_60[0][0]                  \n",
      "__________________________________________________________________________________________________\n",
      "tf.nn.silu_50 (TFOpLambda)      (None, 187, 128)     0           batch_normalization_97[0][0]     \n",
      "__________________________________________________________________________________________________\n",
      "conv1d_61 (Conv1D)              (None, 187, 128)     82048       tf.nn.silu_50[0][0]              \n",
      "__________________________________________________________________________________________________\n",
      "batch_normalization_98 (BatchNo (None, 187, 128)     512         conv1d_61[0][0]                  \n",
      "__________________________________________________________________________________________________\n",
      "add_25 (Add)                    (None, 187, 128)     0           tf.nn.silu_49[0][0]              \n",
      "                                                                 batch_normalization_98[0][0]     \n",
      "__________________________________________________________________________________________________\n",
      "batch_normalization_99 (BatchNo (None, 187, 128)     512         add_25[0][0]                     \n",
      "__________________________________________________________________________________________________\n",
      "tf.nn.silu_51 (TFOpLambda)      (None, 187, 128)     0           batch_normalization_99[0][0]     \n",
      "__________________________________________________________________________________________________\n",
      "conv1d_62 (Conv1D)              (None, 94, 128)      49280       tf.nn.silu_51[0][0]              \n",
      "__________________________________________________________________________________________________\n",
      "batch_normalization_100 (BatchN (None, 94, 128)      512         conv1d_62[0][0]                  \n",
      "__________________________________________________________________________________________________\n",
      "tf.nn.silu_52 (TFOpLambda)      (None, 94, 128)      0           batch_normalization_100[0][0]    \n",
      "__________________________________________________________________________________________________\n",
      "conv1d_64 (Conv1D)              (None, 94, 128)      16512       tf.nn.silu_51[0][0]              \n",
      "__________________________________________________________________________________________________\n",
      "conv1d_63 (Conv1D)              (None, 94, 128)      49280       tf.nn.silu_52[0][0]              \n",
      "__________________________________________________________________________________________________\n",
      "batch_normalization_102 (BatchN (None, 94, 128)      512         conv1d_64[0][0]                  \n",
      "__________________________________________________________________________________________________\n",
      "batch_normalization_101 (BatchN (None, 94, 128)      512         conv1d_63[0][0]                  \n",
      "__________________________________________________________________________________________________\n",
      "add_26 (Add)                    (None, 94, 128)      0           batch_normalization_102[0][0]    \n",
      "                                                                 batch_normalization_101[0][0]    \n",
      "__________________________________________________________________________________________________\n",
      "batch_normalization_103 (BatchN (None, 94, 128)      512         add_26[0][0]                     \n",
      "__________________________________________________________________________________________________\n",
      "tf.nn.silu_53 (TFOpLambda)      (None, 94, 128)      0           batch_normalization_103[0][0]    \n",
      "__________________________________________________________________________________________________\n",
      "conv1d_65 (Conv1D)              (None, 94, 128)      49280       tf.nn.silu_53[0][0]              \n",
      "__________________________________________________________________________________________________\n",
      "batch_normalization_104 (BatchN (None, 94, 128)      512         conv1d_65[0][0]                  \n",
      "__________________________________________________________________________________________________\n",
      "tf.nn.silu_54 (TFOpLambda)      (None, 94, 128)      0           batch_normalization_104[0][0]    \n",
      "__________________________________________________________________________________________________\n",
      "conv1d_66 (Conv1D)              (None, 94, 128)      49280       tf.nn.silu_54[0][0]              \n",
      "__________________________________________________________________________________________________\n",
      "batch_normalization_105 (BatchN (None, 94, 128)      512         conv1d_66[0][0]                  \n",
      "__________________________________________________________________________________________________\n",
      "add_27 (Add)                    (None, 94, 128)      0           tf.nn.silu_53[0][0]              \n",
      "                                                                 batch_normalization_105[0][0]    \n",
      "__________________________________________________________________________________________________\n",
      "batch_normalization_106 (BatchN (None, 94, 128)      512         add_27[0][0]                     \n",
      "__________________________________________________________________________________________________\n",
      "tf.nn.silu_55 (TFOpLambda)      (None, 94, 128)      0           batch_normalization_106[0][0]    \n",
      "__________________________________________________________________________________________________\n",
      "conv1d_67 (Conv1D)              (None, 94, 128)      49280       tf.nn.silu_55[0][0]              \n",
      "__________________________________________________________________________________________________\n",
      "batch_normalization_107 (BatchN (None, 94, 128)      512         conv1d_67[0][0]                  \n",
      "__________________________________________________________________________________________________\n",
      "tf.nn.silu_56 (TFOpLambda)      (None, 94, 128)      0           batch_normalization_107[0][0]    \n",
      "__________________________________________________________________________________________________\n",
      "conv1d_68 (Conv1D)              (None, 94, 128)      49280       tf.nn.silu_56[0][0]              \n",
      "__________________________________________________________________________________________________\n",
      "batch_normalization_108 (BatchN (None, 94, 128)      512         conv1d_68[0][0]                  \n",
      "__________________________________________________________________________________________________\n",
      "add_28 (Add)                    (None, 94, 128)      0           tf.nn.silu_55[0][0]              \n",
      "                                                                 batch_normalization_108[0][0]    \n",
      "__________________________________________________________________________________________________\n",
      "batch_normalization_109 (BatchN (None, 94, 128)      512         add_28[0][0]                     \n",
      "__________________________________________________________________________________________________\n",
      "tf.nn.silu_57 (TFOpLambda)      (None, 94, 128)      0           batch_normalization_109[0][0]    \n",
      "__________________________________________________________________________________________________\n",
      "conv1d_69 (Conv1D)              (None, 94, 128)      49280       tf.nn.silu_57[0][0]              \n",
      "__________________________________________________________________________________________________\n",
      "batch_normalization_110 (BatchN (None, 94, 128)      512         conv1d_69[0][0]                  \n",
      "__________________________________________________________________________________________________\n",
      "tf.nn.silu_58 (TFOpLambda)      (None, 94, 128)      0           batch_normalization_110[0][0]    \n",
      "__________________________________________________________________________________________________\n",
      "conv1d_70 (Conv1D)              (None, 94, 128)      49280       tf.nn.silu_58[0][0]              \n",
      "__________________________________________________________________________________________________\n",
      "batch_normalization_111 (BatchN (None, 94, 128)      512         conv1d_70[0][0]                  \n",
      "__________________________________________________________________________________________________\n",
      "add_29 (Add)                    (None, 94, 128)      0           tf.nn.silu_57[0][0]              \n",
      "                                                                 batch_normalization_111[0][0]    \n",
      "__________________________________________________________________________________________________\n",
      "batch_normalization_112 (BatchN (None, 94, 128)      512         add_29[0][0]                     \n",
      "__________________________________________________________________________________________________\n",
      "tf.nn.silu_59 (TFOpLambda)      (None, 94, 128)      0           batch_normalization_112[0][0]    \n",
      "__________________________________________________________________________________________________\n",
      "conv1d_71 (Conv1D)              (None, 47, 256)      98560       tf.nn.silu_59[0][0]              \n",
      "__________________________________________________________________________________________________\n",
      "batch_normalization_113 (BatchN (None, 47, 256)      1024        conv1d_71[0][0]                  \n",
      "__________________________________________________________________________________________________\n",
      "tf.nn.silu_60 (TFOpLambda)      (None, 47, 256)      0           batch_normalization_113[0][0]    \n",
      "__________________________________________________________________________________________________\n",
      "conv1d_73 (Conv1D)              (None, 47, 256)      33024       tf.nn.silu_59[0][0]              \n",
      "__________________________________________________________________________________________________\n",
      "conv1d_72 (Conv1D)              (None, 47, 256)      196864      tf.nn.silu_60[0][0]              \n",
      "__________________________________________________________________________________________________\n",
      "batch_normalization_115 (BatchN (None, 47, 256)      1024        conv1d_73[0][0]                  \n",
      "__________________________________________________________________________________________________\n",
      "batch_normalization_114 (BatchN (None, 47, 256)      1024        conv1d_72[0][0]                  \n",
      "__________________________________________________________________________________________________\n",
      "add_30 (Add)                    (None, 47, 256)      0           batch_normalization_115[0][0]    \n",
      "                                                                 batch_normalization_114[0][0]    \n",
      "__________________________________________________________________________________________________\n",
      "batch_normalization_116 (BatchN (None, 47, 256)      1024        add_30[0][0]                     \n",
      "__________________________________________________________________________________________________\n",
      "tf.nn.silu_61 (TFOpLambda)      (None, 47, 256)      0           batch_normalization_116[0][0]    \n",
      "__________________________________________________________________________________________________\n",
      "conv1d_74 (Conv1D)              (None, 47, 256)      196864      tf.nn.silu_61[0][0]              \n",
      "__________________________________________________________________________________________________\n",
      "batch_normalization_117 (BatchN (None, 47, 256)      1024        conv1d_74[0][0]                  \n",
      "__________________________________________________________________________________________________\n",
      "tf.nn.silu_62 (TFOpLambda)      (None, 47, 256)      0           batch_normalization_117[0][0]    \n",
      "__________________________________________________________________________________________________\n",
      "conv1d_75 (Conv1D)              (None, 47, 256)      196864      tf.nn.silu_62[0][0]              \n",
      "__________________________________________________________________________________________________\n",
      "batch_normalization_118 (BatchN (None, 47, 256)      1024        conv1d_75[0][0]                  \n",
      "__________________________________________________________________________________________________\n",
      "add_31 (Add)                    (None, 47, 256)      0           tf.nn.silu_61[0][0]              \n",
      "                                                                 batch_normalization_118[0][0]    \n",
      "__________________________________________________________________________________________________\n",
      "batch_normalization_119 (BatchN (None, 47, 256)      1024        add_31[0][0]                     \n",
      "__________________________________________________________________________________________________\n",
      "tf.nn.silu_63 (TFOpLambda)      (None, 47, 256)      0           batch_normalization_119[0][0]    \n",
      "__________________________________________________________________________________________________\n",
      "global_max_pooling1d_3 (GlobalM (None, 256)          0           tf.nn.silu_63[0][0]              \n",
      "__________________________________________________________________________________________________\n",
      "final_dropout (Dropout)         (None, 256)          0           global_max_pooling1d_3[0][0]     \n",
      "__________________________________________________________________________________________________\n",
      "batch_normalization_122 (BatchN (None, 256)          1024        final_dropout[0][0]              \n",
      "__________________________________________________________________________________________________\n",
      "dense_1 (Dense)                 (None, 256)          65792       batch_normalization_122[0][0]    \n",
      "__________________________________________________________________________________________________\n",
      "batch_normalization_123 (BatchN (None, 256)          1024        dense_1[0][0]                    \n",
      "__________________________________________________________________________________________________\n",
      "dense_2 (Dense)                 (None, 256)          65792       batch_normalization_123[0][0]    \n",
      "__________________________________________________________________________________________________\n",
      "dense_final_ptbdb (Dense)       (None, 2)            514         dense_2[0][0]                    \n",
      "==================================================================================================\n",
      "Total params: 1,613,446\n",
      "Trainable params: 133,122\n",
      "Non-trainable params: 1,480,324\n",
      "__________________________________________________________________________________________________\n"
     ]
    }
   ],
   "source": [
    "fine_tuned_model = modify_model(pretrained_model, config_pt_frozen)"
   ],
   "metadata": {
    "collapsed": false,
    "pycharm": {
     "name": "#%%\n"
    }
   }
  },
  {
   "cell_type": "markdown",
   "source": [
    "#### Train model"
   ],
   "metadata": {
    "collapsed": false
   }
  },
  {
   "cell_type": "code",
   "execution_count": 32,
   "outputs": [
    {
     "data": {
      "text/plain": "0epoch [00:00, ?epoch/s]",
      "application/vnd.jupyter.widget-view+json": {
       "version_major": 2,
       "version_minor": 0,
       "model_id": "cfba78808e944bd2acb73570463bcff8"
      }
     },
     "metadata": {},
     "output_type": "display_data"
    },
    {
     "data": {
      "text/plain": "0batch [00:00, ?batch/s]",
      "application/vnd.jupyter.widget-view+json": {
       "version_major": 2,
       "version_minor": 0,
       "model_id": "7fc53ad186fe4fdb955597dcb118ae2f"
      }
     },
     "metadata": {},
     "output_type": "display_data"
    },
    {
     "name": "stdout",
     "output_type": "stream",
     "text": [
      "\n",
      "Epoch 00001: val_acc improved from -inf to 0.96824, saving model to ./models/res/res_cnn_pt_frozen.h5\n",
      "\n",
      "Epoch 00002: val_acc improved from 0.96824 to 0.98112, saving model to ./models/res/res_cnn_pt_frozen.h5\n",
      "\n",
      "Epoch 00003: val_acc improved from 0.98112 to 0.98455, saving model to ./models/res/res_cnn_pt_frozen.h5\n",
      "\n",
      "Epoch 00004: val_acc did not improve from 0.98455\n",
      "\n",
      "Epoch 00005: val_acc improved from 0.98455 to 0.98884, saving model to ./models/res/res_cnn_pt_frozen.h5\n",
      "\n",
      "Epoch 00006: val_acc improved from 0.98884 to 0.98970, saving model to ./models/res/res_cnn_pt_frozen.h5\n",
      "\n",
      "Epoch 00007: val_acc did not improve from 0.98970\n",
      "\n",
      "Epoch 00008: val_acc did not improve from 0.98970\n",
      "\n",
      "Epoch 00009: val_acc did not improve from 0.98970\n",
      "\n",
      "Epoch 00009: ReduceLROnPlateau reducing learning rate to 0.00010000000474974513.\n",
      "\n",
      "Epoch 00010: val_acc improved from 0.98970 to 0.99571, saving model to ./models/res/res_cnn_pt_frozen.h5\n",
      "\n",
      "Epoch 00011: val_acc did not improve from 0.99571\n",
      "\n",
      "Epoch 00012: val_acc did not improve from 0.99571\n",
      "\n",
      "Epoch 00013: val_acc did not improve from 0.99571\n",
      "\n",
      "Epoch 00013: ReduceLROnPlateau reducing learning rate to 1.0000000474974514e-05.\n",
      "\n",
      "Epoch 00014: val_acc did not improve from 0.99571\n",
      "\n",
      "Epoch 00015: val_acc did not improve from 0.99571\n",
      "Epoch 00015: early stopping\n"
     ]
    },
    {
     "data": {
      "text/plain": "<tensorflow.python.keras.callbacks.History at 0x7fa1fefcbc10>"
     },
     "execution_count": 32,
     "metadata": {},
     "output_type": "execute_result"
    }
   ],
   "source": [
    "fine_tuned_model.fit(\n",
    "    X_train_pt, y_train_pt,\n",
    "    epochs=config_pt_frozen.epochs,\n",
    "    batch_size=config_pt_frozen.batch_size,\n",
    "    verbose=0,\n",
    "    callbacks=[\n",
    "        checkpoint, early, redonplat,\n",
    "        WandbCallback(), TqdmCallback(verbose=1)],\n",
    "    validation_split=0.1)"
   ],
   "metadata": {
    "collapsed": false,
    "pycharm": {
     "name": "#%%\n"
    }
   }
  },
  {
   "cell_type": "code",
   "execution_count": 38,
   "outputs": [],
   "source": [
    "fine_tuned_model.load_weights(file_path_pt_frozen)"
   ],
   "metadata": {
    "collapsed": false,
    "pycharm": {
     "name": "#%%\n"
    }
   }
  },
  {
   "cell_type": "markdown",
   "source": [
    "### Evaluation"
   ],
   "metadata": {
    "collapsed": false
   }
  },
  {
   "cell_type": "code",
   "execution_count": 39,
   "outputs": [],
   "source": [
    "raw_preds = original_model.predict(X_test_pt, batch_size=512)\n",
    "test_preds_pt = np.argmax(raw_preds, axis=1)\n",
    "\n",
    "r = compute_metrics(y_test_pt, test_preds_pt)\n",
    "\n",
    "f1_weighted = r['f1-weighted']\n",
    "f1_macro = r['f1-macro']\n",
    "acc = r['accuracy']\n",
    "b_acc = r['balanced_accuracy']\n",
    "\n",
    "wandb.log({'Test Accuracy': acc})\n",
    "wandb.log({'Test F1 Weighted': f1_weighted})\n",
    "wandb.log({'Test F1 Macro': f1_macro})\n",
    "wandb.log({'Test Balanced Accuracy': b_acc})"
   ],
   "metadata": {
    "collapsed": false,
    "pycharm": {
     "name": "#%%\n"
    }
   }
  },
  {
   "cell_type": "code",
   "execution_count": 41,
   "outputs": [
    {
     "name": "stdout",
     "output_type": "stream",
     "text": [
      "f1 score micro:           0.99141\n",
      "f1 score macro:           0.98924\n",
      "f1 score weighted:        0.99139\n",
      "accuracy score:           0.99141\n",
      "balanced accuracy score:  0.98645\n",
      "AuPR score:               0.99949\n",
      "AuROC score:              0.99869\n"
     ]
    },
    {
     "data": {
      "text/plain": "<Figure size 432x288 with 2 Axes>",
      "image/png": "[encoded data removed]"
     },
     "metadata": {
      "needs_background": "light"
     },
     "output_type": "display_data"
    }
   ],
   "source": [
    "display_result(y_test_pt, test_preds_pt, True, raw_preds[:, 1])"
   ],
   "metadata": {
    "collapsed": false,
    "pycharm": {
     "name": "#%%\n"
    }
   }
  },
  {
   "cell_type": "code",
   "execution_count": 36,
   "outputs": [
    {
     "data": {
      "text/plain": "<IPython.core.display.HTML object>",
      "text/html": "<br/>Waiting for W&B process to finish, PID 18697<br/>Program ended successfully."
     },
     "metadata": {},
     "output_type": "display_data"
    },
    {
     "data": {
      "text/plain": "VBox(children=(Label(value=' 7.44MB of 7.44MB uploaded (0.00MB deduped)\\r'), FloatProgress(value=1.0, max=1.0)…",
      "application/vnd.jupyter.widget-view+json": {
       "version_major": 2,
       "version_minor": 0,
       "model_id": "de58cd704a1f4f0483fc7d2beb20fac2"
      }
     },
     "metadata": {},
     "output_type": "display_data"
    },
    {
     "data": {
      "text/plain": "<IPython.core.display.HTML object>",
      "text/html": "Find user logs for this run at: <code>/home/anej/repos/studies/ML4HC/project4/wandb/run-20210604_200457-114tvk7x/logs/debug.log</code>"
     },
     "metadata": {},
     "output_type": "display_data"
    },
    {
     "data": {
      "text/plain": "<IPython.core.display.HTML object>",
      "text/html": "Find internal logs for this run at: <code>/home/anej/repos/studies/ML4HC/project4/wandb/run-20210604_200457-114tvk7x/logs/debug-internal.log</code>"
     },
     "metadata": {},
     "output_type": "display_data"
    },
    {
     "data": {
      "text/plain": "<IPython.core.display.HTML object>",
      "text/html": "<h3>Run summary:</h3><br/><style>\n    table.wandb td:nth-child(1) { padding: 0 10px; text-align: right }\n    </style><table class=\"wandb\">\n<tr><td>epoch</td><td>14</td></tr><tr><td>loss</td><td>0.02013</td></tr><tr><td>acc</td><td>0.99236</td></tr><tr><td>val_loss</td><td>0.01467</td></tr><tr><td>val_acc</td><td>0.99571</td></tr><tr><td>lr</td><td>1e-05</td></tr><tr><td>_runtime</td><td>181</td></tr><tr><td>_timestamp</td><td>1622830078</td></tr><tr><td>_step</td><td>18</td></tr><tr><td>best_val_loss</td><td>0.01384</td></tr><tr><td>best_epoch</td><td>12</td></tr><tr><td>Test Accuracy</td><td>0.99107</td></tr><tr><td>Test F1 Weighted</td><td>0.99108</td></tr><tr><td>Test F1 Macro</td><td>0.98891</td></tr><tr><td>Test Balanced Accuracy</td><td>0.99039</td></tr></table>"
     },
     "metadata": {},
     "output_type": "display_data"
    },
    {
     "data": {
      "text/plain": "<IPython.core.display.HTML object>",
      "text/html": "<h3>Run history:</h3><br/><style>\n    table.wandb td:nth-child(1) { padding: 0 10px; text-align: right }\n    </style><table class=\"wandb\">\n<tr><td>epoch</td><td>▁▁▂▃▃▃▄▅▅▅▆▇▇▇█</td></tr><tr><td>loss</td><td>█▅▄▃▂▂▂▂▂▁▁▁▁▁▁</td></tr><tr><td>acc</td><td>▁▄▅▆▇▇▇▇▇██████</td></tr><tr><td>val_loss</td><td>█▅▄▅▃▃▃▃▃▁▁▁▁▁▁</td></tr><tr><td>val_acc</td><td>▁▄▅▄▆▆▅▆▆██████</td></tr><tr><td>lr</td><td>█████████▂▂▂▂▁▁</td></tr><tr><td>_runtime</td><td>▁▁▂▂▂▂▃▃▃▄▄▄▄▅▅████</td></tr><tr><td>_timestamp</td><td>▁▁▂▂▂▂▃▃▃▄▄▄▄▅▅████</td></tr><tr><td>_step</td><td>▁▁▂▂▃▃▃▄▄▅▅▅▆▆▆▇▇██</td></tr><tr><td>Test Accuracy</td><td>▁</td></tr><tr><td>Test F1 Weighted</td><td>▁</td></tr><tr><td>Test F1 Macro</td><td>▁</td></tr><tr><td>Test Balanced Accuracy</td><td>▁</td></tr></table><br/>"
     },
     "metadata": {},
     "output_type": "display_data"
    },
    {
     "data": {
      "text/plain": "<IPython.core.display.HTML object>",
      "text/html": "Synced 5 W&B file(s), 1 media file(s), 0 artifact file(s) and 1 other file(s)"
     },
     "metadata": {},
     "output_type": "display_data"
    },
    {
     "data": {
      "text/plain": "<IPython.core.display.HTML object>",
      "text/html": "\n                    <br/>Synced <strong style=\"color:#cdcd00\">neat-puddle-103</strong>: <a href=\"https://wandb.ai/anej/ML4HC-project4/runs/114tvk7x\" target=\"_blank\">https://wandb.ai/anej/ML4HC-project4/runs/114tvk7x</a><br/>\n                "
     },
     "metadata": {},
     "output_type": "display_data"
    }
   ],
   "source": [
    "run.join()"
   ],
   "metadata": {
    "collapsed": false,
    "pycharm": {
     "name": "#%%\n"
    }
   }
  },
  {
   "cell_type": "markdown",
   "source": [
    "### Predictions"
   ],
   "metadata": {
    "collapsed": false
   }
  },
  {
   "cell_type": "code",
   "execution_count": 42,
   "outputs": [],
   "source": [
    "save_predictions(fine_tuned_model, X_test_pt, 'res_cnn', 'test_ptb_frozen')\n",
    "save_predictions(fine_tuned_model, X_train_pt, 'res_cnn', 'train_ptb_frozen')"
   ],
   "metadata": {
    "collapsed": false,
    "pycharm": {
     "name": "#%%\n"
    }
   }
  },
  {
   "cell_type": "markdown",
   "source": [
    "## Whole Model"
   ],
   "metadata": {
    "collapsed": false
   }
  },
  {
   "cell_type": "markdown",
   "source": [
    "### Define model"
   ],
   "metadata": {
    "collapsed": false,
    "pycharm": {
     "name": "#%% md\n"
    }
   }
  },
  {
   "cell_type": "markdown",
   "source": [
    "#### W&B setup"
   ],
   "metadata": {
    "collapsed": false
   }
  },
  {
   "cell_type": "code",
   "execution_count": 43,
   "outputs": [
    {
     "data": {
      "text/plain": "<IPython.core.display.HTML object>",
      "text/html": "Finishing last run (ID:baqhngty) before initializing another..."
     },
     "metadata": {},
     "output_type": "display_data"
    },
    {
     "data": {
      "text/plain": "<IPython.core.display.HTML object>",
      "text/html": "<br/>Waiting for W&B process to finish, PID 27311<br/>Program ended successfully."
     },
     "metadata": {},
     "output_type": "display_data"
    },
    {
     "data": {
      "text/plain": "VBox(children=(Label(value=' 0.00MB of 0.00MB uploaded (0.00MB deduped)\\r'), FloatProgress(value=1.0, max=1.0)…",
      "application/vnd.jupyter.widget-view+json": {
       "version_major": 2,
       "version_minor": 0,
       "model_id": "5c463f0984a1474a9467868a89205648"
      }
     },
     "metadata": {},
     "output_type": "display_data"
    },
    {
     "data": {
      "text/plain": "<IPython.core.display.HTML object>",
      "text/html": "Find user logs for this run at: <code>/home/anej/repos/studies/ML4HC/project4/wandb/run-20210604_224305-baqhngty/logs/debug.log</code>"
     },
     "metadata": {},
     "output_type": "display_data"
    },
    {
     "data": {
      "text/plain": "<IPython.core.display.HTML object>",
      "text/html": "Find internal logs for this run at: <code>/home/anej/repos/studies/ML4HC/project4/wandb/run-20210604_224305-baqhngty/logs/debug-internal.log</code>"
     },
     "metadata": {},
     "output_type": "display_data"
    },
    {
     "data": {
      "text/plain": "<IPython.core.display.HTML object>",
      "text/html": "<h3>Run summary:</h3><br/><style>\n    table.wandb td:nth-child(1) { padding: 0 10px; text-align: right }\n    </style><table class=\"wandb\">\n<tr><td>Test Accuracy</td><td>0.99141</td></tr><tr><td>_runtime</td><td>75</td></tr><tr><td>_timestamp</td><td>1622839460</td></tr><tr><td>_step</td><td>3</td></tr><tr><td>Test F1 Weighted</td><td>0.99139</td></tr><tr><td>Test F1 Macro</td><td>0.98924</td></tr><tr><td>Test Balanced Accuracy</td><td>0.98645</td></tr></table>"
     },
     "metadata": {},
     "output_type": "display_data"
    },
    {
     "data": {
      "text/plain": "<IPython.core.display.HTML object>",
      "text/html": "<h3>Run history:</h3><br/><style>\n    table.wandb td:nth-child(1) { padding: 0 10px; text-align: right }\n    </style><table class=\"wandb\">\n<tr><td>Test Accuracy</td><td>▁</td></tr><tr><td>_runtime</td><td>▁▁▁▁</td></tr><tr><td>_timestamp</td><td>▁▁▁▁</td></tr><tr><td>_step</td><td>▁▃▆█</td></tr><tr><td>Test F1 Weighted</td><td>▁</td></tr><tr><td>Test F1 Macro</td><td>▁</td></tr><tr><td>Test Balanced Accuracy</td><td>▁</td></tr></table><br/>"
     },
     "metadata": {},
     "output_type": "display_data"
    },
    {
     "data": {
      "text/plain": "<IPython.core.display.HTML object>",
      "text/html": "Synced 5 W&B file(s), 0 media file(s), 0 artifact file(s) and 0 other file(s)"
     },
     "metadata": {},
     "output_type": "display_data"
    },
    {
     "data": {
      "text/plain": "<IPython.core.display.HTML object>",
      "text/html": "\n                    <br/>Synced <strong style=\"color:#cdcd00\">olive-voice-109</strong>: <a href=\"https://wandb.ai/anej/ML4HC-project4/runs/baqhngty\" target=\"_blank\">https://wandb.ai/anej/ML4HC-project4/runs/baqhngty</a><br/>\n                "
     },
     "metadata": {},
     "output_type": "display_data"
    },
    {
     "data": {
      "text/plain": "<IPython.core.display.HTML object>",
      "text/html": "...Successfully finished last run (ID:baqhngty). Initializing new run:<br/><br/>"
     },
     "metadata": {},
     "output_type": "display_data"
    },
    {
     "name": "stderr",
     "output_type": "stream",
     "text": [
      "\u001B[34m\u001B[1mwandb\u001B[0m: wandb version 0.10.31 is available!  To upgrade, please run:\n",
      "\u001B[34m\u001B[1mwandb\u001B[0m:  $ pip install wandb --upgrade\n"
     ]
    },
    {
     "data": {
      "text/plain": "<IPython.core.display.HTML object>",
      "text/html": "\n                Tracking run with wandb version 0.10.30<br/>\n                Syncing run <strong style=\"color:#cdcd00\">morning-jazz-110</strong> to <a href=\"https://wandb.ai\" target=\"_blank\">Weights & Biases</a> <a href=\"https://docs.wandb.com/integrations/jupyter.html\" target=\"_blank\">(Documentation)</a>.<br/>\n                Project page: <a href=\"https://wandb.ai/anej/ML4HC-project4\" target=\"_blank\">https://wandb.ai/anej/ML4HC-project4</a><br/>\n                Run page: <a href=\"https://wandb.ai/anej/ML4HC-project4/runs/34l1mxk0\" target=\"_blank\">https://wandb.ai/anej/ML4HC-project4/runs/34l1mxk0</a><br/>\n                Run data is saved locally in <code>/home/anej/repos/studies/ML4HC/project4/wandb/run-20210604_224505-34l1mxk0</code><br/><br/>\n            "
     },
     "metadata": {},
     "output_type": "display_data"
    }
   ],
   "source": [
    "run = wandb.init(\n",
    "    project='ML4HC-project4',\n",
    "    config={\n",
    "        'learning_rate': 1e-3,\n",
    "        'schedule_lr': False,\n",
    "        'epochs': 32,\n",
    "        'batch_size': 32,\n",
    "        'num_filters': [128, 128, 256],\n",
    "        'num_blocks_list': [2, 4, 2],\n",
    "        'loss_function': 'sparse_categorical_crossentropy',\n",
    "        'architecture': 'ResCNN',\n",
    "        'dataset': 'PTBDB',\n",
    "        'mode': 'whole',\n",
    "        'ndim': 256\n",
    "    })\n",
    "\n",
    "config_pt_whole = wandb.config"
   ],
   "metadata": {
    "collapsed": false,
    "pycharm": {
     "name": "#%%\n"
    }
   }
  },
  {
   "cell_type": "markdown",
   "source": [
    "#### Set-up model"
   ],
   "metadata": {
    "collapsed": false
   }
  },
  {
   "cell_type": "code",
   "execution_count": 44,
   "outputs": [],
   "source": [
    "pretrained_model = get_res_model(\n",
    "    nclass=5, prepare_model=False, config=config_pt_whole)"
   ],
   "metadata": {
    "collapsed": false,
    "pycharm": {
     "name": "#%%\n"
    }
   }
  },
  {
   "cell_type": "code",
   "execution_count": 45,
   "outputs": [],
   "source": [
    "file_path_pt_whole = './models/res/res_cnn_pt_whole.h5'\n",
    "\n",
    "checkpoint = ModelCheckpoint(\n",
    "    file_path_pt_whole, monitor='val_acc', verbose=1,\n",
    "    save_best_only=True, mode='max')\n",
    "early = EarlyStopping(\n",
    "    monitor='val_acc', mode='max', patience=5, verbose=1)\n",
    "redonplat = ReduceLROnPlateau(\n",
    "    monitor='val_acc', mode='max', patience=3, verbose=2)"
   ],
   "metadata": {
    "collapsed": false,
    "pycharm": {
     "name": "#%%\n"
    }
   }
  },
  {
   "cell_type": "markdown",
   "source": [
    "#### Initialize model"
   ],
   "metadata": {
    "collapsed": false,
    "pycharm": {
     "name": "#%% md\n"
    }
   }
  },
  {
   "cell_type": "code",
   "execution_count": 46,
   "outputs": [],
   "source": [
    "pretrained_model.load_weights(file_path_mit)"
   ],
   "metadata": {
    "collapsed": false,
    "pycharm": {
     "name": "#%%\n"
    }
   }
  },
  {
   "cell_type": "markdown",
   "source": [
    "#### Modify the model"
   ],
   "metadata": {
    "collapsed": false,
    "pycharm": {
     "name": "#%% md\n"
    }
   }
  },
  {
   "cell_type": "code",
   "execution_count": 47,
   "outputs": [
    {
     "name": "stdout",
     "output_type": "stream",
     "text": [
      "Model: \"model_7\"\n",
      "__________________________________________________________________________________________________\n",
      "Layer (type)                    Output Shape         Param #     Connected to                     \n",
      "==================================================================================================\n",
      "input_5 (InputLayer)            [(None, 187, 1)]     0                                            \n",
      "__________________________________________________________________________________________________\n",
      "batch_normalization_124 (BatchN (None, 187, 1)       4           input_5[0][0]                    \n",
      "__________________________________________________________________________________________________\n",
      "conv1d_76 (Conv1D)              (None, 187, 128)     768         batch_normalization_124[0][0]    \n",
      "__________________________________________________________________________________________________\n",
      "batch_normalization_125 (BatchN (None, 187, 128)     512         conv1d_76[0][0]                  \n",
      "__________________________________________________________________________________________________\n",
      "conv1d_77 (Conv1D)              (None, 187, 128)     82048       batch_normalization_125[0][0]    \n",
      "__________________________________________________________________________________________________\n",
      "batch_normalization_126 (BatchN (None, 187, 128)     512         conv1d_77[0][0]                  \n",
      "__________________________________________________________________________________________________\n",
      "tf.nn.silu_64 (TFOpLambda)      (None, 187, 128)     0           batch_normalization_126[0][0]    \n",
      "__________________________________________________________________________________________________\n",
      "conv1d_78 (Conv1D)              (None, 187, 128)     82048       tf.nn.silu_64[0][0]              \n",
      "__________________________________________________________________________________________________\n",
      "batch_normalization_127 (BatchN (None, 187, 128)     512         conv1d_78[0][0]                  \n",
      "__________________________________________________________________________________________________\n",
      "add_32 (Add)                    (None, 187, 128)     0           batch_normalization_125[0][0]    \n",
      "                                                                 batch_normalization_127[0][0]    \n",
      "__________________________________________________________________________________________________\n",
      "batch_normalization_128 (BatchN (None, 187, 128)     512         add_32[0][0]                     \n",
      "__________________________________________________________________________________________________\n",
      "tf.nn.silu_65 (TFOpLambda)      (None, 187, 128)     0           batch_normalization_128[0][0]    \n",
      "__________________________________________________________________________________________________\n",
      "conv1d_79 (Conv1D)              (None, 187, 128)     82048       tf.nn.silu_65[0][0]              \n",
      "__________________________________________________________________________________________________\n",
      "batch_normalization_129 (BatchN (None, 187, 128)     512         conv1d_79[0][0]                  \n",
      "__________________________________________________________________________________________________\n",
      "tf.nn.silu_66 (TFOpLambda)      (None, 187, 128)     0           batch_normalization_129[0][0]    \n",
      "__________________________________________________________________________________________________\n",
      "conv1d_80 (Conv1D)              (None, 187, 128)     82048       tf.nn.silu_66[0][0]              \n",
      "__________________________________________________________________________________________________\n",
      "batch_normalization_130 (BatchN (None, 187, 128)     512         conv1d_80[0][0]                  \n",
      "__________________________________________________________________________________________________\n",
      "add_33 (Add)                    (None, 187, 128)     0           tf.nn.silu_65[0][0]              \n",
      "                                                                 batch_normalization_130[0][0]    \n",
      "__________________________________________________________________________________________________\n",
      "batch_normalization_131 (BatchN (None, 187, 128)     512         add_33[0][0]                     \n",
      "__________________________________________________________________________________________________\n",
      "tf.nn.silu_67 (TFOpLambda)      (None, 187, 128)     0           batch_normalization_131[0][0]    \n",
      "__________________________________________________________________________________________________\n",
      "conv1d_81 (Conv1D)              (None, 94, 128)      49280       tf.nn.silu_67[0][0]              \n",
      "__________________________________________________________________________________________________\n",
      "batch_normalization_132 (BatchN (None, 94, 128)      512         conv1d_81[0][0]                  \n",
      "__________________________________________________________________________________________________\n",
      "tf.nn.silu_68 (TFOpLambda)      (None, 94, 128)      0           batch_normalization_132[0][0]    \n",
      "__________________________________________________________________________________________________\n",
      "conv1d_83 (Conv1D)              (None, 94, 128)      16512       tf.nn.silu_67[0][0]              \n",
      "__________________________________________________________________________________________________\n",
      "conv1d_82 (Conv1D)              (None, 94, 128)      49280       tf.nn.silu_68[0][0]              \n",
      "__________________________________________________________________________________________________\n",
      "batch_normalization_134 (BatchN (None, 94, 128)      512         conv1d_83[0][0]                  \n",
      "__________________________________________________________________________________________________\n",
      "batch_normalization_133 (BatchN (None, 94, 128)      512         conv1d_82[0][0]                  \n",
      "__________________________________________________________________________________________________\n",
      "add_34 (Add)                    (None, 94, 128)      0           batch_normalization_134[0][0]    \n",
      "                                                                 batch_normalization_133[0][0]    \n",
      "__________________________________________________________________________________________________\n",
      "batch_normalization_135 (BatchN (None, 94, 128)      512         add_34[0][0]                     \n",
      "__________________________________________________________________________________________________\n",
      "tf.nn.silu_69 (TFOpLambda)      (None, 94, 128)      0           batch_normalization_135[0][0]    \n",
      "__________________________________________________________________________________________________\n",
      "conv1d_84 (Conv1D)              (None, 94, 128)      49280       tf.nn.silu_69[0][0]              \n",
      "__________________________________________________________________________________________________\n",
      "batch_normalization_136 (BatchN (None, 94, 128)      512         conv1d_84[0][0]                  \n",
      "__________________________________________________________________________________________________\n",
      "tf.nn.silu_70 (TFOpLambda)      (None, 94, 128)      0           batch_normalization_136[0][0]    \n",
      "__________________________________________________________________________________________________\n",
      "conv1d_85 (Conv1D)              (None, 94, 128)      49280       tf.nn.silu_70[0][0]              \n",
      "__________________________________________________________________________________________________\n",
      "batch_normalization_137 (BatchN (None, 94, 128)      512         conv1d_85[0][0]                  \n",
      "__________________________________________________________________________________________________\n",
      "add_35 (Add)                    (None, 94, 128)      0           tf.nn.silu_69[0][0]              \n",
      "                                                                 batch_normalization_137[0][0]    \n",
      "__________________________________________________________________________________________________\n",
      "batch_normalization_138 (BatchN (None, 94, 128)      512         add_35[0][0]                     \n",
      "__________________________________________________________________________________________________\n",
      "tf.nn.silu_71 (TFOpLambda)      (None, 94, 128)      0           batch_normalization_138[0][0]    \n",
      "__________________________________________________________________________________________________\n",
      "conv1d_86 (Conv1D)              (None, 94, 128)      49280       tf.nn.silu_71[0][0]              \n",
      "__________________________________________________________________________________________________\n",
      "batch_normalization_139 (BatchN (None, 94, 128)      512         conv1d_86[0][0]                  \n",
      "__________________________________________________________________________________________________\n",
      "tf.nn.silu_72 (TFOpLambda)      (None, 94, 128)      0           batch_normalization_139[0][0]    \n",
      "__________________________________________________________________________________________________\n",
      "conv1d_87 (Conv1D)              (None, 94, 128)      49280       tf.nn.silu_72[0][0]              \n",
      "__________________________________________________________________________________________________\n",
      "batch_normalization_140 (BatchN (None, 94, 128)      512         conv1d_87[0][0]                  \n",
      "__________________________________________________________________________________________________\n",
      "add_36 (Add)                    (None, 94, 128)      0           tf.nn.silu_71[0][0]              \n",
      "                                                                 batch_normalization_140[0][0]    \n",
      "__________________________________________________________________________________________________\n",
      "batch_normalization_141 (BatchN (None, 94, 128)      512         add_36[0][0]                     \n",
      "__________________________________________________________________________________________________\n",
      "tf.nn.silu_73 (TFOpLambda)      (None, 94, 128)      0           batch_normalization_141[0][0]    \n",
      "__________________________________________________________________________________________________\n",
      "conv1d_88 (Conv1D)              (None, 94, 128)      49280       tf.nn.silu_73[0][0]              \n",
      "__________________________________________________________________________________________________\n",
      "batch_normalization_142 (BatchN (None, 94, 128)      512         conv1d_88[0][0]                  \n",
      "__________________________________________________________________________________________________\n",
      "tf.nn.silu_74 (TFOpLambda)      (None, 94, 128)      0           batch_normalization_142[0][0]    \n",
      "__________________________________________________________________________________________________\n",
      "conv1d_89 (Conv1D)              (None, 94, 128)      49280       tf.nn.silu_74[0][0]              \n",
      "__________________________________________________________________________________________________\n",
      "batch_normalization_143 (BatchN (None, 94, 128)      512         conv1d_89[0][0]                  \n",
      "__________________________________________________________________________________________________\n",
      "add_37 (Add)                    (None, 94, 128)      0           tf.nn.silu_73[0][0]              \n",
      "                                                                 batch_normalization_143[0][0]    \n",
      "__________________________________________________________________________________________________\n",
      "batch_normalization_144 (BatchN (None, 94, 128)      512         add_37[0][0]                     \n",
      "__________________________________________________________________________________________________\n",
      "tf.nn.silu_75 (TFOpLambda)      (None, 94, 128)      0           batch_normalization_144[0][0]    \n",
      "__________________________________________________________________________________________________\n",
      "conv1d_90 (Conv1D)              (None, 47, 256)      98560       tf.nn.silu_75[0][0]              \n",
      "__________________________________________________________________________________________________\n",
      "batch_normalization_145 (BatchN (None, 47, 256)      1024        conv1d_90[0][0]                  \n",
      "__________________________________________________________________________________________________\n",
      "tf.nn.silu_76 (TFOpLambda)      (None, 47, 256)      0           batch_normalization_145[0][0]    \n",
      "__________________________________________________________________________________________________\n",
      "conv1d_92 (Conv1D)              (None, 47, 256)      33024       tf.nn.silu_75[0][0]              \n",
      "__________________________________________________________________________________________________\n",
      "conv1d_91 (Conv1D)              (None, 47, 256)      196864      tf.nn.silu_76[0][0]              \n",
      "__________________________________________________________________________________________________\n",
      "batch_normalization_147 (BatchN (None, 47, 256)      1024        conv1d_92[0][0]                  \n",
      "__________________________________________________________________________________________________\n",
      "batch_normalization_146 (BatchN (None, 47, 256)      1024        conv1d_91[0][0]                  \n",
      "__________________________________________________________________________________________________\n",
      "add_38 (Add)                    (None, 47, 256)      0           batch_normalization_147[0][0]    \n",
      "                                                                 batch_normalization_146[0][0]    \n",
      "__________________________________________________________________________________________________\n",
      "batch_normalization_148 (BatchN (None, 47, 256)      1024        add_38[0][0]                     \n",
      "__________________________________________________________________________________________________\n",
      "tf.nn.silu_77 (TFOpLambda)      (None, 47, 256)      0           batch_normalization_148[0][0]    \n",
      "__________________________________________________________________________________________________\n",
      "conv1d_93 (Conv1D)              (None, 47, 256)      196864      tf.nn.silu_77[0][0]              \n",
      "__________________________________________________________________________________________________\n",
      "batch_normalization_149 (BatchN (None, 47, 256)      1024        conv1d_93[0][0]                  \n",
      "__________________________________________________________________________________________________\n",
      "tf.nn.silu_78 (TFOpLambda)      (None, 47, 256)      0           batch_normalization_149[0][0]    \n",
      "__________________________________________________________________________________________________\n",
      "conv1d_94 (Conv1D)              (None, 47, 256)      196864      tf.nn.silu_78[0][0]              \n",
      "__________________________________________________________________________________________________\n",
      "batch_normalization_150 (BatchN (None, 47, 256)      1024        conv1d_94[0][0]                  \n",
      "__________________________________________________________________________________________________\n",
      "add_39 (Add)                    (None, 47, 256)      0           tf.nn.silu_77[0][0]              \n",
      "                                                                 batch_normalization_150[0][0]    \n",
      "__________________________________________________________________________________________________\n",
      "batch_normalization_151 (BatchN (None, 47, 256)      1024        add_39[0][0]                     \n",
      "__________________________________________________________________________________________________\n",
      "tf.nn.silu_79 (TFOpLambda)      (None, 47, 256)      0           batch_normalization_151[0][0]    \n",
      "__________________________________________________________________________________________________\n",
      "global_max_pooling1d_4 (GlobalM (None, 256)          0           tf.nn.silu_79[0][0]              \n",
      "__________________________________________________________________________________________________\n",
      "final_dropout (Dropout)         (None, 256)          0           global_max_pooling1d_4[0][0]     \n",
      "__________________________________________________________________________________________________\n",
      "batch_normalization_152 (BatchN (None, 256)          1024        final_dropout[0][0]              \n",
      "__________________________________________________________________________________________________\n",
      "dense_1 (Dense)                 (None, 256)          65792       batch_normalization_152[0][0]    \n",
      "__________________________________________________________________________________________________\n",
      "batch_normalization_153 (BatchN (None, 256)          1024        dense_1[0][0]                    \n",
      "__________________________________________________________________________________________________\n",
      "dense_2 (Dense)                 (None, 256)          65792       batch_normalization_153[0][0]    \n",
      "__________________________________________________________________________________________________\n",
      "dense_final_ptbdb (Dense)       (None, 2)            514         dense_2[0][0]                    \n",
      "==================================================================================================\n",
      "Total params: 1,613,446\n",
      "Trainable params: 1,603,716\n",
      "Non-trainable params: 9,730\n",
      "__________________________________________________________________________________________________\n"
     ]
    }
   ],
   "source": [
    "fine_tuned_model = modify_model(pretrained_model, config_pt_whole)"
   ],
   "metadata": {
    "collapsed": false,
    "pycharm": {
     "name": "#%%\n"
    }
   }
  },
  {
   "cell_type": "markdown",
   "source": [
    "#### Train model"
   ],
   "metadata": {
    "collapsed": false
   }
  },
  {
   "cell_type": "code",
   "execution_count": 43,
   "outputs": [
    {
     "data": {
      "text/plain": "0epoch [00:00, ?epoch/s]",
      "application/vnd.jupyter.widget-view+json": {
       "version_major": 2,
       "version_minor": 0,
       "model_id": "1fd5c644767347559cc879f65edc13af"
      }
     },
     "metadata": {},
     "output_type": "display_data"
    },
    {
     "data": {
      "text/plain": "0batch [00:00, ?batch/s]",
      "application/vnd.jupyter.widget-view+json": {
       "version_major": 2,
       "version_minor": 0,
       "model_id": "24810ee78e8748e38f0c872c9c930487"
      }
     },
     "metadata": {},
     "output_type": "display_data"
    },
    {
     "name": "stdout",
     "output_type": "stream",
     "text": [
      "WARNING:tensorflow:Callback method `on_train_batch_end` is slow compared to the batch time (batch time: 0.0294s vs `on_train_batch_end` time: 0.0380s). Check your callbacks.\n",
      "\n",
      "Epoch 00001: val_acc improved from -inf to 0.96223, saving model to ./models/res/res_cnn_pt_whole.h5\n",
      "\n",
      "Epoch 00002: val_acc improved from 0.96223 to 0.98283, saving model to ./models/res/res_cnn_pt_whole.h5\n",
      "\n",
      "Epoch 00003: val_acc improved from 0.98283 to 0.98884, saving model to ./models/res/res_cnn_pt_whole.h5\n",
      "\n",
      "Epoch 00004: val_acc improved from 0.98884 to 0.99142, saving model to ./models/res/res_cnn_pt_whole.h5\n",
      "\n",
      "Epoch 00005: val_acc improved from 0.99142 to 0.99399, saving model to ./models/res/res_cnn_pt_whole.h5\n",
      "\n",
      "Epoch 00006: val_acc improved from 0.99399 to 0.99657, saving model to ./models/res/res_cnn_pt_whole.h5\n",
      "\n",
      "Epoch 00007: val_acc did not improve from 0.99657\n",
      "\n",
      "Epoch 00008: val_acc improved from 0.99657 to 0.99742, saving model to ./models/res/res_cnn_pt_whole.h5\n",
      "\n",
      "Epoch 00009: val_acc did not improve from 0.99742\n",
      "\n",
      "Epoch 00010: val_acc did not improve from 0.99742\n",
      "\n",
      "Epoch 00011: val_acc did not improve from 0.99742\n",
      "\n",
      "Epoch 00011: ReduceLROnPlateau reducing learning rate to 0.00010000000474974513.\n",
      "\n",
      "Epoch 00012: val_acc did not improve from 0.99742\n",
      "\n",
      "Epoch 00013: val_acc did not improve from 0.99742\n",
      "Epoch 00013: early stopping\n"
     ]
    },
    {
     "data": {
      "text/plain": "<tensorflow.python.keras.callbacks.History at 0x7fa26a506a50>"
     },
     "execution_count": 43,
     "metadata": {},
     "output_type": "execute_result"
    }
   ],
   "source": [
    "fine_tuned_model.fit(\n",
    "    X_train_pt, y_train_pt,\n",
    "    epochs=config_pt_whole.epochs,\n",
    "    batch_size=config_pt_whole.batch_size,\n",
    "    verbose=0,\n",
    "    callbacks=[\n",
    "        checkpoint, early, redonplat,\n",
    "        WandbCallback(), TqdmCallback(verbose=1)],\n",
    "    validation_split=0.1)"
   ],
   "metadata": {
    "collapsed": false,
    "pycharm": {
     "name": "#%%\n"
    }
   }
  },
  {
   "cell_type": "code",
   "source": [
    "fine_tuned_model.load_weights(file_path_pt_whole)"
   ],
   "metadata": {
    "collapsed": false,
    "pycharm": {
     "name": "#%%\n"
    }
   },
   "execution_count": 48,
   "outputs": []
  },
  {
   "cell_type": "markdown",
   "source": [
    "### Evaluation"
   ],
   "metadata": {
    "collapsed": false,
    "pycharm": {
     "name": "#%% md\n"
    }
   }
  },
  {
   "cell_type": "code",
   "execution_count": 49,
   "outputs": [],
   "source": [
    "raw_preds = original_model.predict(X_test_pt, batch_size=512)\n",
    "test_preds_pt = np.argmax(raw_preds, axis=1)\n",
    "\n",
    "r = compute_metrics(y_test_pt, test_preds_pt)\n",
    "\n",
    "f1_weighted = r['f1-weighted']\n",
    "f1_macro = r['f1-macro']\n",
    "acc = r['accuracy']\n",
    "b_acc = r['balanced_accuracy']\n",
    "\n",
    "wandb.log({'Test Accuracy': acc})\n",
    "wandb.log({'Test F1 Weighted': f1_weighted})\n",
    "wandb.log({'Test F1 Macro': f1_macro})\n",
    "wandb.log({'Test Balanced Accuracy': b_acc})"
   ],
   "metadata": {
    "collapsed": false,
    "pycharm": {
     "name": "#%%\n"
    }
   }
  },
  {
   "cell_type": "code",
   "execution_count": 50,
   "outputs": [
    {
     "name": "stdout",
     "output_type": "stream",
     "text": [
      "f1 score micro:           0.99141\n",
      "f1 score macro:           0.98924\n",
      "f1 score weighted:        0.99139\n",
      "accuracy score:           0.99141\n",
      "balanced accuracy score:  0.98645\n",
      "AuPR score:               0.99949\n",
      "AuROC score:              0.99869\n"
     ]
    },
    {
     "data": {
      "text/plain": "<Figure size 432x288 with 2 Axes>",
      "image/png": "[encoded data removed]"
     },
     "metadata": {
      "needs_background": "light"
     },
     "output_type": "display_data"
    }
   ],
   "source": [
    "display_result(y_test_pt, test_preds_pt, True, raw_preds[:, 1])"
   ],
   "metadata": {
    "collapsed": false,
    "pycharm": {
     "name": "#%%\n"
    }
   }
  },
  {
   "cell_type": "code",
   "source": [
    "run.join()"
   ],
   "metadata": {
    "collapsed": false,
    "pycharm": {
     "name": "#%%\n"
    }
   },
   "execution_count": 46,
   "outputs": [
    {
     "data": {
      "text/plain": "<IPython.core.display.HTML object>",
      "text/html": "<br/>Waiting for W&B process to finish, PID 19163<br/>Program ended successfully."
     },
     "metadata": {},
     "output_type": "display_data"
    },
    {
     "data": {
      "text/plain": "VBox(children=(Label(value=' 6.38MB of 6.38MB uploaded (0.00MB deduped)\\r'), FloatProgress(value=1.0, max=1.0)…",
      "application/vnd.jupyter.widget-view+json": {
       "version_major": 2,
       "version_minor": 0,
       "model_id": "dbc85dbd3398468082a84cf18f313f10"
      }
     },
     "metadata": {},
     "output_type": "display_data"
    },
    {
     "data": {
      "text/plain": "<IPython.core.display.HTML object>",
      "text/html": "Find user logs for this run at: <code>/home/anej/repos/studies/ML4HC/project4/wandb/run-20210604_200900-1wotiokp/logs/debug.log</code>"
     },
     "metadata": {},
     "output_type": "display_data"
    },
    {
     "data": {
      "text/plain": "<IPython.core.display.HTML object>",
      "text/html": "Find internal logs for this run at: <code>/home/anej/repos/studies/ML4HC/project4/wandb/run-20210604_200900-1wotiokp/logs/debug-internal.log</code>"
     },
     "metadata": {},
     "output_type": "display_data"
    },
    {
     "data": {
      "text/plain": "<IPython.core.display.HTML object>",
      "text/html": "<h3>Run summary:</h3><br/><style>\n    table.wandb td:nth-child(1) { padding: 0 10px; text-align: right }\n    </style><table class=\"wandb\">\n<tr><td>epoch</td><td>12</td></tr><tr><td>loss</td><td>0.00239</td></tr><tr><td>acc</td><td>0.99924</td></tr><tr><td>val_loss</td><td>0.00417</td></tr><tr><td>val_acc</td><td>0.99742</td></tr><tr><td>lr</td><td>0.0001</td></tr><tr><td>_runtime</td><td>327</td></tr><tr><td>_timestamp</td><td>1622830467</td></tr><tr><td>_step</td><td>16</td></tr><tr><td>best_val_loss</td><td>0.00417</td></tr><tr><td>best_epoch</td><td>12</td></tr><tr><td>Test Accuracy</td><td>0.99656</td></tr><tr><td>Test F1 Weighted</td><td>0.99656</td></tr><tr><td>Test F1 Macro</td><td>0.99572</td></tr><tr><td>Test Balanced Accuracy</td><td>0.99572</td></tr></table>"
     },
     "metadata": {},
     "output_type": "display_data"
    },
    {
     "data": {
      "text/plain": "<IPython.core.display.HTML object>",
      "text/html": "<h3>Run history:</h3><br/><style>\n    table.wandb td:nth-child(1) { padding: 0 10px; text-align: right }\n    </style><table class=\"wandb\">\n<tr><td>epoch</td><td>▁▂▂▃▃▄▅▅▆▆▇▇█</td></tr><tr><td>loss</td><td>█▃▂▂▂▂▂▂▂▁▁▁▁</td></tr><tr><td>acc</td><td>▁▆▇▇▇▇▇█▇████</td></tr><tr><td>val_loss</td><td>█▅▃▃▃▂▂▂▃▂▁▁▁</td></tr><tr><td>val_acc</td><td>▁▅▆▇▇█▇█▇████</td></tr><tr><td>lr</td><td>███████████▁▁</td></tr><tr><td>_runtime</td><td>▁▂▂▃▃▄▄▅▅▆▆▇█████</td></tr><tr><td>_timestamp</td><td>▁▂▂▃▃▄▄▅▅▆▆▇█████</td></tr><tr><td>_step</td><td>▁▁▂▂▃▃▄▄▅▅▅▆▆▇▇██</td></tr><tr><td>Test Accuracy</td><td>▁</td></tr><tr><td>Test F1 Weighted</td><td>▁</td></tr><tr><td>Test F1 Macro</td><td>▁</td></tr><tr><td>Test Balanced Accuracy</td><td>▁</td></tr></table><br/>"
     },
     "metadata": {},
     "output_type": "display_data"
    },
    {
     "data": {
      "text/plain": "<IPython.core.display.HTML object>",
      "text/html": "Synced 5 W&B file(s), 1 media file(s), 0 artifact file(s) and 1 other file(s)"
     },
     "metadata": {},
     "output_type": "display_data"
    },
    {
     "data": {
      "text/plain": "<IPython.core.display.HTML object>",
      "text/html": "\n                    <br/>Synced <strong style=\"color:#cdcd00\">flowing-morning-104</strong>: <a href=\"https://wandb.ai/anej/ML4HC-project4/runs/1wotiokp\" target=\"_blank\">https://wandb.ai/anej/ML4HC-project4/runs/1wotiokp</a><br/>\n                "
     },
     "metadata": {},
     "output_type": "display_data"
    }
   ]
  },
  {
   "cell_type": "markdown",
   "source": [
    "### Predictions"
   ],
   "metadata": {
    "collapsed": false,
    "pycharm": {
     "name": "#%% md\n"
    }
   }
  },
  {
   "cell_type": "code",
   "execution_count": 51,
   "outputs": [],
   "source": [
    "save_predictions(fine_tuned_model, X_test_pt, 'res_cnn', 'test_ptb_whole')\n",
    "save_predictions(fine_tuned_model, X_train_pt, 'res_cnn', 'train_ptb_whole')"
   ],
   "metadata": {
    "collapsed": false,
    "pycharm": {
     "name": "#%%\n"
    }
   }
  }
 ],
 "metadata": {
  "kernelspec": {
   "display_name": "Python 3",
   "language": "python",
   "name": "python3"
  },
  "language_info": {
   "codemirror_mode": {
    "name": "ipython",
    "version": 3
   },
   "file_extension": ".py",
   "mimetype": "text/x-python",
   "name": "python",
   "nbconvert_exporter": "python",
   "pygments_lexer": "ipython3",
   "version": "3.8.5"
  }
 },
 "nbformat": 4,
 "nbformat_minor": 4
}