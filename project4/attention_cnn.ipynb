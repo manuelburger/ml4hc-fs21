{
 "cells": [
  {
   "cell_type": "code",
   "execution_count": 1,
   "metadata": {},
   "outputs": [],
   "source": [
    "import os\n",
    "import pandas as pd\n",
    "import numpy as np\n",
    "import matplotlib.pyplot as plt\n",
    "import h5py\n",
    "\n",
    "# Load tensorflow\n",
    "import tensorflow as tf\n",
    "import tensorflow.keras.backend as K\n",
    "from tensorflow.keras import optimizers, losses, activations, models, initializers, regularizers, constraints\n",
    "from tensorflow.keras.callbacks import ModelCheckpoint, EarlyStopping, LearningRateScheduler, ReduceLROnPlateau\n",
    "from tensorflow.keras.layers import Layer, Dense, Input, Dropout, Convolution1D, Conv1D, MaxPool1D, GlobalMaxPool1D, GlobalAveragePooling1D, \\\n",
    "    concatenate, BatchNormalization, Bidirectional, LSTM, Flatten, Permute, Concatenate, Reshape\n",
    "from tensorflow.keras.models import load_model, Model, Sequential\n",
    "\n",
    "# Load Sklearn utilities\n",
    "from sklearn.metrics import f1_score, accuracy_score, average_precision_score, roc_auc_score\n",
    "from sklearn.model_selection import train_test_split\n",
    "from sklearn.utils import class_weight\n",
    "\n",
    "# custom modules\n",
    "from utils import *\n",
    "from cf_matrix import *\n",
    "from data import get_tsfel_features\n",
    "\n",
    "\n",
    "from livelossplot import PlotLossesKeras"
   ]
  },
  {
   "cell_type": "code",
   "execution_count": 2,
   "metadata": {},
   "outputs": [],
   "source": [
    "%load_ext autoreload\n",
    "%autoreload 2"
   ]
  },
  {
   "cell_type": "code",
   "execution_count": 3,
   "metadata": {},
   "outputs": [],
   "source": [
    "os.environ[\"CUDA_VISIBLE_DEVICES\"]=\"0\""
   ]
  },
  {
   "cell_type": "code",
   "execution_count": 4,
   "metadata": {},
   "outputs": [
    {
     "name": "stdout",
     "output_type": "stream",
     "text": [
      "Num GPUs Available:  1\n"
     ]
    }
   ],
   "source": [
    "print(\"Num GPUs Available: \", len(tf.config.list_physical_devices('GPU')))"
   ]
  },
  {
   "cell_type": "markdown",
   "metadata": {},
   "source": [
    "## MITBIH Model"
   ]
  },
  {
   "cell_type": "code",
   "execution_count": 5,
   "metadata": {},
   "outputs": [],
   "source": [
    "WINDOW_SIZE = 187\n",
    "NO_CLASSES = 5\n",
    "SAMPLING_RATE = 125.0"
   ]
  },
  {
   "cell_type": "markdown",
   "metadata": {},
   "source": [
    "### Load data"
   ]
  },
  {
   "cell_type": "code",
   "execution_count": 13,
   "metadata": {},
   "outputs": [],
   "source": [
    "df_train = pd.read_csv(\"./data/mitbih_train.csv\", header=None)\n",
    "df_train = df_train.sample(frac=1, random_state=42)\n",
    "df_test = pd.read_csv(\"./data/mitbih_test.csv\", header=None)\n",
    "\n",
    "Y = np.array(df_train[187].values).astype(np.int8)\n",
    "X = np.array(df_train[list(range(187))].values)[..., np.newaxis]\n",
    "\n",
    "Y_test = np.array(df_test[187].values).astype(np.int8)\n",
    "X_test = np.array(df_test[list(range(187))].values)[..., np.newaxis]"
   ]
  },
  {
   "cell_type": "code",
   "execution_count": 14,
   "metadata": {},
   "outputs": [
    {
     "name": "stdout",
     "output_type": "stream",
     "text": [
      "Train (87554, 187, 1) (87554,)\n",
      "Test (21892, 187, 1) (21892,)\n"
     ]
    }
   ],
   "source": [
    "print(\"Train\", X.shape, Y.shape)\n",
    "print(\"Test\", X_test.shape, Y_test.shape)"
   ]
  },
  {
   "cell_type": "markdown",
   "metadata": {},
   "source": [
    "### Feature extraction\n",
    "Extract Fourier Features using the TSFEL library"
   ]
  },
  {
   "cell_type": "code",
   "execution_count": 15,
   "metadata": {},
   "outputs": [
    {
     "name": "stderr",
     "output_type": "stream",
     "text": [
      "100%|██████████| 87554/87554 [00:40<00:00, 2150.95it/s] \n",
      "100%|██████████| 21892/21892 [00:10<00:00, 2167.38it/s]\n"
     ]
    }
   ],
   "source": [
    "X_train_spectral, X_test_spectral = get_tsfel_features(\n",
    "    X, X_test,\n",
    "    domain=\"spectral\",\n",
    "    njobs=32, # adjust to available number of cores on your system\n",
    "    sampling_rate=SAMPLING_RATE\n",
    ")"
   ]
  },
  {
   "cell_type": "code",
   "execution_count": 16,
   "metadata": {},
   "outputs": [
    {
     "name": "stderr",
     "output_type": "stream",
     "text": [
      "100%|██████████| 87554/87554 [00:23<00:00, 3705.04it/s]  \n",
      "100%|██████████| 21892/21892 [00:06<00:00, 3520.34it/s]\n"
     ]
    }
   ],
   "source": [
    "X_train_temporal, X_test_temporal = get_tsfel_features(\n",
    "    X, X_test,\n",
    "    domain=\"temporal\",\n",
    "    njobs=32, # adjust to available number of cores on your system\n",
    "    sampling_rate=SAMPLING_RATE\n",
    ")"
   ]
  },
  {
   "cell_type": "code",
   "execution_count": 17,
   "metadata": {},
   "outputs": [],
   "source": [
    "X_train_features = pd.concat([X_train_spectral, X_train_temporal], axis=1)\n",
    "X_test_features = pd.concat([X_test_spectral, X_test_temporal], axis=1)"
   ]
  },
  {
   "cell_type": "code",
   "execution_count": 18,
   "metadata": {},
   "outputs": [
    {
     "data": {
      "text/plain": [
       "((87554, 192), (21892, 192))"
      ]
     },
     "execution_count": 18,
     "metadata": {},
     "output_type": "execute_result"
    }
   ],
   "source": [
    "X_train_features.shape, X_test_features.shape"
   ]
  },
  {
   "cell_type": "markdown",
   "metadata": {},
   "source": [
    "### Class weights\n",
    "Compute and visualize class weights"
   ]
  },
  {
   "cell_type": "code",
   "execution_count": 19,
   "metadata": {},
   "outputs": [],
   "source": [
    "cls_weights = class_weight.compute_class_weight('balanced', classes = np.unique(Y),  y = Y)\n",
    "cls_weight_dict = dict(enumerate(cls_weights))"
   ]
  },
  {
   "cell_type": "code",
   "execution_count": 20,
   "metadata": {},
   "outputs": [
    {
     "data": {
      "image/png": "[encoded data removed]",
      "text/plain": [
       "<Figure size 432x288 with 1 Axes>"
      ]
     },
     "metadata": {
      "needs_background": "light"
     },
     "output_type": "display_data"
    }
   ],
   "source": [
    "# plot class distribution\n",
    "colors = [\"dodgerblue\", \"gold\", \"firebrick\", \"teal\", \"orange\"]\n",
    "x = np.arange(0,5)\n",
    "h, bins = np.histogram(Y, 5)\n",
    "plt.bar(x, h, color=colors)\n",
    "plt.xlabel('Class Labels')\n",
    "plt.ylabel('Number of Instances')\n",
    "plt.xticks(x)\n",
    "plt.ylim(0, 80000)\n",
    "\n",
    "for index, value in enumerate(h):\n",
    "    plt.text(x[index]-0.2, value+1000, str(np.round(cls_weight_dict[index],1)))\n",
    "\n",
    "plt.show()"
   ]
  },
  {
   "cell_type": "markdown",
   "metadata": {},
   "source": [
    "### Class-wise distribution plots"
   ]
  },
  {
   "cell_type": "code",
   "execution_count": 22,
   "metadata": {},
   "outputs": [
    {
     "data": {
      "image/png": "[encoded data removed]",
      "text/plain": [
       "<Figure size 1440x576 with 6 Axes>"
      ]
     },
     "metadata": {
      "needs_background": "light"
     },
     "output_type": "display_data"
    }
   ],
   "source": [
    "fig, axes = plt.subplots(nrows=2, ncols=3, sharey=True, figsize=(20,8))\n",
    "\n",
    "for cid, ax in enumerate(axes.flatten()[:5]):\n",
    "    hb_plot(ax, X[Y==cid].squeeze())\n",
    "    ax.set_title(\"Class {}\".format(cid))"
   ]
  },
  {
   "cell_type": "markdown",
   "metadata": {},
   "source": [
    "## CNN with Attention Heads"
   ]
  },
  {
   "cell_type": "markdown",
   "metadata": {},
   "source": [
    "#### Custom Attention Layer\n",
    "Learns a projection and a context vector to pay attention to different parts of the input e.g. pay attention to different filters\n",
    "\n",
    "Based on this implementation: (https://gist.github.com/cbaziotis/7ef97ccf71cbc14366835198c09809d2) and adapted to support multiple contexts"
   ]
  },
  {
   "cell_type": "code",
   "execution_count": 23,
   "metadata": {},
   "outputs": [],
   "source": [
    "# Attention with learned Context vector (https://gist.github.com/cbaziotis/7ef97ccf71cbc14366835198c09809d2)\n",
    "# Adapted to use multiple contexts vectors u \n",
    "# Added support for different keys for different context vectors\n",
    "\n",
    "def dot_product(x, kernel):\n",
    "    \"\"\"\n",
    "    Wrapper for dot product operation, in order to be compatible with both\n",
    "    Theano and Tensorflow\n",
    "    Args:\n",
    "        x (): input\n",
    "        kernel (): weights\n",
    "    Returns:\n",
    "    \"\"\"\n",
    "    if K.backend() == 'tensorflow':\n",
    "        return K.squeeze(K.dot(x, K.expand_dims(kernel)), axis=-1)\n",
    "    else:\n",
    "        return K.dot(x, kernel)\n",
    "    \n",
    "\n",
    "class AttentionWithContext(Layer):\n",
    "    \"\"\"\n",
    "    Attention operation, with a context/query vector, for temporal data.\n",
    "    Supports Masking.\n",
    "    Follows the work of Yang et al. [https://www.cs.cmu.edu/~diyiy/docs/naacl16.pdf]\n",
    "    \"Hierarchical Attention Networks for Document Classification\"\n",
    "    by using a context vector to assist the attention\n",
    "    # Input shape\n",
    "        3D tensor with shape: `(samples, steps, features)`.\n",
    "    # Output shape\n",
    "        2D tensor with shape: `(samples, features)`.\n",
    "    How to use:\n",
    "    Just put it on top of an RNN Layer (GRU/LSTM/SimpleRNN) with return_sequences=True.\n",
    "    The dimensions are inferred based on the output shape of the RNN.\n",
    "    Note: The layer has been tested with Keras 2.0.6\n",
    "    Example:\n",
    "        model.add(LSTM(64, return_sequences=True))\n",
    "        model.add(AttentionWithContext())\n",
    "        # next add a Dense layer (for classification/regression) or whatever...\n",
    "    \"\"\"\n",
    "\n",
    "    def __init__(self,\n",
    "                 W_regularizer=None, u_regularizer=None, b_regularizer=None,\n",
    "                 W_constraint=None, u_constraint=None, b_constraint=None,\n",
    "                 bias=True, no_contexts=1, multiple_projections=False, verbose=False, **kwargs):\n",
    "\n",
    "        self.supports_masking = True\n",
    "        self.init = initializers.get('glorot_uniform')\n",
    "\n",
    "        self.W_regularizer = regularizers.get(W_regularizer)\n",
    "        self.u_regularizer = regularizers.get(u_regularizer)\n",
    "        self.b_regularizer = regularizers.get(b_regularizer)\n",
    "\n",
    "        self.W_constraint = constraints.get(W_constraint)\n",
    "        self.u_constraint = constraints.get(u_constraint)\n",
    "        self.b_constraint = constraints.get(b_constraint)\n",
    "\n",
    "        self.bias = bias\n",
    "        \n",
    "        self.no_contexts = no_contexts\n",
    "        self.verbose = verbose\n",
    "        self.multiple_projections = multiple_projections if no_contexts != 1 else False\n",
    "        \n",
    "        super(AttentionWithContext, self).__init__(**kwargs)\n",
    "\n",
    "    def build(self, input_shape):\n",
    "        assert len(input_shape) == 3\n",
    "\n",
    "        if self.multiple_projections:\n",
    "            w_shape = (self.no_contexts, input_shape[-1], input_shape[-1])\n",
    "            b_shape = (self.no_contexts, input_shape[-1])\n",
    "        else:\n",
    "            w_shape = (input_shape[-1], input_shape[-1],)\n",
    "            b_shape = (input_shape[-1],)\n",
    "            \n",
    "        self.W = self.add_weight(shape=w_shape,\n",
    "                                 initializer=self.init,\n",
    "                                 name='{}_W'.format(self.name),\n",
    "                                 regularizer=self.W_regularizer,\n",
    "                                 constraint=self.W_constraint)\n",
    "        if self.bias:\n",
    "            self.b = self.add_weight(shape=b_shape,\n",
    "                                     initializer='zero',\n",
    "                                     name='{}_b'.format(self.name),\n",
    "                                     regularizer=self.b_regularizer,\n",
    "                                   constraint=self.b_constraint)\n",
    "            \n",
    "        u_shape = (input_shape[-1],) if self.no_contexts == 1 else (input_shape[-1], self.no_contexts)\n",
    "        self.u = self.add_weight(shape=u_shape,\n",
    "                                 initializer=self.init,\n",
    "                                 name='{}_u'.format(self.name),\n",
    "                                 regularizer=self.u_regularizer,\n",
    "                                 constraint=self.u_constraint)\n",
    "\n",
    "        super(AttentionWithContext, self).build(input_shape)\n",
    "\n",
    "    def compute_mask(self, input, input_mask=None):\n",
    "        # do not pass the mask to the next layers\n",
    "        return None\n",
    "    \n",
    "    # TODO: implement reasonably\n",
    "    def get_config(self):\n",
    "        return {}\n",
    "\n",
    "    def call(self, x, mask=None):\n",
    "        \n",
    "        if self.verbose: print(\"X\", x.shape)\n",
    "        if self.verbose: print(\"W\", self.W.shape)\n",
    "        \n",
    "        if self.multiple_projections:\n",
    "            uit = tf.map_fn(fn=lambda t: dot_product(x, t), elems=self.W)\n",
    "            if self.verbose: print(\"uit\", uit.shape)\n",
    "            if self.bias:\n",
    "                if self.verbose: print(\"b\", self.b.shape)\n",
    "                uit = tf.map_fn(\n",
    "                    fn=lambda t: t[0] + t[1], elems=(uit, self.b),\n",
    "                    fn_output_signature=tf.float32)\n",
    "                    \n",
    "        else:\n",
    "            uit = dot_product(x, self.W)\n",
    "            if self.bias:\n",
    "                uit += self.b\n",
    "\n",
    "        \n",
    "\n",
    "        uit = K.tanh(uit)\n",
    "        \n",
    "        if self.verbose: print(\"uit shape\", uit.shape)\n",
    "        if self.verbose: print(\"u shape\", self.u.shape)\n",
    "        \n",
    "#         ait = K.dot(uit, self.u)\n",
    "        if self.no_contexts == 1:\n",
    "            ait = dot_product(uit, self.u) # for TF\n",
    "        else:\n",
    "            if self.multiple_projections:\n",
    "                u_trans = tf.transpose(self.u)\n",
    "                if self.verbose: print(\"u trans shape\", u_trans.shape)\n",
    "                \n",
    "                @tf.autograph.experimental.do_not_convert\n",
    "                def tuple_dot(x, y):\n",
    "                    return dot_product(x, y)\n",
    "                \n",
    "                ait = tf.map_fn(\n",
    "                    fn=lambda t: tuple_dot(t[0], t[1]),\n",
    "                    elems=(uit, u_trans),\n",
    "                    fn_output_signature=tf.float32\n",
    "                )\n",
    "                \n",
    "                ait = tf.transpose(ait, perm=(1, 2, 0))\n",
    "                \n",
    "                if self.verbose: print(\"ait\", ait.shape)\n",
    "            else:\n",
    "                ait = dot_product(uit, K.transpose(self.u)) # for TF\n",
    "\n",
    "        a = K.exp(ait) # (Batch, #filters)\n",
    "        \n",
    "        \n",
    "        if self.verbose: print(\"Softmax weights shape:\", a.shape)\n",
    "\n",
    "        # apply mask after the exp. will be re-normalized next\n",
    "        if mask is not None:\n",
    "            # Cast the mask to floatX to avoid float64 upcasting in theano\n",
    "            a *= K.cast(mask, K.floatx())\n",
    "\n",
    "        # in some cases especially in the early stages of training the sum may be almost zero\n",
    "        # and this results in NaN's. A workaround is to add a very small positive number ε to the sum.\n",
    "        # a /= K.cast(K.sum(a, axis=1, keepdims=True), K.floatx())\n",
    "        a /= K.cast(K.sum(a, axis=1, keepdims=True) + K.epsilon(), K.floatx())\n",
    "        \n",
    "        if self.verbose: print(\"Normalized a\", a.shape)\n",
    "\n",
    "        if self.no_contexts == 1:\n",
    "            a = K.expand_dims(a)\n",
    "        \n",
    "#         print(\"Expanded a\", a.shape)\n",
    "        \n",
    "        def multiple_context_weighting(a):\n",
    "            a = K.expand_dims(a)\n",
    "            return x * a\n",
    "        \n",
    "        if self.no_contexts == 1:\n",
    "            weighted_input = x * a\n",
    "        else:\n",
    "            a_trans = tf.transpose(a, perm=(2,0,1))\n",
    "            if self.verbose: print(\"a trans\", a_trans.shape)\n",
    "            weighted_input = tf.map_fn(fn=multiple_context_weighting, elems=a_trans)   \n",
    "            weighted_input = tf.transpose(weighted_input, perm=(1,2,3,0))\n",
    "        \n",
    "        if self.verbose: print(\"Weighted input\", weighted_input.shape)\n",
    "        \n",
    "        res = K.sum(weighted_input, axis=1)\n",
    "        \n",
    "#         print(\"res\", res.shape)\n",
    "        \n",
    "        return res\n",
    "\n",
    "    def compute_output_shape(self, input_shape):\n",
    "        return input_shape[0], input_shape[-1]"
   ]
  },
  {
   "cell_type": "markdown",
   "metadata": {},
   "source": [
    "### Custom CNN architecture\n",
    "Based on the baseline CNN with additional dense connections to the extracted fourier features and attention layers to pay attention to different filters and the extracted features"
   ]
  },
  {
   "cell_type": "code",
   "execution_count": 32,
   "metadata": {},
   "outputs": [],
   "source": [
    "def get_model(no_features=0):\n",
    "    \n",
    "    nclass = NO_CLASSES\n",
    "    inp = Input(shape=(187, 1))\n",
    "    \n",
    "    # --------------------------------\n",
    "    # CNN\n",
    "    # --------------------------------\n",
    "    img_1 = Convolution1D(16, kernel_size=5, activation=activations.relu, padding=\"valid\")(inp)\n",
    "    img_1 = Convolution1D(16, kernel_size=5, activation=activations.relu, padding=\"valid\")(img_1)\n",
    "    img_1 = MaxPool1D(pool_size=2)(img_1)\n",
    "    img_1 = Dropout(rate=0.2)(img_1)\n",
    "    img_1 = BatchNormalization()(img_1)\n",
    "    \n",
    "    img_1 = Convolution1D(32, kernel_size=3, activation=activations.relu, padding=\"valid\")(img_1)\n",
    "    img_1 = Convolution1D(32, kernel_size=3, activation=activations.relu, padding=\"valid\")(img_1)\n",
    "    img_1 = MaxPool1D(pool_size=2)(img_1)\n",
    "    img_1 = Dropout(rate=0.2)(img_1)\n",
    "    img_1 = BatchNormalization()(img_1)\n",
    "    \n",
    "    img_1 = Convolution1D(64, kernel_size=3, activation=activations.relu, padding=\"valid\")(img_1)\n",
    "    img_1 = Convolution1D(64, kernel_size=3, activation=activations.relu, padding=\"valid\")(img_1)\n",
    "    img_1 = MaxPool1D(pool_size=2)(img_1)\n",
    "    img_1 = Dropout(rate=0.2)(img_1)\n",
    "    img_1 = BatchNormalization()(img_1)\n",
    "    \n",
    "    img_1 = Convolution1D(256, kernel_size=3, activation=activations.relu, padding=\"valid\")(img_1)\n",
    "    img_1 = Convolution1D(256, kernel_size=3, activation=activations.relu, padding=\"valid\")(img_1)\n",
    "    \n",
    "    \n",
    "    # Original Head\n",
    "#     img_1 = GlobalMaxPool1D()(img_1)\n",
    "#     img_1 = Dropout(rate=0.2)(img_1)\n",
    "#     dense_1 = Dense(64, activation=activations.relu, name=\"dense_1\")(img_1)\n",
    "    \n",
    "    # --------------------------------\n",
    "    # Attention\n",
    "    # --------------------------------\n",
    "    perm_1 = Permute((2, 1))(img_1)\n",
    "    att_1 = AttentionWithContext(\n",
    "        name=\"filter_attention\",\n",
    "        no_contexts=NO_CLASSES * 2,\n",
    "        multiple_projections=True,\n",
    "        verbose=False,\n",
    "    )(perm_1)\n",
    "    flatt_1 = Flatten()(att_1)\n",
    "    drop_1 = Dropout(rate=0.2)(flatt_1)\n",
    "    dense_1 = Dense(64, activation=activations.relu, name=\"dense_1\")(drop_1)\n",
    "    \n",
    "    \n",
    "    # --------------------------------\n",
    "    # Extracted Features\n",
    "    # --------------------------------\n",
    "    inp_features = Input(shape=(no_features,))\n",
    "    dense_f_1 = Dense(128, activation=activations.relu, name=\"dense_f_1\")(inp_features)\n",
    "    drop_f_2 = Dropout(rate=0.2)(dense_f_1)\n",
    "    dense_f_3 = Dense(64, activation=activations.relu, name=\"dense_f_2\")(drop_f_2)\n",
    "    \n",
    "    # --------------------------------\n",
    "    # Concat CNN and tabular\n",
    "    # --------------------------------\n",
    "    dense_1 = Concatenate()([dense_1, dense_f_3])\n",
    "    resh_1 = Reshape((2, 64))(dense_1)\n",
    "    att_2 = AttentionWithContext(\n",
    "        name=\"concat_attention\",\n",
    "        verbose=False,\n",
    "    )(resh_1)\n",
    "    \n",
    "    \n",
    "    # --------------------------------\n",
    "    # Dense Head\n",
    "    # --------------------------------\n",
    "    dense_1 = Dense(64, activation=activations.relu, name=\"dense_2\")(att_2)\n",
    "    dense_1 = Dense(nclass, activation=activations.softmax, name=\"dense_3_mitbih\")(dense_1)\n",
    "\n",
    "    model = models.Model(inputs=(inp, inp_features), outputs=dense_1)\n",
    "    \n",
    "    return model"
   ]
  },
  {
   "cell_type": "code",
   "execution_count": 33,
   "metadata": {},
   "outputs": [],
   "source": [
    "# Get model\n",
    "model = get_model(X_train_features.shape[1])"
   ]
  },
  {
   "cell_type": "markdown",
   "metadata": {},
   "source": [
    "##### Compile Model"
   ]
  },
  {
   "cell_type": "code",
   "execution_count": 34,
   "metadata": {},
   "outputs": [],
   "source": [
    "# Compile model\n",
    "opt = optimizers.Adam(0.001)\n",
    "model.compile(optimizer=opt, loss=losses.sparse_categorical_crossentropy, metrics=['acc'])\n",
    "# model.summary()\n",
    "# tf.keras.utils.plot_model(model, show_shapes=True)"
   ]
  },
  {
   "cell_type": "markdown",
   "metadata": {},
   "source": [
    "##### Fit model"
   ]
  },
  {
   "cell_type": "code",
   "execution_count": 35,
   "metadata": {},
   "outputs": [],
   "source": [
    "# Parameter for ReduceLROnPlateau callback\n",
    "min_lr           = 0.00005 # 0.00005\n",
    "reduce_lr_factor = 0.5     # 0.8\n",
    "patience         = 5\n",
    "cooldown         = 5 \n",
    "\n",
    "\n",
    "weight_file_path = \"./models/attention_cnn_mitbih.h5\"\n",
    "checkpoint = ModelCheckpoint(weight_file_path, monitor='val_acc', verbose=1, save_best_only=True, mode='max')\n",
    "early = EarlyStopping(monitor=\"val_acc\", mode=\"max\", patience=8, verbose=1)\n",
    "redonplat = ReduceLROnPlateau(monitor=\"val_acc\", mode=\"max\", factor=reduce_lr_factor, patience=patience, cooldown=cooldown, min_lr=min_lr, verbose=2)\n",
    "\n",
    "callbacks_list = [checkpoint, early, redonplat] # , PlotLossesKeras()]"
   ]
  },
  {
   "cell_type": "code",
   "execution_count": 36,
   "metadata": {},
   "outputs": [],
   "source": [
    "EPOCHS = 1000\n",
    "BATCH_SIZE = 128"
   ]
  },
  {
   "cell_type": "code",
   "execution_count": null,
   "metadata": {
    "scrolled": true
   },
   "outputs": [],
   "source": [
    "model.fit(\n",
    "    (X, X_train_features), Y, epochs=EPOCHS, batch_size=BATCH_SIZE, verbose=True, \n",
    "    callbacks=callbacks_list,  \n",
    "    validation_split=0.1,\n",
    "    shuffle=True,\n",
    ")"
   ]
  },
  {
   "cell_type": "markdown",
   "metadata": {},
   "source": [
    "#### Evaluation"
   ]
  },
  {
   "cell_type": "code",
   "execution_count": 58,
   "metadata": {},
   "outputs": [],
   "source": [
    "# load best weights (based on validation accuracy)\n",
    "model.load_weights(weight_file_path)"
   ]
  },
  {
   "cell_type": "code",
   "execution_count": null,
   "metadata": {},
   "outputs": [],
   "source": [
    "pred_test_proba = model.predict((X_test, X_test_features))\n",
    "pred_test = np.argmax(pred_test_proba, axis=-1)\n",
    "\n",
    "# print(\"F1 Macro:\", f1_score(Y_test, pred_test, average=\"macro\"))\n",
    "display_result(Y_test, pred_test)"
   ]
  },
  {
   "cell_type": "markdown",
   "metadata": {},
   "source": [
    "#### Store predictions"
   ]
  },
  {
   "cell_type": "code",
   "execution_count": 40,
   "metadata": {},
   "outputs": [],
   "source": [
    "np.save(\"./predictions/test_mitbih_attention_cnn\", pred_test, allow_pickle=True)\n",
    "np.save(\"./predictions/test_mitbih_proba_attention_cnn\", pred_test_proba, allow_pickle=True)"
   ]
  },
  {
   "cell_type": "code",
   "execution_count": 41,
   "metadata": {},
   "outputs": [],
   "source": [
    "pred_test_proba = model.predict((X, X_train_features))\n",
    "pred_test = np.argmax(pred_test_proba, axis=-1)\n",
    "np.save(\"./predictions/train_mitbih_attention_cnn\", pred_test, allow_pickle=True)\n",
    "np.save(\"./predictions/train_mitbih_proba_attention_cnn\", pred_test_proba, allow_pickle=True)"
   ]
  },
  {
   "cell_type": "markdown",
   "metadata": {},
   "source": [
    "# PTB"
   ]
  },
  {
   "cell_type": "markdown",
   "metadata": {},
   "source": [
    "#### Load data"
   ]
  },
  {
   "cell_type": "code",
   "execution_count": 135,
   "metadata": {},
   "outputs": [],
   "source": [
    "df_1_ptb = pd.read_csv(\"./data/ptbdb_normal.csv\", header=None)\n",
    "df_2_ptb = pd.read_csv(\"./data/ptbdb_abnormal.csv\", header=None)\n",
    "df_ptb = pd.concat([df_1_ptb, df_2_ptb])\n",
    "\n",
    "df_train_ptb, df_test_ptb = train_test_split(df_ptb, test_size=0.2, random_state=1337, stratify=df_ptb[187])\n",
    "\n",
    "\n",
    "Y_ptb = np.array(df_train_ptb[187].values).astype(np.int8)\n",
    "X_ptb = np.array(df_train_ptb[list(range(187))].values)[..., np.newaxis]\n",
    "\n",
    "Y_test_ptb = np.array(df_test_ptb[187].values).astype(np.int8)\n",
    "X_test_ptb = np.array(df_test_ptb[list(range(187))].values)[..., np.newaxis]"
   ]
  },
  {
   "cell_type": "markdown",
   "metadata": {},
   "source": [
    "#### Extract Features"
   ]
  },
  {
   "cell_type": "code",
   "execution_count": 136,
   "metadata": {},
   "outputs": [
    {
     "name": "stderr",
     "output_type": "stream",
     "text": [
      "100%|██████████| 11641/11641 [00:05<00:00, 2131.50it/s]\n",
      "100%|██████████| 2911/2911 [00:01<00:00, 1928.16it/s]\n"
     ]
    }
   ],
   "source": [
    "X_train_ptb_spectral, X_test_ptb_spectral = get_tsfel_features(\n",
    "    X_ptb, X_test_ptb,\n",
    "    domain=\"spectral\",\n",
    "    njobs=32, # adjust to available number of cores\n",
    "    sampling_rate=SAMPLING_RATE\n",
    ")"
   ]
  },
  {
   "cell_type": "code",
   "execution_count": 137,
   "metadata": {},
   "outputs": [
    {
     "name": "stderr",
     "output_type": "stream",
     "text": [
      "100%|██████████| 11641/11641 [00:02<00:00, 3944.72it/s]\n",
      "100%|██████████| 2911/2911 [00:00<00:00, 3689.00it/s]\n"
     ]
    }
   ],
   "source": [
    "X_train_ptb_temporal, X_test_ptb_temporal = get_tsfel_features(\n",
    "    X_ptb, X_test_ptb,\n",
    "    domain=\"temporal\",\n",
    "    njobs=32, # adjust to available number of cores\n",
    "    sampling_rate=SAMPLING_RATE\n",
    ")"
   ]
  },
  {
   "cell_type": "code",
   "execution_count": 138,
   "metadata": {},
   "outputs": [],
   "source": [
    "X_train_ptb_features = pd.concat([X_train_ptb_spectral, X_train_ptb_temporal], axis=1)\n",
    "X_test_ptb_features = pd.concat([X_test_ptb_spectral, X_test_ptb_temporal], axis=1)"
   ]
  },
  {
   "cell_type": "markdown",
   "metadata": {},
   "source": [
    "### Training"
   ]
  },
  {
   "cell_type": "code",
   "execution_count": 161,
   "metadata": {},
   "outputs": [],
   "source": [
    "TRANSFER = False # configure to use transfer learning or not"
   ]
  },
  {
   "cell_type": "markdown",
   "metadata": {},
   "source": [
    "When transfer learning we initialize the weights with the pretrained ones from the MITBIH dataset, train the complete network on the new data and use learning rate scheduling, early stopping to prevent overfitting"
   ]
  },
  {
   "cell_type": "markdown",
   "metadata": {},
   "source": [
    "#### Model setup"
   ]
  },
  {
   "cell_type": "code",
   "execution_count": 162,
   "metadata": {},
   "outputs": [],
   "source": [
    "model_ptb_raw = get_model(X_train_features.shape[1])"
   ]
  },
  {
   "cell_type": "code",
   "execution_count": 163,
   "metadata": {},
   "outputs": [],
   "source": [
    "opt_ptb = optimizers.Adam(0.001)\n",
    "model_ptb_raw.compile(optimizer=opt_ptb, loss=losses.sparse_categorical_crossentropy, metrics=['acc'])\n",
    "# model.summary()"
   ]
  },
  {
   "cell_type": "code",
   "execution_count": 164,
   "metadata": {},
   "outputs": [],
   "source": [
    "# Load weights from MITBIH for transfer learning (comment out if training purely)\n",
    "if TRANSFER:\n",
    "    print(\"Loading pretrained weights from MITBIH dataset\")\n",
    "    model_ptb_raw.load_weights(weight_file_path)"
   ]
  },
  {
   "cell_type": "markdown",
   "metadata": {},
   "source": [
    "#### Reconfigure model\n",
    "Reconfigure the model to have binary classification head instead of 5 classes"
   ]
  },
  {
   "cell_type": "code",
   "execution_count": 165,
   "metadata": {},
   "outputs": [],
   "source": [
    "new_out = Dense(1, activation=activations.sigmoid, name=\"ptb_sigmoid\")(model_ptb_raw.layers[-2].output)\n",
    "\n",
    "model_ptb = Model(inputs=model_ptb_raw.input, outputs=new_out)\n",
    "# model_ptb.summary()\n",
    "model_ptb.compile(optimizer=opt_ptb, loss=losses.BinaryCrossentropy(), metrics=['acc'])"
   ]
  },
  {
   "cell_type": "markdown",
   "metadata": {},
   "source": [
    "#### Fitting"
   ]
  },
  {
   "cell_type": "code",
   "execution_count": 166,
   "metadata": {},
   "outputs": [],
   "source": [
    "# Parameter for ReduceLROnPlateau callback\n",
    "min_lr           = 0.00005 # 0.00005\n",
    "reduce_lr_factor = 0.5     # 0.8\n",
    "patience         = 5\n",
    "cooldown         = 5 \n",
    "\n",
    "\n",
    "weight_file_path_ptb = \"./models/attention_cnn_ptb_transfer.h5\"\n",
    "checkpoint = ModelCheckpoint(weight_file_path_ptb, monitor='val_acc', verbose=1, save_best_only=True, mode='max')\n",
    "early = EarlyStopping(monitor=\"val_acc\", mode=\"max\", patience=8, verbose=1)\n",
    "redonplat = ReduceLROnPlateau(monitor=\"val_acc\", mode=\"max\", factor=reduce_lr_factor, patience=patience, cooldown=cooldown, min_lr=min_lr, verbose=2)\n",
    "\n",
    "callbacks_list = [checkpoint, early, redonplat] # , PlotLossesKeras()]"
   ]
  },
  {
   "cell_type": "code",
   "execution_count": 167,
   "metadata": {
    "scrolled": true
   },
   "outputs": [
    {
     "name": "stdout",
     "output_type": "stream",
     "text": [
      "Epoch 1/1000\n",
      "82/82 [==============================] - 5s 36ms/step - loss: 3.0152 - acc: 0.6734 - val_loss: 0.5986 - val_acc: 0.6996\n",
      "\n",
      "Epoch 00001: val_acc improved from -inf to 0.69957, saving model to ./models/attention_cnn_ptb_transfer.h5\n",
      "Epoch 2/1000\n",
      "82/82 [==============================] - 2s 30ms/step - loss: 0.4408 - acc: 0.7870 - val_loss: 0.8645 - val_acc: 0.6996\n",
      "\n",
      "Epoch 00002: val_acc did not improve from 0.69957\n",
      "Epoch 3/1000\n",
      "82/82 [==============================] - 3s 31ms/step - loss: 0.3098 - acc: 0.8644 - val_loss: 1.0803 - val_acc: 0.6996\n",
      "\n",
      "Epoch 00003: val_acc did not improve from 0.69957\n",
      "Epoch 4/1000\n",
      "82/82 [==============================] - 2s 30ms/step - loss: 0.2439 - acc: 0.9012 - val_loss: 1.3895 - val_acc: 0.6996\n",
      "\n",
      "Epoch 00004: val_acc did not improve from 0.69957\n",
      "Epoch 5/1000\n",
      "82/82 [==============================] - 3s 31ms/step - loss: 0.2159 - acc: 0.9054 - val_loss: 1.1965 - val_acc: 0.7021\n",
      "\n",
      "Epoch 00005: val_acc improved from 0.69957 to 0.70215, saving model to ./models/attention_cnn_ptb_transfer.h5\n",
      "Epoch 6/1000\n",
      "82/82 [==============================] - 3s 32ms/step - loss: 0.1966 - acc: 0.9192 - val_loss: 0.9407 - val_acc: 0.7270\n",
      "\n",
      "Epoch 00006: val_acc improved from 0.70215 to 0.72704, saving model to ./models/attention_cnn_ptb_transfer.h5\n",
      "Epoch 7/1000\n",
      "82/82 [==============================] - 3s 31ms/step - loss: 0.1745 - acc: 0.9308 - val_loss: 0.5734 - val_acc: 0.7871\n",
      "\n",
      "Epoch 00007: val_acc improved from 0.72704 to 0.78712, saving model to ./models/attention_cnn_ptb_transfer.h5\n",
      "Epoch 8/1000\n",
      "82/82 [==============================] - 3s 31ms/step - loss: 0.1688 - acc: 0.9313 - val_loss: 0.2232 - val_acc: 0.8979\n",
      "\n",
      "Epoch 00008: val_acc improved from 0.78712 to 0.89785, saving model to ./models/attention_cnn_ptb_transfer.h5\n",
      "Epoch 9/1000\n",
      "82/82 [==============================] - 3s 31ms/step - loss: 0.1507 - acc: 0.9387 - val_loss: 0.2174 - val_acc: 0.9090\n",
      "\n",
      "Epoch 00009: val_acc improved from 0.89785 to 0.90901, saving model to ./models/attention_cnn_ptb_transfer.h5\n",
      "Epoch 10/1000\n",
      "82/82 [==============================] - 3s 32ms/step - loss: 0.1459 - acc: 0.9391 - val_loss: 0.1659 - val_acc: 0.9262\n",
      "\n",
      "Epoch 00010: val_acc improved from 0.90901 to 0.92618, saving model to ./models/attention_cnn_ptb_transfer.h5\n",
      "Epoch 11/1000\n",
      "82/82 [==============================] - 3s 31ms/step - loss: 0.1354 - acc: 0.9483 - val_loss: 0.2085 - val_acc: 0.9150\n",
      "\n",
      "Epoch 00011: val_acc did not improve from 0.92618\n",
      "Epoch 12/1000\n",
      "82/82 [==============================] - 3s 31ms/step - loss: 0.1226 - acc: 0.9539 - val_loss: 0.0713 - val_acc: 0.9725\n",
      "\n",
      "Epoch 00012: val_acc improved from 0.92618 to 0.97253, saving model to ./models/attention_cnn_ptb_transfer.h5\n",
      "Epoch 13/1000\n",
      "82/82 [==============================] - 2s 30ms/step - loss: 0.1101 - acc: 0.9603 - val_loss: 0.3444 - val_acc: 0.8987\n",
      "\n",
      "Epoch 00013: val_acc did not improve from 0.97253\n",
      "Epoch 14/1000\n",
      "82/82 [==============================] - 3s 31ms/step - loss: 0.0830 - acc: 0.9690 - val_loss: 0.0716 - val_acc: 0.9734\n",
      "\n",
      "Epoch 00014: val_acc improved from 0.97253 to 0.97339, saving model to ./models/attention_cnn_ptb_transfer.h5\n",
      "Epoch 15/1000\n",
      "82/82 [==============================] - 3s 32ms/step - loss: 0.0825 - acc: 0.9698 - val_loss: 0.3037 - val_acc: 0.8687\n",
      "\n",
      "Epoch 00015: val_acc did not improve from 0.97339\n",
      "Epoch 16/1000\n",
      "82/82 [==============================] - 3s 32ms/step - loss: 0.0802 - acc: 0.9715 - val_loss: 0.0809 - val_acc: 0.9700\n",
      "\n",
      "Epoch 00016: val_acc did not improve from 0.97339\n",
      "Epoch 17/1000\n",
      "82/82 [==============================] - 3s 31ms/step - loss: 0.0613 - acc: 0.9779 - val_loss: 0.1727 - val_acc: 0.9348\n",
      "\n",
      "Epoch 00017: val_acc did not improve from 0.97339\n",
      "Epoch 18/1000\n",
      "82/82 [==============================] - 3s 32ms/step - loss: 0.0719 - acc: 0.9742 - val_loss: 0.0506 - val_acc: 0.9811\n",
      "\n",
      "Epoch 00018: val_acc improved from 0.97339 to 0.98112, saving model to ./models/attention_cnn_ptb_transfer.h5\n",
      "Epoch 19/1000\n",
      "82/82 [==============================] - 2s 30ms/step - loss: 0.0521 - acc: 0.9821 - val_loss: 0.0529 - val_acc: 0.9828\n",
      "\n",
      "Epoch 00019: val_acc improved from 0.98112 to 0.98283, saving model to ./models/attention_cnn_ptb_transfer.h5\n",
      "Epoch 20/1000\n",
      "82/82 [==============================] - 3s 31ms/step - loss: 0.0600 - acc: 0.9796 - val_loss: 0.0985 - val_acc: 0.9657\n",
      "\n",
      "Epoch 00020: val_acc did not improve from 0.98283\n",
      "Epoch 21/1000\n",
      "82/82 [==============================] - 3s 31ms/step - loss: 0.0539 - acc: 0.9828 - val_loss: 0.0388 - val_acc: 0.9906\n",
      "\n",
      "Epoch 00021: val_acc improved from 0.98283 to 0.99056, saving model to ./models/attention_cnn_ptb_transfer.h5\n",
      "Epoch 22/1000\n",
      "82/82 [==============================] - 3s 31ms/step - loss: 0.0505 - acc: 0.9817 - val_loss: 0.0269 - val_acc: 0.9923\n",
      "\n",
      "Epoch 00022: val_acc improved from 0.99056 to 0.99227, saving model to ./models/attention_cnn_ptb_transfer.h5\n",
      "Epoch 23/1000\n",
      "82/82 [==============================] - 3s 31ms/step - loss: 0.0482 - acc: 0.9824 - val_loss: 0.0753 - val_acc: 0.9803\n",
      "\n",
      "Epoch 00023: val_acc did not improve from 0.99227\n",
      "Epoch 24/1000\n",
      "82/82 [==============================] - 2s 30ms/step - loss: 0.0495 - acc: 0.9805 - val_loss: 0.0655 - val_acc: 0.9811\n",
      "\n",
      "Epoch 00024: val_acc did not improve from 0.99227\n",
      "Epoch 25/1000\n",
      "82/82 [==============================] - 3s 31ms/step - loss: 0.0512 - acc: 0.9822 - val_loss: 0.0756 - val_acc: 0.9768\n",
      "\n",
      "Epoch 00025: val_acc did not improve from 0.99227\n",
      "Epoch 26/1000\n",
      "82/82 [==============================] - 3s 31ms/step - loss: 0.0413 - acc: 0.9858 - val_loss: 0.0552 - val_acc: 0.9811\n",
      "\n",
      "Epoch 00026: val_acc did not improve from 0.99227\n",
      "Epoch 27/1000\n",
      "82/82 [==============================] - 2s 30ms/step - loss: 0.0331 - acc: 0.9879 - val_loss: 0.0467 - val_acc: 0.9854\n",
      "\n",
      "Epoch 00027: val_acc did not improve from 0.99227\n",
      "\n",
      "Epoch 00027: ReduceLROnPlateau reducing learning rate to 0.0005000000237487257.\n",
      "Epoch 28/1000\n",
      "82/82 [==============================] - 3s 31ms/step - loss: 0.0383 - acc: 0.9872 - val_loss: 0.0342 - val_acc: 0.9888\n",
      "\n",
      "Epoch 00028: val_acc did not improve from 0.99227\n",
      "Epoch 29/1000\n",
      "82/82 [==============================] - 3s 31ms/step - loss: 0.0225 - acc: 0.9918 - val_loss: 0.0407 - val_acc: 0.9888\n",
      "\n",
      "Epoch 00029: val_acc did not improve from 0.99227\n",
      "Epoch 30/1000\n",
      "82/82 [==============================] - 3s 31ms/step - loss: 0.0188 - acc: 0.9938 - val_loss: 0.0347 - val_acc: 0.9888\n",
      "\n",
      "Epoch 00030: val_acc did not improve from 0.99227\n",
      "Epoch 00030: early stopping\n"
     ]
    },
    {
     "data": {
      "text/plain": [
       "<tensorflow.python.keras.callbacks.History at 0x2aabc558adc0>"
      ]
     },
     "execution_count": 167,
     "metadata": {},
     "output_type": "execute_result"
    }
   ],
   "source": [
    "model_ptb.fit(\n",
    "    (X_ptb, X_train_ptb_features), Y_ptb, epochs=EPOCHS, batch_size=BATCH_SIZE, verbose=True, \n",
    "    callbacks=callbacks_list,  \n",
    "    validation_split=0.1,\n",
    "    shuffle=True,\n",
    ")"
   ]
  },
  {
   "cell_type": "markdown",
   "metadata": {},
   "source": [
    "#### Evaluation"
   ]
  },
  {
   "cell_type": "code",
   "execution_count": 168,
   "metadata": {},
   "outputs": [],
   "source": [
    "# load best weights\n",
    "model_ptb.load_weights(weight_file_path_ptb)"
   ]
  },
  {
   "cell_type": "code",
   "execution_count": 169,
   "metadata": {},
   "outputs": [
    {
     "name": "stdout",
     "output_type": "stream",
     "text": [
      "f1 score micro:           0.99244\n",
      "f1 score macro:           0.99055\n",
      "accuracy score:           0.99244\n",
      "balanced accuracy score:  0.98868\n",
      "AuPR score:               0.99823\n",
      "AuROC score:              0.99742\n"
     ]
    },
    {
     "data": {
      "image/png": "[encoded data removed]",
      "text/plain": [
       "<Figure size 432x288 with 2 Axes>"
      ]
     },
     "metadata": {
      "needs_background": "light"
     },
     "output_type": "display_data"
    }
   ],
   "source": [
    "pred_test_proba = model_ptb.predict((X_test_ptb, X_test_ptb_features))\n",
    "pred_test = [1 if x > 0.5 else 0 for x in pred_test_proba]\n",
    "\n",
    "# print(\"F1 Macro:\", f1_score(Y_test, pred_test, average=\"macro\"))\n",
    "display_result(Y_test_ptb, pred_test, curve=True, proba=pred_test_proba)"
   ]
  },
  {
   "cell_type": "markdown",
   "metadata": {},
   "source": [
    "#### Store predictions"
   ]
  },
  {
   "cell_type": "code",
   "execution_count": 170,
   "metadata": {},
   "outputs": [],
   "source": [
    "transfer_str = \"_transfer\" if TRANSFER else \"\""
   ]
  },
  {
   "cell_type": "code",
   "execution_count": 171,
   "metadata": {},
   "outputs": [],
   "source": [
    "np.save(f\"./predictions/test_ptb_attention_cnn{transfer_str}\", pred_test, allow_pickle=True)\n",
    "np.save(f\"./predictions/test_ptb_proba_attention_cnn{transfer_str}\", pred_test_proba, allow_pickle=True)"
   ]
  },
  {
   "cell_type": "code",
   "execution_count": 172,
   "metadata": {},
   "outputs": [],
   "source": [
    "pred_test_proba = model_ptb.predict((X_ptb, X_train_ptb_features))\n",
    "pred_test = [1 if x > 0.5 else 0 for x in pred_test_proba]\n",
    "np.save(f\"./predictions/train_ptb_attention_cnn{transfer_str}\", pred_test, allow_pickle=True)\n",
    "np.save(f\"./predictions/train_ptb_proba_attention_cnn{transfer_str}\", pred_test_proba, allow_pickle=True)"
   ]
  },
  {
   "cell_type": "code",
   "execution_count": null,
   "metadata": {},
   "outputs": [],
   "source": []
  }
 ],
 "metadata": {
  "kernelspec": {
   "display_name": "Python 3",
   "language": "python",
   "name": "python3"
  },
  "language_info": {
   "codemirror_mode": {
    "name": "ipython",
    "version": 3
   },
   "file_extension": ".py",
   "mimetype": "text/x-python",
   "name": "python",
   "nbconvert_exporter": "python",
   "pygments_lexer": "ipython3",
   "version": "3.8.2"
  }
 },
 "nbformat": 4,
 "nbformat_minor": 4
}
