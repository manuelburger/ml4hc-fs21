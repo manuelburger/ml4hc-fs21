{
 "cells": [
  {
   "cell_type": "markdown",
   "id": "65a90668",
   "metadata": {},
   "source": [
    "This notebook was used to produce the dense _6-mer_ embeddings."
   ]
  },
  {
   "cell_type": "code",
   "execution_count": null,
   "id": "given-spirituality",
   "metadata": {},
   "outputs": [],
   "source": [
    "import numpy as np\n",
    "\n",
    "from data_io import get_data\n",
    "\n",
    "%load_ext autoreload\n",
    "%autoreload 2"
   ]
  },
  {
   "cell_type": "code",
   "execution_count": null,
   "id": "b1464536",
   "metadata": {},
   "outputs": [],
   "source": [
    "from glove import Corpus, Glove"
   ]
  },
  {
   "cell_type": "markdown",
   "id": "endless-batch",
   "metadata": {},
   "source": [
    "## Data"
   ]
  },
  {
   "cell_type": "code",
   "execution_count": null,
   "id": "acceptable-vegetarian",
   "metadata": {},
   "outputs": [],
   "source": [
    "X, y = get_data('human', mode='train', k=6, drop=0.0)"
   ]
  },
  {
   "cell_type": "markdown",
   "id": "351208bf",
   "metadata": {},
   "source": [
    "## Embedding - GloVe"
   ]
  },
  {
   "cell_type": "code",
   "execution_count": null,
   "id": "7cbc4f4f",
   "metadata": {},
   "outputs": [],
   "source": [
    "Z = X.tolist()"
   ]
  },
  {
   "cell_type": "code",
   "execution_count": null,
   "id": "e1caea99",
   "metadata": {},
   "outputs": [],
   "source": [
    "# Creating a corpus object\n",
    "corpus = Corpus() \n",
    "\n",
    "# Training the corpus to generate the co occurence matrix which is used in GloVe\n",
    "corpus.fit(Z, window=24)"
   ]
  },
  {
   "cell_type": "code",
   "execution_count": null,
   "id": "d6e09152",
   "metadata": {},
   "outputs": [],
   "source": [
    "glove = Glove(no_components=30, learning_rate=0.05) \n",
    "glove.fit(corpus.matrix, epochs=100, no_threads=12, verbose=True)\n",
    "glove.add_dictionary(corpus.dictionary)\n",
    "glove.save('glove-w24-d30-e100.model')"
   ]
  }
 ],
 "metadata": {
  "kernelspec": {
   "display_name": "ml4hc",
   "language": "python",
   "name": "ml4hc"
  },
  "language_info": {
   "codemirror_mode": {
    "name": "ipython",
    "version": 3
   },
   "file_extension": ".py",
   "mimetype": "text/x-python",
   "name": "python",
   "nbconvert_exporter": "python",
   "pygments_lexer": "ipython3",
   "version": "3.7.10"
  }
 },
 "nbformat": 4,
 "nbformat_minor": 5
}
