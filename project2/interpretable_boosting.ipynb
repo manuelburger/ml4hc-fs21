{
 "cells": [
  {
   "cell_type": "code",
   "execution_count": 1,
   "metadata": {
    "colab": {
     "base_uri": "https://localhost:8080/"
    },
    "id": "designing-ideal",
    "outputId": "106be1d9-6c30-4413-97f6-e9e0d25e5c9e"
   },
   "outputs": [],
   "source": [
    "import os\n",
    "import sys\n",
    "\n",
    "# General\n",
    "import numpy as np\n",
    "import scipy\n",
    "import pandas as pd\n",
    "import matplotlib.pyplot as plt\n",
    "import seaborn as sns\n",
    "from tqdm import tqdm\n",
    "from collections import Counter\n",
    "\n",
    "# Metrics\n",
    "from sklearn.model_selection import train_test_split\n",
    "from cf_matrix import make_confusion_matrix\n",
    "from sklearn.metrics import (\n",
    "    roc_auc_score, f1_score, confusion_matrix, make_scorer, average_precision_score,\n",
    "    plot_precision_recall_curve, plot_roc_curve, precision_recall_curve, roc_curve, auc, balanced_accuracy_score)\n",
    "\n",
    "# Preprocessing\n",
    "from sklearn.utils.class_weight import compute_class_weight\n",
    "from sklearn.utils import class_weight\n",
    "from sklearn.feature_selection import SelectKBest, chi2\n",
    "from sklearn.preprocessing import RobustScaler\n",
    "from sklearn.feature_extraction.text import CountVectorizer\n",
    "from sklearn.model_selection import StratifiedKFold\n",
    "\n",
    "# Sampling\n",
    "from imblearn.under_sampling import EditedNearestNeighbours, NearMiss, RandomUnderSampler\n",
    "from imblearn.over_sampling import SMOTE\n",
    "from imblearn.combine import SMOTEENN, SMOTETomek\n",
    "from imblearn.pipeline import make_pipeline as make_pipeline_imbl\n",
    "\n",
    "# Feature Selection\n",
    "from sklearn.preprocessing import StandardScaler\n",
    "from sklearn.feature_selection import SelectKBest, VarianceThreshold, SelectFromModel\n",
    "from sklearn.ensemble import ExtraTreesRegressor\n",
    "from sklearn.feature_selection import f_classif\n",
    "from sklearn.model_selection import GridSearchCV\n",
    "\n",
    "# Parallelism\n",
    "from sklearn.pipeline import make_pipeline, Pipeline\n",
    "from joblib import parallel_backend\n",
    "from joblib import Parallel, delayed\n",
    "\n",
    "# Custom helper functions\n",
    "from utils import *\n",
    "from data_io import *\n",
    "from data_representation import *\n",
    "\n",
    "%matplotlib inline\n",
    "%load_ext autoreload\n",
    "%autoreload 2"
   ]
  },
  {
   "cell_type": "markdown",
   "metadata": {},
   "source": [
    "# Interpretability\n",
    "\n",
    "Notebook focused on exploring interpretable models to gain more insight into the problem and provide explainable results (as this is important in the medical context). Using this package here: https://github.com/interpretml/interpret"
   ]
  },
  {
   "cell_type": "code",
   "execution_count": 2,
   "metadata": {},
   "outputs": [],
   "source": [
    "from interpret import show\n",
    "from interpret.data import ClassHistogram\n",
    "from interpret.perf import ROC\n",
    "from interpret.glassbox import ExplainableBoostingClassifier\n",
    "\n",
    "# from interpret import set_show_addr\n",
    "# set_show_addr(('127.0.0.1', 10001))"
   ]
  },
  {
   "cell_type": "code",
   "execution_count": 3,
   "metadata": {
    "id": "t9thdJkblWhT"
   },
   "outputs": [],
   "source": [
    "# Configure Google Colab\n",
    "def set_colab_folder(path='MyDrive/Colab Notebooks/ML4HC/project2'):\n",
    "  if 'google.colab' in str(get_ipython()):\n",
    "    print('Running on CoLab')\n",
    "    from google.colab import drive\n",
    "    drive.mount('/content/drive/')\n",
    "    path = os.path.join('/content/drive/', path)\n",
    "    sys.path.append(path)\n",
    "    %cd $path\n",
    "  else:\n",
    "    print('Not running on CoLab')"
   ]
  },
  {
   "cell_type": "code",
   "execution_count": 4,
   "metadata": {
    "colab": {
     "base_uri": "https://localhost:8080/"
    },
    "id": "vua0S-8sqQyx",
    "outputId": "17a2bf8e-cbac-4cdd-e743-902e41794cd5"
   },
   "outputs": [
    {
     "name": "stdout",
     "output_type": "stream",
     "text": [
      "Not running on CoLab\n"
     ]
    }
   ],
   "source": [
    "set_colab_folder()"
   ]
  },
  {
   "cell_type": "markdown",
   "metadata": {
    "id": "ITq_J6yEtDUg"
   },
   "source": [
    "### Datasets"
   ]
  },
  {
   "cell_type": "code",
   "execution_count": 5,
   "metadata": {},
   "outputs": [],
   "source": [
    "data_dir = \"data\""
   ]
  },
  {
   "cell_type": "code",
   "execution_count": 6,
   "metadata": {
    "colab": {
     "base_uri": "https://localhost:8080/",
     "height": 198
    },
    "id": "NE7avNBRtWoC",
    "outputId": "2a111deb-bfdb-4e21-a9cd-1d846dbd2803"
   },
   "outputs": [
    {
     "data": {
      "text/html": [
       "<div>\n",
       "<style scoped>\n",
       "    .dataframe tbody tr th:only-of-type {\n",
       "        vertical-align: middle;\n",
       "    }\n",
       "\n",
       "    .dataframe tbody tr th {\n",
       "        vertical-align: top;\n",
       "    }\n",
       "\n",
       "    .dataframe thead th {\n",
       "        text-align: right;\n",
       "    }\n",
       "</style>\n",
       "<table border=\"1\" class=\"dataframe\">\n",
       "  <thead>\n",
       "    <tr style=\"text-align: right;\">\n",
       "      <th></th>\n",
       "      <th>0</th>\n",
       "      <th>1</th>\n",
       "    </tr>\n",
       "  </thead>\n",
       "  <tbody>\n",
       "    <tr>\n",
       "      <th>0</th>\n",
       "      <td>C_elegans_acc_seq.csv</td>\n",
       "      <td>(2200, 2)</td>\n",
       "    </tr>\n",
       "    <tr>\n",
       "      <th>1</th>\n",
       "      <td>human_dna_test_hidden_split.csv</td>\n",
       "      <td>(30021, 1)</td>\n",
       "    </tr>\n",
       "    <tr>\n",
       "      <th>2</th>\n",
       "      <td>human_dna_test_split.csv</td>\n",
       "      <td>(33333, 2)</td>\n",
       "    </tr>\n",
       "    <tr>\n",
       "      <th>3</th>\n",
       "      <td>human_dna_train_split.csv</td>\n",
       "      <td>(500000, 2)</td>\n",
       "    </tr>\n",
       "    <tr>\n",
       "      <th>4</th>\n",
       "      <td>human_dna_validation_split.csv</td>\n",
       "      <td>(33333, 2)</td>\n",
       "    </tr>\n",
       "    <tr>\n",
       "      <th>5</th>\n",
       "      <td>C_elegans_test_split.csv</td>\n",
       "      <td>(330, 2)</td>\n",
       "    </tr>\n",
       "    <tr>\n",
       "      <th>6</th>\n",
       "      <td>C_elegans_train_split.csv</td>\n",
       "      <td>(1540, 2)</td>\n",
       "    </tr>\n",
       "    <tr>\n",
       "      <th>7</th>\n",
       "      <td>C_elegans_validation_split.csv</td>\n",
       "      <td>(330, 2)</td>\n",
       "    </tr>\n",
       "  </tbody>\n",
       "</table>\n",
       "</div>"
      ],
      "text/plain": [
       "                                 0            1\n",
       "0            C_elegans_acc_seq.csv    (2200, 2)\n",
       "1  human_dna_test_hidden_split.csv   (30021, 1)\n",
       "2         human_dna_test_split.csv   (33333, 2)\n",
       "3        human_dna_train_split.csv  (500000, 2)\n",
       "4   human_dna_validation_split.csv   (33333, 2)\n",
       "5         C_elegans_test_split.csv     (330, 2)\n",
       "6        C_elegans_train_split.csv    (1540, 2)\n",
       "7   C_elegans_validation_split.csv     (330, 2)"
      ]
     },
     "execution_count": 6,
     "metadata": {},
     "output_type": "execute_result"
    }
   ],
   "source": [
    "# Get available datasets and shapes\n",
    "shapes = get_dataset_shapes()\n",
    "pd.DataFrame(shapes)"
   ]
  },
  {
   "cell_type": "markdown",
   "metadata": {
    "id": "B21Spw5WnHLt"
   },
   "source": [
    "# C Elegans"
   ]
  },
  {
   "cell_type": "code",
   "execution_count": 7,
   "metadata": {
    "id": "kiq5DpiEnHMB"
   },
   "outputs": [
    {
     "name": "stderr",
     "output_type": "stream",
     "text": [
      "100%|██████████| 1540/1540 [00:00<00:00, 41871.53it/s]\n",
      "100%|██████████| 330/330 [00:00<00:00, 43217.30it/s]\n",
      "100%|██████████| 330/330 [00:00<00:00, 46022.29it/s]\n"
     ]
    }
   ],
   "source": [
    "X_train, y_train = get_data(species='worm', mode='train', form='split')\n",
    "X_val, y_val     = get_data(species='worm', mode='val',   form='split')\n",
    "X_test, y_test   = get_data(species='worm', mode='test',  form='split')"
   ]
  },
  {
   "cell_type": "code",
   "execution_count": 8,
   "metadata": {},
   "outputs": [],
   "source": [
    "# Use 0/1 labels instead of -1/1 labels\n",
    "y_train[y_train < 0] = 0\n",
    "y_val[y_val < 0] = 0\n",
    "y_test[y_test < 0] = 0"
   ]
  },
  {
   "cell_type": "markdown",
   "metadata": {
    "id": "xL2jkTwEnHMD"
   },
   "source": [
    "### Class Distribution"
   ]
  },
  {
   "cell_type": "code",
   "execution_count": 9,
   "metadata": {
    "colab": {
     "base_uri": "https://localhost:8080/"
    },
    "id": "4t9IwY3OoK9i",
    "outputId": "0e9a4537-9160-47b9-8893-41784f6a93b8"
   },
   "outputs": [
    {
     "name": "stdout",
     "output_type": "stream",
     "text": [
      "Training: Counter({0: 1400, 1: 140})\n",
      "Validation: Counter({0: 300, 1: 30})\n",
      "Test: Counter({0: 300, 1: 30})\n"
     ]
    }
   ],
   "source": [
    "print(f\"Training: {Counter(y_train)}\")\n",
    "print(f\"Validation: {Counter(y_val)}\")\n",
    "print(f\"Test: {Counter(y_test)}\")"
   ]
  },
  {
   "cell_type": "markdown",
   "metadata": {
    "id": "3DeCQV8zzmda"
   },
   "source": [
    "## Sampling\n",
    "Tested various sampling schemes and class weights, but achieved best performance by feeding in unsampled data directly"
   ]
  },
  {
   "cell_type": "markdown",
   "metadata": {},
   "source": [
    "## Training"
   ]
  },
  {
   "cell_type": "code",
   "execution_count": 10,
   "metadata": {},
   "outputs": [],
   "source": [
    "# Combine validation and training set and use test set to report score\n",
    "X_train_in = np.concatenate([X_train, X_val])\n",
    "y_train_in = np.concatenate([y_train, y_val])"
   ]
  },
  {
   "cell_type": "code",
   "execution_count": 11,
   "metadata": {},
   "outputs": [],
   "source": [
    "# DF to hold scores\n",
    "res_df = pd.DataFrame({'model':[],\t'f1-score':[],\t'balanced_accuracy':[],\t'roc_auc':[],\t'prc_auc':[]})"
   ]
  },
  {
   "cell_type": "code",
   "execution_count": 12,
   "metadata": {},
   "outputs": [],
   "source": [
    "# Boosting Classifier\n",
    "# Performed grid search over various hyperparams, but no significant\n",
    "# performance improvements have been found over the defaults\n",
    "ebm_clf = ExplainableBoostingClassifier(\n",
    "    random_state=42,\n",
    "    n_jobs=4,\n",
    "    feature_types = [\"categorical\" for i in range(len(X_train_in[0]))]\n",
    ")\n",
    "\n",
    "ebm_clf.fit(X_train_in, y_train_in)   #Works on dataframes and numpy arrays\n",
    "\n",
    "_, _, res = pred_results(clf=ebm_clf, X=X_test, y=y_test, model_name=\"EBM\", figsize=None)\n",
    "res_df = pd.concat([res_df, res], axis=0).reset_index(drop=True)"
   ]
  },
  {
   "cell_type": "code",
   "execution_count": 13,
   "metadata": {},
   "outputs": [
    {
     "data": {
      "text/html": [
       "<div>\n",
       "<style scoped>\n",
       "    .dataframe tbody tr th:only-of-type {\n",
       "        vertical-align: middle;\n",
       "    }\n",
       "\n",
       "    .dataframe tbody tr th {\n",
       "        vertical-align: top;\n",
       "    }\n",
       "\n",
       "    .dataframe thead th {\n",
       "        text-align: right;\n",
       "    }\n",
       "</style>\n",
       "<table border=\"1\" class=\"dataframe\">\n",
       "  <thead>\n",
       "    <tr style=\"text-align: right;\">\n",
       "      <th></th>\n",
       "      <th>model</th>\n",
       "      <th>f1-score</th>\n",
       "      <th>balanced_accuracy</th>\n",
       "      <th>roc_auc</th>\n",
       "      <th>prc_auc</th>\n",
       "    </tr>\n",
       "  </thead>\n",
       "  <tbody>\n",
       "    <tr>\n",
       "      <th>0</th>\n",
       "      <td>EBM</td>\n",
       "      <td>0.972727</td>\n",
       "      <td>0.91</td>\n",
       "      <td>0.984778</td>\n",
       "      <td>0.907476</td>\n",
       "    </tr>\n",
       "  </tbody>\n",
       "</table>\n",
       "</div>"
      ],
      "text/plain": [
       "  model  f1-score  balanced_accuracy   roc_auc   prc_auc\n",
       "0   EBM  0.972727               0.91  0.984778  0.907476"
      ]
     },
     "metadata": {},
     "output_type": "display_data"
    }
   ],
   "source": [
    "display(res_df)"
   ]
  },
  {
   "cell_type": "markdown",
   "metadata": {},
   "source": [
    "## Model insights"
   ]
  },
  {
   "cell_type": "code",
   "execution_count": 14,
   "metadata": {},
   "outputs": [],
   "source": [
    "ebm_global = ebm_clf.explain_global(name='EBM')"
   ]
  },
  {
   "cell_type": "markdown",
   "metadata": {},
   "source": [
    "### Feature importance\n",
    "\n",
    "As given by the additive terms of the individual boosting contributions of the features we can plot the feature importance for each nucleotide\n",
    "\n",
    "We can see that the nucleotides close to the splice site and to the left of it are most important for the prediction."
   ]
  },
  {
   "cell_type": "code",
   "execution_count": 47,
   "metadata": {},
   "outputs": [
    {
     "data": {
      "image/png": "[encoded data removed]",
      "text/plain": [
       "<Figure size 432x288 with 1 Axes>"
      ]
     },
     "metadata": {
      "needs_background": "light"
     },
     "output_type": "display_data"
    }
   ],
   "source": [
    "names = ebm_global._internal_obj['overall']['names'][:82]\n",
    "scores = ebm_global._internal_obj['overall']['scores'][:82]\n",
    "\n",
    "pal = sns.color_palette(\"crest\", 82)\n",
    "rank = np.argsort(np.argsort(scores))\n",
    "ax = sns.barplot(\n",
    "    x=names,\n",
    "    y=scores,\n",
    "    palette=np.array(pal[::-1])[rank]\n",
    ").set(ylabel=\"Feature Importance\")\n",
    "\n",
    "locs = list(range(0, 82, 10))\n",
    "locs, labels = plt.xticks(locs, locs, rotation=80)\n",
    "\n",
    "plt.savefig(\"./figures/ebm_worm_importance.svg\")"
   ]
  },
  {
   "cell_type": "markdown",
   "metadata": {
    "id": "gothic-metadata"
   },
   "source": [
    "# Human DNA"
   ]
  },
  {
   "cell_type": "code",
   "execution_count": 16,
   "metadata": {
    "id": "KZzQ6t-Fcp72"
   },
   "outputs": [
    {
     "name": "stderr",
     "output_type": "stream",
     "text": [
      "100%|██████████| 500000/500000 [00:22<00:00, 21924.72it/s]\n",
      "100%|██████████| 33333/33333 [00:01<00:00, 22160.73it/s]\n",
      "100%|██████████| 33333/33333 [00:01<00:00, 22275.68it/s]\n",
      "100%|██████████| 30021/30021 [00:01<00:00, 22050.74it/s]\n"
     ]
    }
   ],
   "source": [
    "X_train_h, y_train_h = get_data(species='human', mode='train', form='split')\n",
    "X_val_h, y_val_h     = get_data(species='human', mode='val', form='split')\n",
    "X_test_h, y_test_h   = get_data(species='human', mode='test', form='split')\n",
    "X_hidden_h, _   = get_data(species='human', mode='hidden', form='split')"
   ]
  },
  {
   "cell_type": "code",
   "execution_count": 17,
   "metadata": {
    "id": "_QPA8vMngGyZ"
   },
   "outputs": [],
   "source": [
    "# Use 0/1 labels\n",
    "y_train_h[y_train_h < 0] = 0\n",
    "y_val_h[y_val_h < 0] = 0\n",
    "y_test_h[y_test_h < 0] = 0"
   ]
  },
  {
   "cell_type": "markdown",
   "metadata": {
    "id": "NYgjyvwFgGyb"
   },
   "source": [
    "### Class Distribution"
   ]
  },
  {
   "cell_type": "code",
   "execution_count": 18,
   "metadata": {
    "colab": {
     "base_uri": "https://localhost:8080/"
    },
    "id": "rzsmKTKBgGyd",
    "outputId": "8685d482-aa24-47e6-fad9-87d55d0e02a5"
   },
   "outputs": [
    {
     "data": {
      "image/png": "[encoded data removed]",
      "text/plain": [
       "<Figure size 432x288 with 1 Axes>"
      ]
     },
     "metadata": {
      "needs_background": "light"
     },
     "output_type": "display_data"
    }
   ],
   "source": [
    "# Plot class distribution on training\n",
    "plot_class_distribution(y_train_h)"
   ]
  },
  {
   "cell_type": "markdown",
   "metadata": {},
   "source": [
    "### Sampling\n",
    "Use a conservative sampling scheme to slightly reduce the imbalance"
   ]
  },
  {
   "cell_type": "code",
   "execution_count": 19,
   "metadata": {},
   "outputs": [
    {
     "name": "stdout",
     "output_type": "stream",
     "text": [
      "3% of dataset kept.\n"
     ]
    },
    {
     "data": {
      "text/plain": [
       "Counter({0: 14710, 1: 1471})"
      ]
     },
     "execution_count": 19,
     "metadata": {},
     "output_type": "execute_result"
    }
   ],
   "source": [
    "rus = RandomUnderSampler(random_state=42, sampling_strategy=0.1)\n",
    "X_us_h, y_us_h = rus.fit_resample(X_train_h, y_train_h, )\n",
    "\n",
    "print(\"{:.0%} of dataset kept.\".format(len(y_us_h)/len(y_train_h)))\n",
    "Counter(y_us_h)"
   ]
  },
  {
   "cell_type": "markdown",
   "metadata": {
    "id": "gZDDchZJgGyf"
   },
   "source": [
    "## Training"
   ]
  },
  {
   "cell_type": "code",
   "execution_count": 20,
   "metadata": {},
   "outputs": [
    {
     "name": "stderr",
     "output_type": "stream",
     "text": [
      "100%|██████████| 398/398 [00:00<00:00, 2473085.91it/s]\n"
     ]
    }
   ],
   "source": [
    "f_types = [\"categorical\" for i in tqdm(range(len(X_train_h[0])))]"
   ]
  },
  {
   "cell_type": "code",
   "execution_count": 22,
   "metadata": {},
   "outputs": [],
   "source": [
    "# DF to hold results\n",
    "res_df = pd.DataFrame({'model':[],\t'f1-score':[],\t'balanced_accuracy':[],\t'roc_auc':[],\t'prc_auc':[]})"
   ]
  },
  {
   "cell_type": "code",
   "execution_count": 23,
   "metadata": {},
   "outputs": [
    {
     "data": {
      "image/png": "[encoded data removed]",
      "text/plain": [
       "<Figure size 1152x288 with 4 Axes>"
      ]
     },
     "metadata": {
      "needs_background": "light"
     },
     "output_type": "display_data"
    }
   ],
   "source": [
    "# Boosting Classifier on undersampled dataset\n",
    "# A grid search has been performed over the available\n",
    "# hyperparameteres of the boosting machine, but no\n",
    "# noticeable improvements have been found over the defaults\n",
    "ebm_clf_us = ExplainableBoostingClassifier(\n",
    "    random_state=42,\n",
    "    n_jobs=16, # adjust to fit your system resources\n",
    "    feature_types = f_types\n",
    ")\n",
    "\n",
    "ebm_clf_us.fit(X_us_h, y_us_h)\n",
    "\n",
    "_, _, res = pred_results(clf=ebm_clf_us, X=X_test_h, y=y_test_h, model_name=\"EBM Undersampled\", figsize=(16, 4))\n",
    "res_df = pd.concat([res_df, res], axis=0).reset_index(drop=True)"
   ]
  },
  {
   "cell_type": "code",
   "execution_count": 24,
   "metadata": {},
   "outputs": [
    {
     "data": {
      "text/html": [
       "<div>\n",
       "<style scoped>\n",
       "    .dataframe tbody tr th:only-of-type {\n",
       "        vertical-align: middle;\n",
       "    }\n",
       "\n",
       "    .dataframe tbody tr th {\n",
       "        vertical-align: top;\n",
       "    }\n",
       "\n",
       "    .dataframe thead th {\n",
       "        text-align: right;\n",
       "    }\n",
       "</style>\n",
       "<table border=\"1\" class=\"dataframe\">\n",
       "  <thead>\n",
       "    <tr style=\"text-align: right;\">\n",
       "      <th></th>\n",
       "      <th>model</th>\n",
       "      <th>f1-score</th>\n",
       "      <th>balanced_accuracy</th>\n",
       "      <th>roc_auc</th>\n",
       "      <th>prc_auc</th>\n",
       "    </tr>\n",
       "  </thead>\n",
       "  <tbody>\n",
       "    <tr>\n",
       "      <th>0</th>\n",
       "      <td>EBM Undersampled</td>\n",
       "      <td>0.98467</td>\n",
       "      <td>0.738301</td>\n",
       "      <td>0.95703</td>\n",
       "      <td>0.126036</td>\n",
       "    </tr>\n",
       "  </tbody>\n",
       "</table>\n",
       "</div>"
      ],
      "text/plain": [
       "              model  f1-score  balanced_accuracy  roc_auc   prc_auc\n",
       "0  EBM Undersampled   0.98467           0.738301  0.95703  0.126036"
      ]
     },
     "metadata": {},
     "output_type": "display_data"
    }
   ],
   "source": [
    "display(res_df)"
   ]
  },
  {
   "cell_type": "markdown",
   "metadata": {},
   "source": [
    "## Model insights"
   ]
  },
  {
   "cell_type": "code",
   "execution_count": 25,
   "metadata": {},
   "outputs": [
    {
     "name": "stdout",
     "output_type": "stream",
     "text": [
      "Total length of chain: 398\n",
      "Middle:  199\n"
     ]
    }
   ],
   "source": [
    "print(\"Total length of chain:\", X_train_h.shape[1])\n",
    "print(\"Middle: \", int(X_train_h.shape[1]/2))"
   ]
  },
  {
   "cell_type": "code",
   "execution_count": 26,
   "metadata": {},
   "outputs": [],
   "source": [
    "# Analyze feature importances for the whole model\n",
    "emb_us_global = ebm_clf_us.explain_global(name='EBM US')"
   ]
  },
  {
   "cell_type": "markdown",
   "metadata": {},
   "source": [
    "### Feature importance\n",
    "Similar observations as on the worm dataset, but it seems to be even more pronounced on the human DNA i.e. only the nucleotides very close to the splice site have a significant predictive influence on the classification result"
   ]
  },
  {
   "cell_type": "code",
   "execution_count": 46,
   "metadata": {},
   "outputs": [
    {
     "data": {
      "image/png": "[encoded data removed]",
      "text/plain": [
       "<Figure size 1008x504 with 1 Axes>"
      ]
     },
     "metadata": {
      "needs_background": "light"
     },
     "output_type": "display_data"
    }
   ],
   "source": [
    "fig, ax = plt.subplots(figsize=(14,7))\n",
    "\n",
    "names = emb_us_global._internal_obj['overall']['names'][:398]\n",
    "scores = emb_us_global._internal_obj['overall']['scores'][:398]\n",
    "\n",
    "pal = sns.color_palette(\"crest\", 398)\n",
    "rank = np.argsort(np.argsort(scores))\n",
    "ax = sns.barplot(\n",
    "    x=names,\n",
    "    y=scores,\n",
    "    palette=np.array(pal[::-1])[rank]\n",
    ").set(ylabel=\"Feature Importance\")\n",
    "\n",
    "locs = list(range(0, 398, 40))\n",
    "locs, labels = plt.xticks(locs, locs, rotation=80)\n",
    "\n",
    "plt.savefig(\"./figures/ebm_undersampled_humans_importance.svg\")"
   ]
  },
  {
   "cell_type": "markdown",
   "metadata": {},
   "source": [
    "#### Predict on hidden test set"
   ]
  },
  {
   "cell_type": "code",
   "execution_count": 41,
   "metadata": {},
   "outputs": [
    {
     "name": "stdout",
     "output_type": "stream",
     "text": [
      "Shape of hidden dataset (30021, 398)\n"
     ]
    }
   ],
   "source": [
    "species = \"human\"\n",
    "split = \"test_hidden\"\n",
    "predictor_identifier = \"ebm_undersampled\"\n",
    "threshold = 0.5\n",
    "\n",
    "print(\"Shape of hidden dataset\", X_hidden_h.shape)\n",
    "y_proba = ebm_clf_us.predict_proba(X_hidden_h)\n",
    "y_pred = ebm_clf_us.predict(X_hidden_h)\n",
    "\n",
    "y_pred[y_pred == 0] = -1 # predict -1/1 labels as in original data\n",
    "\n",
    "pd.DataFrame(y_pred).to_csv(f\"./predictions/{species}_{split}_{predictor_identifier}.csv\") # store -1/1 labels\n",
    "pd.DataFrame(y_proba).iloc[:,1].to_csv(f\"./predictions/proba_{species}_{split}_{predictor_identifier}.csv\") # store predicted probabilities"
   ]
  }
 ],
 "metadata": {
  "accelerator": "GPU",
  "colab": {
   "collapsed_sections": [],
   "machine_shape": "hm",
   "name": "logistic_regression.ipynb",
   "provenance": [],
   "toc_visible": true
  },
  "kernelspec": {
   "display_name": "Python 3",
   "language": "python",
   "name": "python3"
  },
  "language_info": {
   "codemirror_mode": {
    "name": "ipython",
    "version": 3
   },
   "file_extension": ".py",
   "mimetype": "text/x-python",
   "name": "python",
   "nbconvert_exporter": "python",
   "pygments_lexer": "ipython3",
   "version": "3.6.8"
  }
 },
 "nbformat": 4,
 "nbformat_minor": 5
}
