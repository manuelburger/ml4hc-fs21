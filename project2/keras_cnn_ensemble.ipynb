{
 "cells": [
  {
   "cell_type": "markdown",
   "id": "d0ba6c6a",
   "metadata": {},
   "source": [
    "This notebook was used to combine the results of the trained CNN models and analyze the results."
   ]
  },
  {
   "cell_type": "code",
   "execution_count": 1,
   "id": "designing-ideal",
   "metadata": {},
   "outputs": [],
   "source": [
    "import numpy as np\n",
    "import pandas as pd\n",
    "import matplotlib.pyplot as plt\n",
    "import seaborn as sns\n",
    "\n",
    "import tensorflow as tf\n",
    "import keras\n",
    "from tensorflow.keras.utils import to_categorical\n",
    "\n",
    "from sklearn.metrics import (\n",
    "    roc_auc_score, f1_score, confusion_matrix,\n",
    "    plot_precision_recall_curve, plot_roc_curve)\n",
    "\n",
    "from sklearn.metrics import (\n",
    "    roc_auc_score, f1_score, balanced_accuracy_score,\n",
    "    average_precision_score, precision_recall_curve,\n",
    "    confusion_matrix, auc, roc_curve,\n",
    "    plot_precision_recall_curve, plot_roc_curve,\n",
    "    recall_score, precision_score, auc)\n",
    "\n",
    "from cf_matrix import make_confusion_matrix\n",
    "from data_io import get_data, balance_out\n",
    "from data_representation import (\n",
    "    kmer_counts, one_hot_encoding, kmer_embeddings)\n",
    "\n",
    "%matplotlib inline\n",
    "%load_ext autoreload\n",
    "%autoreload 2"
   ]
  },
  {
   "cell_type": "markdown",
   "id": "gothic-metadata",
   "metadata": {},
   "source": [
    "## Data"
   ]
  },
  {
   "cell_type": "code",
   "execution_count": 2,
   "id": "stainless-explorer",
   "metadata": {},
   "outputs": [],
   "source": [
    "k = 1\n",
    "species = 'human'\n",
    "form = 'split'\n",
    "kmer_representation = 'dense'"
   ]
  },
  {
   "cell_type": "code",
   "execution_count": null,
   "id": "bde5eb43",
   "metadata": {},
   "outputs": [],
   "source": [
    "X_val_raw, y_val = get_data(species, form=form, mode='val', k=k)"
   ]
  },
  {
   "cell_type": "code",
   "execution_count": null,
   "id": "e38b41f4",
   "metadata": {},
   "outputs": [],
   "source": [
    "X_test_raw, y_test = get_data(species, form=form, mode='test', k=k)"
   ]
  },
  {
   "cell_type": "code",
   "execution_count": null,
   "id": "11bc8005",
   "metadata": {},
   "outputs": [],
   "source": [
    "X_hidden_raw, _ = get_data(species, form=form, mode='hidden', k=k)"
   ]
  },
  {
   "cell_type": "code",
   "execution_count": 6,
   "id": "4b77d656",
   "metadata": {},
   "outputs": [],
   "source": [
    "y_val[y_val < 0] = 0\n",
    "y_test[y_test < 0] = 0"
   ]
  },
  {
   "cell_type": "markdown",
   "id": "interior-advocacy",
   "metadata": {},
   "source": [
    "### Representation"
   ]
  },
  {
   "cell_type": "code",
   "execution_count": null,
   "id": "maritime-contributor",
   "metadata": {},
   "outputs": [],
   "source": [
    "X_val_1_hot = one_hot_encoding(X_val_raw, k=k,form='2d')\n",
    "X_test_1_hot = one_hot_encoding(X_test_raw, k=k,form='2d')\n",
    "X_hidden_1_hot = one_hot_encoding(X_hidden_raw, k=k,form='2d')\n",
    "\n",
    "X_val_dense = kmer_embeddings(X_val_raw, k=6, to_split=True)\n",
    "X_test_dense = kmer_embeddings(X_test_raw, k=6, to_split=True)\n",
    "X_hidden_dense = kmer_embeddings(X_hidden_raw, k=6, to_split=True)"
   ]
  },
  {
   "cell_type": "code",
   "execution_count": null,
   "id": "bff7ed61",
   "metadata": {},
   "outputs": [],
   "source": [
    "print(X_val_1_hot.shape)\n",
    "print(X_test_1_hot.shape)\n",
    "print(X_hidden_1_hot.shape)"
   ]
  },
  {
   "cell_type": "code",
   "execution_count": null,
   "id": "annual-joyce",
   "metadata": {},
   "outputs": [],
   "source": [
    "cy_val = to_categorical(y_val)\n",
    "cy_test = to_categorical(y_test)"
   ]
  },
  {
   "cell_type": "markdown",
   "id": "d691a303",
   "metadata": {},
   "source": [
    "### Predictions"
   ]
  },
  {
   "cell_type": "markdown",
   "id": "04b196a3",
   "metadata": {},
   "source": [
    "Here, predictions for each of the trained models were made on all 3 non-training data sets. The results were stored for later averaging."
   ]
  },
  {
   "cell_type": "code",
   "execution_count": null,
   "id": "d9c0fc36",
   "metadata": {},
   "outputs": [],
   "source": [
    "model_names_1_hot = [\n",
    "\t'submit_keras_cnn_1_hot_0.model',\n",
    "\t'submit_keras_cnn_1_hot_1.model',\n",
    "\t'submit_keras_cnn_1_hot_10.model',\n",
    "\t'submit_keras_cnn_1_hot_11.model',\n",
    "\t'submit_keras_cnn_1_hot_12.model',\n",
    "\t'submit_keras_cnn_1_hot_13.model',\n",
    "\t'submit_keras_cnn_1_hot_14.model',\n",
    "\t'submit_keras_cnn_1_hot_2.model',\n",
    "\t'submit_keras_cnn_1_hot_3.model',\n",
    "\t'submit_keras_cnn_1_hot_4.model'\n",
    "]\n",
    "\n",
    "model_names_dense = [\n",
    "\t'submit_keras_cnn_dense_0.model',\n",
    "\t'submit_keras_cnn_dense_1.model',\n",
    "\t'submit_keras_cnn_dense_10.model',\n",
    "\t'submit_keras_cnn_dense_11.model',\n",
    "\t'submit_keras_cnn_dense_2.model',\n",
    "\t'submit_keras_cnn_dense_20.model',\n",
    "\t'submit_keras_cnn_dense_21.model',\n",
    "\t'submit_keras_cnn_dense_22.model',\n",
    "\t'submit_keras_cnn_dense_23.model',\n",
    "\t'submit_keras_cnn_dense_24.model',\n",
    "\t'submit_keras_cnn_dense_3.model'\n",
    "]"
   ]
  },
  {
   "cell_type": "code",
   "execution_count": null,
   "id": "6a16972b",
   "metadata": {},
   "outputs": [],
   "source": [
    "model_categories = [model_names_1_hot, model_names_dense]"
   ]
  },
  {
   "cell_type": "code",
   "execution_count": 13,
   "id": "3a33620d",
   "metadata": {},
   "outputs": [],
   "source": [
    "for ii, model_names in enumerate(model_categories):\n",
    "    \n",
    "    category = '1-hot' if ii == 0 else 'dense'\n",
    "    \n",
    "    X_val = X_val_1_hot if ii == 0 else X_val_dense\n",
    "    X_test = X_test_1_hot if ii == 0 else X_test_dense\n",
    "    X_hidden = X_hidden_1_hot if ii == 0 else X_hidden_dense\n",
    "    \n",
    "    for model_name in model_names:\n",
    "\n",
    "        model = keras.models.load_model(model_name)\n",
    "\n",
    "        model_no = model_name.split('_')[-1].split('.')[0]\n",
    "\n",
    "        y_pred_val = model.predict(X_val)\n",
    "        y_probs_val = y_pred_val[:, 1]\n",
    "\n",
    "        y_pred_test = model.predict(X_test)\n",
    "        y_probs_test = y_pred_test[:, 1]\n",
    "\n",
    "        y_pred_hidden = model.predict(X_hidden)\n",
    "        y_probs_hidden = y_pred_hidden[:, 1]\n",
    "\n",
    "        pd.DataFrame(y_probs_val).to_csv(\n",
    "            f'./predictions/proba_val_human_cnn_{category}_m{model_no}.csv')\n",
    "        pd.DataFrame(y_probs_test).to_csv(\n",
    "            f'./predictions/proba_test_human_cnn_{category}_m{model_no}.csv')\n",
    "        pd.DataFrame(y_probs_hidden).to_csv(\n",
    "            f'./predictions/proba_hidden_human_cnn_{category}_m{model_no}.csv')"
   ]
  },
  {
   "cell_type": "markdown",
   "id": "87ddf3d8",
   "metadata": {},
   "source": [
    "## Ensemble"
   ]
  },
  {
   "cell_type": "markdown",
   "id": "26411c97",
   "metadata": {},
   "source": [
    "We take each models' predictions and average them to obtain the final results"
   ]
  },
  {
   "cell_type": "code",
   "execution_count": 7,
   "id": "981c8508",
   "metadata": {},
   "outputs": [],
   "source": [
    "pred_files_val = np.asarray([\n",
    "    'proba_val_human_cnn_1-hot_m0.csv',\n",
    "    'proba_val_human_cnn_1-hot_m10.csv',\n",
    "    'proba_val_human_cnn_1-hot_m11.csv',\n",
    "    'proba_val_human_cnn_1-hot_m12.csv',\n",
    "    'proba_val_human_cnn_1-hot_m13.csv',\n",
    "    'proba_val_human_cnn_1-hot_m14.csv',\n",
    "    'proba_val_human_cnn_1-hot_m1.csv',\n",
    "    'proba_val_human_cnn_1-hot_m2.csv',\n",
    "    'proba_val_human_cnn_1-hot_m3.csv',\n",
    "    'proba_val_human_cnn_1-hot_m4.csv',\n",
    "    'proba_val_human_cnn_dense_m0.csv',\n",
    "    'proba_val_human_cnn_dense_m10.csv',\n",
    "    'proba_val_human_cnn_dense_m11.csv',\n",
    "    'proba_val_human_cnn_dense_m1.csv',\n",
    "    'proba_val_human_cnn_dense_m20.csv',\n",
    "    'proba_val_human_cnn_dense_m21.csv',\n",
    "    'proba_val_human_cnn_dense_m22.csv',\n",
    "    'proba_val_human_cnn_dense_m23.csv',\n",
    "    'proba_val_human_cnn_dense_m24.csv',\n",
    "    'proba_val_human_cnn_dense_m2.csv',\n",
    "    'proba_val_human_cnn_dense_m3.csv'\n",
    "])\n",
    "\n",
    "pred_files_test = np.asarray([\n",
    "    'proba_test_human_cnn_1-hot_m0.csv',\n",
    "    'proba_test_human_cnn_1-hot_m10.csv',\n",
    "    'proba_test_human_cnn_1-hot_m11.csv',\n",
    "    'proba_test_human_cnn_1-hot_m12.csv',\n",
    "    'proba_test_human_cnn_1-hot_m13.csv',\n",
    "    'proba_test_human_cnn_1-hot_m14.csv',\n",
    "    'proba_test_human_cnn_1-hot_m1.csv',\n",
    "    'proba_test_human_cnn_1-hot_m2.csv',\n",
    "    'proba_test_human_cnn_1-hot_m3.csv',\n",
    "    'proba_test_human_cnn_1-hot_m4.csv',\n",
    "    'proba_test_human_cnn_dense_m0.csv',\n",
    "    'proba_test_human_cnn_dense_m10.csv',\n",
    "    'proba_test_human_cnn_dense_m11.csv',\n",
    "    'proba_test_human_cnn_dense_m1.csv',\n",
    "    'proba_test_human_cnn_dense_m20.csv',\n",
    "    'proba_test_human_cnn_dense_m21.csv',\n",
    "    'proba_test_human_cnn_dense_m22.csv',\n",
    "    'proba_test_human_cnn_dense_m23.csv',\n",
    "    'proba_test_human_cnn_dense_m24.csv',\n",
    "    'proba_test_human_cnn_dense_m2.csv',\n",
    "    'proba_test_human_cnn_dense_m3.csv'\n",
    "])\n",
    "\n",
    "pred_files_hidden = np.asarray([\n",
    "    'proba_hidden_human_cnn_1-hot_m0.csv',\n",
    "    'proba_hidden_human_cnn_1-hot_m10.csv',\n",
    "    'proba_hidden_human_cnn_1-hot_m11.csv',\n",
    "    'proba_hidden_human_cnn_1-hot_m12.csv',\n",
    "    'proba_hidden_human_cnn_1-hot_m13.csv',\n",
    "    'proba_hidden_human_cnn_1-hot_m14.csv',\n",
    "    'proba_hidden_human_cnn_1-hot_m1.csv',\n",
    "    'proba_hidden_human_cnn_1-hot_m2.csv',\n",
    "    'proba_hidden_human_cnn_1-hot_m3.csv',\n",
    "    'proba_hidden_human_cnn_1-hot_m4.csv',\n",
    "    'proba_hidden_human_cnn_dense_m0.csv',\n",
    "    'proba_hidden_human_cnn_dense_m10.csv',\n",
    "    'proba_hidden_human_cnn_dense_m11.csv',\n",
    "    'proba_hidden_human_cnn_dense_m1.csv',\n",
    "    'proba_hidden_human_cnn_dense_m20.csv',\n",
    "    'proba_hidden_human_cnn_dense_m21.csv',\n",
    "    'proba_hidden_human_cnn_dense_m22.csv',\n",
    "    'proba_hidden_human_cnn_dense_m23.csv',\n",
    "    'proba_hidden_human_cnn_dense_m24.csv',\n",
    "    'proba_hidden_human_cnn_dense_m2.csv',\n",
    "    'proba_hidden_human_cnn_dense_m3.csv'\n",
    "])"
   ]
  },
  {
   "cell_type": "code",
   "execution_count": 9,
   "id": "0537a17f",
   "metadata": {},
   "outputs": [],
   "source": [
    "preds_val, preds_test, preds_hidden = [], [], []\n",
    "\n",
    "val_scores, test_scores = [], []\n",
    "\n",
    "for f in pred_files_val:\n",
    "    ps = pd.read_csv(f'./predictions/cnn_individual_models/{f}')\n",
    "    preds_val.append(ps['0'].to_numpy())\n",
    "    val_scores.append(average_precision_score(y_val, ps['0'].to_numpy()))\n",
    "\n",
    "for f in pred_files_test:\n",
    "    ps = pd.read_csv(f'./predictions/cnn_individual_models/{f}')\n",
    "    preds_test.append(ps['0'].to_numpy())\n",
    "    test_scores.append(average_precision_score(y_test, ps['0'].to_numpy()))\n",
    "    \n",
    "for f in pred_files_hidden:\n",
    "    ps = pd.read_csv(f'./predictions/cnn_individual_models/{f}')\n",
    "    preds_hidden.append(ps['0'].to_numpy())"
   ]
  },
  {
   "cell_type": "markdown",
   "id": "b3aa7a3e",
   "metadata": {},
   "source": [
    "#### Examination"
   ]
  },
  {
   "cell_type": "code",
   "execution_count": 10,
   "id": "4f24f6f5",
   "metadata": {},
   "outputs": [],
   "source": [
    "val_scores = np.asarray(val_scores)\n",
    "test_scores = np.asarray(test_scores)"
   ]
  },
  {
   "cell_type": "code",
   "execution_count": 11,
   "id": "07d9b5e7",
   "metadata": {},
   "outputs": [
    {
     "name": "stdout",
     "output_type": "stream",
     "text": [
      "[0.00255003 0.24533462 0.25221897 0.28284551 0.29228803 0.30721046\n",
      " 0.31691169 0.31931336 0.32168459 0.32176959 0.32469433 0.33003719\n",
      " 0.33316228 0.35015745 0.35447714 0.3591608  0.37109458 0.37252987\n",
      " 0.37800455 0.39714333 0.4225955 ]\n",
      "[0.00312003 0.38453995 0.40821516 0.42201209 0.42334046 0.42612461\n",
      " 0.43181256 0.43496964 0.43732642 0.43986597 0.44504237 0.4468902\n",
      " 0.44800109 0.45119758 0.46451524 0.4661517  0.46641868 0.47678358\n",
      " 0.49058167 0.49134615 0.50675261]\n"
     ]
    }
   ],
   "source": [
    "print(val_scores[np.argsort(val_scores)])\n",
    "print(test_scores[np.argsort(test_scores)])"
   ]
  },
  {
   "cell_type": "code",
   "execution_count": 12,
   "id": "2f42c69e",
   "metadata": {},
   "outputs": [],
   "source": [
    "args = np.argsort(val_scores)"
   ]
  },
  {
   "cell_type": "markdown",
   "id": "0ea7ca4c",
   "metadata": {},
   "source": [
    "We discard the worst 5 predictions since not all models converged well"
   ]
  },
  {
   "cell_type": "markdown",
   "id": "eba697e3",
   "metadata": {},
   "source": [
    "#### Predictions"
   ]
  },
  {
   "cell_type": "code",
   "execution_count": 14,
   "id": "08720eb0",
   "metadata": {},
   "outputs": [],
   "source": [
    "preds_val = np.array(preds_val)\n",
    "preds_test = np.array(preds_test)\n",
    "preds_hidden = np.array(preds_hidden)"
   ]
  },
  {
   "cell_type": "markdown",
   "id": "500a0a71",
   "metadata": {},
   "source": [
    "We only keep the predictions of the high-scoring models"
   ]
  },
  {
   "cell_type": "code",
   "execution_count": 15,
   "id": "b1b958c9",
   "metadata": {},
   "outputs": [],
   "source": [
    "preds_val = preds_val[args[5:], :]\n",
    "preds_test = preds_test[args[5:], :]\n",
    "preds_hidden = preds_hidden[args[5:], :]"
   ]
  },
  {
   "cell_type": "code",
   "execution_count": 16,
   "id": "6d11a020",
   "metadata": {},
   "outputs": [],
   "source": [
    "y_preds_val_ensemble = np.mean(preds_val, axis=0)\n",
    "y_preds_test_ensemble = np.mean(preds_test, axis=0)\n",
    "y_preds_hidden_ensemble = np.mean(preds_hidden, axis=0)"
   ]
  },
  {
   "cell_type": "markdown",
   "id": "f1c67df1",
   "metadata": {},
   "source": [
    "We examine the metrics on the validation and the test data sets"
   ]
  },
  {
   "cell_type": "code",
   "execution_count": 17,
   "id": "8a498597",
   "metadata": {},
   "outputs": [
    {
     "name": "stdout",
     "output_type": "stream",
     "text": [
      "AUROC = 0.9722541470871313.\n",
      "AUPRC = 0.4709979384600259.\n"
     ]
    }
   ],
   "source": [
    "print(f'AUROC = {roc_auc_score(y_val, y_preds_val_ensemble)}.')\n",
    "print(f'AUPRC = {average_precision_score(y_val, y_preds_val_ensemble)}.')"
   ]
  },
  {
   "cell_type": "code",
   "execution_count": 18,
   "id": "d6809472",
   "metadata": {},
   "outputs": [
    {
     "name": "stdout",
     "output_type": "stream",
     "text": [
      "AUROC = 0.981317002988585.\n",
      "AUPRC = 0.6071560461069506.\n"
     ]
    }
   ],
   "source": [
    "print(f'AUROC = {roc_auc_score(y_test, y_preds_test_ensemble)}.')\n",
    "print(f'AUPRC = {average_precision_score(y_test, y_preds_test_ensemble)}.')"
   ]
  },
  {
   "cell_type": "markdown",
   "id": "3282b89b",
   "metadata": {},
   "source": [
    "#### Plots"
   ]
  },
  {
   "cell_type": "code",
   "execution_count": 19,
   "id": "2e81ec4b",
   "metadata": {},
   "outputs": [
    {
     "data": {
      "text/plain": [
       "[Text(0.5, 0, 'Recall\\n\\nPRC AUC=0.6072'),\n",
       " Text(0, 0.5, 'Precision'),\n",
       " Text(0.5, 1.0, 'PR Curve')]"
      ]
     },
     "execution_count": 19,
     "metadata": {},
     "output_type": "execute_result"
    },
    {
     "data": {
      "image/png": "[encoded data removed]",
      "text/plain": [
       "<Figure size 1152x360 with 2 Axes>"
      ]
     },
     "metadata": {
      "needs_background": "light"
     },
     "output_type": "display_data"
    }
   ],
   "source": [
    "fig, axes = plt.subplots(1, 2, figsize=(16, 5))\n",
    "\n",
    "fpr, tpr, tresh_roc = roc_curve(y_test.ravel(), y_preds_test_ensemble.ravel())\n",
    "precision, recall, tresh_roc = precision_recall_curve(y_test.ravel(), y_preds_test_ensemble.ravel())\n",
    "\n",
    "roc_auc = roc_auc_score(y_test, y_preds_test_ensemble)\n",
    "prc_auc = average_precision_score(y_test, y_preds_test_ensemble)\n",
    "\n",
    "sns.lineplot(ax=axes[0], x=fpr, y=tpr)\n",
    "axes[0].set(xlabel='False Positive Rate (1-specificity)' + '\\n\\nROC AUC={:0.4f}'.format(roc_auc), ylabel='True Positive Rate (Recall)', title='ROC Curve')\n",
    "\n",
    "sns.lineplot(ax=axes[1], x=recall, y=precision)\n",
    "axes[1].set(xlabel='Recall'+ '\\n\\nPRC AUC={:0.4f}'.format(prc_auc), ylabel='Precision' , title='PR Curve')"
   ]
  },
  {
   "cell_type": "markdown",
   "id": "0315e8ad",
   "metadata": {},
   "source": [
    "#### Store results"
   ]
  },
  {
   "cell_type": "code",
   "execution_count": null,
   "id": "23d71eba",
   "metadata": {},
   "outputs": [],
   "source": [
    "pd.DataFrame(y_preds_hidden_ensemble).to_csv(\n",
    "    \"./predictions/proba_human_hidden_cnn_ensemble_submit.csv\")"
   ]
  },
  {
   "cell_type": "code",
   "execution_count": 20,
   "id": "64273519",
   "metadata": {},
   "outputs": [],
   "source": [
    "pd.DataFrame(y_preds_test_ensemble).to_csv(\n",
    "    \"./predictions/proba_human_test_cnn_ensemble_submit.csv\")"
   ]
  },
  {
   "cell_type": "code",
   "execution_count": 21,
   "id": "884b4e77",
   "metadata": {},
   "outputs": [],
   "source": [
    "pd.DataFrame(y_preds_val_ensemble).to_csv(\n",
    "    \"./predictions/proba_human_val_cnn_ensemble_submit.csv\")"
   ]
  }
 ],
 "metadata": {
  "kernelspec": {
   "display_name": "Python 3",
   "language": "python",
   "name": "python3"
  },
  "language_info": {
   "codemirror_mode": {
    "name": "ipython",
    "version": 3
   },
   "file_extension": ".py",
   "mimetype": "text/x-python",
   "name": "python",
   "nbconvert_exporter": "python",
   "pygments_lexer": "ipython3",
   "version": "3.7.10"
  }
 },
 "nbformat": 4,
 "nbformat_minor": 5
}
